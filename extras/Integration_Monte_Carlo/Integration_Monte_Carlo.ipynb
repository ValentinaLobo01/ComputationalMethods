{
 "cells": [
  {
   "cell_type": "markdown",
   "id": "grave-filename",
   "metadata": {},
   "source": [
    "* talk about homeworks (only Wednesday)\n",
    "* check the feedback (GitHub)\n",
    "* partial exam\n",
    "* language thing..."
   ]
  },
  {
   "cell_type": "markdown",
   "id": "downtown-durham",
   "metadata": {},
   "source": [
    "# Monte Carlo...\n",
    "\n",
    "John von Neumann, Manhattan project, Casino...\n",
    "\n",
    "<table><tr>\n",
    "<td> <img src=\"imgs/monte_carlo_wikipedia.png\" width=\"1000\" /> </td>\n",
    "</tr></table>\n",
    "\n",
    "https://en.wikipedia.org/wiki/Monte_Carlo_method\n",
    "\n",
    "<table><tr>\n",
    "<td> <img src=\"imgs/monaco_map.png\" width=\"500\" /> </td>\n",
    "</tr></table>\n",
    "\n",
    "<table><tr>\n",
    "<td> <img src=\"imgs/monaco_monte_carlo.png\" width=\"500\" /> </td>\n",
    "</tr></table>\n",
    "\n",
    "<table><tr>\n",
    "<td> <img src=\"imgs/casino_outside.png\" width=\"500\" /> </td>\n",
    "</tr></table>\n",
    "\n",
    "<table><tr>\n",
    "<td> <img src=\"imgs/casino.png\" width=\"500\" /> </td>\n",
    "</tr></table>\n",
    "\n"
   ]
  },
  {
   "cell_type": "markdown",
   "id": "interesting-retirement",
   "metadata": {},
   "source": [
    "### Monte Carlo Methods is not just one method, it is a family of methds\n",
    "* those examples of methods are for you to have a collection of methods and techniques\n",
    "* recall minimization\n",
    "* advantages and disadvantages of MC methods"
   ]
  },
  {
   "cell_type": "markdown",
   "id": "french-peripheral",
   "metadata": {},
   "source": [
    "After this class you should know:\n",
    "* difference between Riemann sum integral and Monte Carlo method\n",
    "* say at least two methods of calculating integral using MC\n",
    "* explain briefly how they work\n",
    "* whats the disadvantage of Monte Carlo Method\n",
    "* whats the advantage of Monte Carlo Method"
   ]
  },
  {
   "cell_type": "markdown",
   "id": "comparable-stanford",
   "metadata": {},
   "source": [
    "MC methods all share the concept of using randomly drawn samples to compute a solution to a given problem. These problems generally come in two main categories:\n",
    "\n",
    "* simulation: Monte Carlo or random sampling is used to run a simulation. If you want to compute the time it will take to go from point A to point B, given some conditions such as the chances that it will rain on your journey or that it will snow, the chances that there will be a traffic jam, that you will have to stop on your way to get some gas, etc. you can set these conditions at the start of your simulation and run the simulation 1,000 times to get an estimated time. As usual, the higher the number of runs or trials (here 1,000), the better your estimate.\n",
    "    \n",
    "* integration: contrary to the Riemann sum technique here the spacing between the segments is not necessarily the same. Here we will consider two ways of calculating integrals using MC methods: \n",
    " 1. Monte Carlo: Von Neumann aka acceptance-rejection method\n",
    " 2. Monte Carlo: Mean value method = Expectation value"
   ]
  },
  {
   "cell_type": "markdown",
   "id": "subsequent-commodity",
   "metadata": {},
   "source": [
    "### Justification of the MC methods\n",
    "Most numerical methods to calcualte integrals like trapezoid, Simpson (Riemann sum techniques) or quad are generally converging faster than MC methods. However as the dimension of the integrals increase, these methods often become computationally expensive where the Monte Carlo ones can still provide with reasonably good estimate at a fixed computational cost. For this reason, for complex integrals, MC methods are generally a better solution (despite their pretty bad convergence rate).\n",
    "\n",
    "* basically in most applications one uses quad method from the scipy library its fast!\n",
    "* Monte Carlo is good for complex multidimensional integrals \n",
    "  * its very simple\n",
    "  * but its slow"
   ]
  },
  {
   "cell_type": "markdown",
   "id": "encouraging-thong",
   "metadata": {},
   "source": [
    " ## 1. Monte Carlo: Von Neumann aka acceptance-rejection method\n",
    " \n",
    "Lets imagine a complicated integral \n",
    "<table><tr>\n",
    "<td> <img src=\"imgs/complex_integral_MC.png\" width=\"500\" /> </td>\n",
    "</tr></table>\n",
    "\n",
    "How can we calculate it numerically using one MC method (Von Neumann aka acceptance-rejection method)\n",
    "* we can randomly choose couple of numbers $(x_i,y_i)$ from the range of the domain of the function\n",
    "* count the fraction of points where $y_i \\leq f(x_i) $ with respect to the area of the known surface (in this case)\n",
    "\n",
    "<table><tr>\n",
    "<td> <img src=\"imgs/acceptance_rejection_complex_function.png\" width=\"400\" /> </td>\n",
    "</tr></table>"
   ]
  },
  {
   "cell_type": "markdown",
   "id": "prospective-wagon",
   "metadata": {},
   "source": [
    "## Example of using acceptance-rejection method to calculate $\\pi$"
   ]
  },
  {
   "cell_type": "markdown",
   "id": "framed-tomato",
   "metadata": {},
   "source": [
    "Imagine, you want to calculate the area of a circle, but you didn’t know anything about $\\pi$. Instead, you chose to surround the circle by a square, for which you do know how to calculate the area.\n",
    "\n",
    "$$f(x) = \\sqrt{1-x^2}$$\n",
    "\n",
    "$$A_{circ} = \\int_{-1}^{1} f(x) \\ dx = \\pi \\frac{r^2}{2}$$\n",
    "\n",
    "$$A_{rec} = \\Delta_y \\cdot \\Delta_x$$\n",
    "\n",
    "$$\\frac{n}{N} \\propto \\frac{A_{circ}}{A_{rec}} = \\frac{\\pi r^2 / 2}{\\Delta_y \\cdot \\Delta_x}$$\n",
    "\n",
    "$$\\pi \\propto 4 \\frac{n}{N} $$\n",
    "\n",
    "<table><tr>\n",
    "<td> <img src=\"imgs/acceptance_rejection_pi.png\" width=\"400\" /> </td>\n",
    "</tr></table>"
   ]
  },
  {
   "cell_type": "markdown",
   "id": "active-privacy",
   "metadata": {},
   "source": [
    "## Realization of the acceptance-rejection method to calculate $\\pi$\n",
    "\n",
    "<table><tr>\n",
    "<td> <img src=\"imgs/circ1.png\" width=\"200\" /> </td>\n",
    "</tr></table>\n",
    "\n",
    "Now, we throw darts at the paper and we take a tally of total number of darts that were thrown as well as the darts that land inside the circle.\n",
    "\n",
    "*the key here is the randomness!!!\n",
    "\n",
    "<table><tr>\n",
    "<td> <img src=\"imgs/circ2.png\" width=\"200\" /> </td>\n",
    "<td> <img src=\"imgs/circ3.png\" width=\"200\" /> </td>\n",
    "<td> <img src=\"imgs/circ5.png\" width=\"200\" /> </td>\n",
    "</tr></table>\n",
    "\n",
    "\n",
    "\n",
    "* we throw one time: $\\ $  $\\rightarrow$ inside the circe 01, total 01\n",
    "* we throw three times: $\\rightarrow$ inside the circe 02, total 03\n",
    "* we throw fifty times: $\\rightarrow$ inside the circe 40, total 50\n",
    "\n",
    "\n",
    "\n",
    "So, 40 out of 50 darts are inside the circle, or in other words: $80 \\%$. \n",
    "\n",
    "So, assuming the darts were thrown randomly, I could approximate the area of the circle by $A_c\\approx 0.8 A_s$.\n",
    "\n",
    "As we make square 2x2 then the radius is 1 and the area will be exactly $A_c=\\pi$ \n",
    "\n",
    "If the square has an area of 4 units, then\n",
    "$ A_c= 4.0 * 0.8 = \\color{red}{\\text{3.2}}  \\approx \\pi r^2 = 3.1415$\n",
    "\n",
    "*but we threw only 50 times! What happens if we throw million times?\n",
    "\n",
    "\n"
   ]
  },
  {
   "cell_type": "code",
   "execution_count": 1,
   "id": "otherwise-adjustment",
   "metadata": {},
   "outputs": [],
   "source": [
    "import math, random\n",
    "import numpy as np\n",
    " \n",
    "def isPointInCircle(x, y, Cx, Cy, radius):\n",
    "    return math.sqrt((x - Cx)**2 + (y - Cy)**2) <= radius\n",
    " \n",
    "def approximateCircleArea(radius, numberOfPoints):\n",
    "    squareSide = radius*2\n",
    "    Cx = radius\n",
    "    Cy = radius\n",
    " \n",
    "    pointsInside = 0\n",
    "    for i in range(numberOfPoints):\n",
    "        x = random.random()*squareSide\n",
    "        y = random.random()*squareSide\n",
    " \n",
    "        if (isPointInCircle(x, y, Cx, Cy, radius)):\n",
    "            pointsInside = pointsInside + 1\n",
    " \n",
    "    return pointsInside / numberOfPoints * squareSide**2"
   ]
  },
  {
   "cell_type": "code",
   "execution_count": 2,
   "id": "pursuant-symposium",
   "metadata": {},
   "outputs": [
    {
     "name": "stdout",
     "output_type": "stream",
     "text": [
      "Monte Carlo pi:  3.14005\n",
      "Numpy pi      :  3.14159\n",
      "error: 0.049 %\n"
     ]
    }
   ],
   "source": [
    "pimc=approximateCircleArea(1.0,1000000)\n",
    "print('Monte Carlo pi: ', format(pimc, \".5f\"))\n",
    "print('Numpy pi      : ', format(np.pi, \".5f\"))\n",
    "\n",
    "print('error:', format(abs((np.pi-pimc)/np.pi)*100, \"2.2\") ,'%')"
   ]
  },
  {
   "cell_type": "markdown",
   "id": "authorized-caribbean",
   "metadata": {},
   "source": [
    "## 2. Monte Carlo: Expectation (mean) value method"
   ]
  },
  {
   "cell_type": "markdown",
   "id": "closing-indication",
   "metadata": {},
   "source": [
    "Lets assume that we remember statistics.... \n",
    "\n",
    "And from the statistics we know that the expectation value is (numerically is a mean or average value):\n",
    "\n",
    "$$E(X) = \\frac{1}{b-a} \\int_{a}^{b} f(x) \\ dx $$\n",
    "\n",
    "$$(b-a) E(X) =  \\int_{a}^{b} f(x) \\ dx $$\n",
    "\n",
    "expectation value is basically a mean value (average)\n",
    "\n",
    "$$ E(X) = \\frac{1}{N} \\sum_i f(x_i)$$\n",
    "\n",
    "$$(b-a) \\frac{1}{N} \\sum_i f(x_i) \\approx  \\int_{a}^{b} f(x) \\ dx $$\n",
    "\n",
    "$$I \\approx (b-a) \\frac{1}{N}\\sum_{i=1}^{N} f(x_i)$$\n",
    "\n",
    "This implies that we can find an approximation of an interval by calculating the average value times the range that we integrate.\n",
    "\n",
    "In other word multiply the mean by the range only!!\n",
    "\n",
    "*comment: this should look familiar as $\\frac{(b-a)}{N} = \\Delta_x$"
   ]
  },
  {
   "cell_type": "markdown",
   "id": "supposed-mixture",
   "metadata": {},
   "source": [
    "### Derivation of the EXPECTATION VALUE: $E(X)$ \n",
    "\n",
    "Definition from a book on statistics:\n",
    "\n",
    "$$E(X) = \\int f(X) P(X) \\ dX $$\n",
    "\n",
    "where P(X) is the PDF Probability Density Function of the variable X\n",
    "\n",
    "<table><tr>\n",
    "<td> <img src=\"imgs/pdf_normal.png\" width=\"400\" /> </td>\n",
    "</tr></table>\n",
    "\n",
    "Thats why:\n",
    "\n",
    "$$E(X) = \\frac{1}{b-a} \\int_{a}^{b} f(x) \\ dx $$\n"
   ]
  },
  {
   "cell_type": "markdown",
   "id": "green-plasma",
   "metadata": {},
   "source": [
    "<table><tr>\n",
    "<td> <img src=\"imgs/uniform_vs_normal_distribution.png\" width=\"400\" /> </td>\n",
    "</tr></table>\n",
    "\n",
    "And you can already see that this first: \"flat\" distribution is the uniform distribution that it is need for the calculation\n",
    "\n",
    "We want uniformly distributed $x_i$ becase we want to \"probe\" the function as with equal probability."
   ]
  },
  {
   "cell_type": "markdown",
   "id": "arctic-gross",
   "metadata": {},
   "source": [
    "### Easy remembering forms:\n",
    "\n",
    "$$ \\int_{a}^{b} f(x) \\ dx  \\approx mean_{f(x)} (b-a) $$\n",
    "\n",
    "$$ \\int_{a}^{b} \\int_{c}^{d} f(x,y) \\ dx \\ dy \\approx mean_{f(x,y)} (b-a)(d-c) $$\n",
    "\n",
    "$$ \\int_{a}^{b} \\int_{c}^{d} \\int_{e}^{f} f(x,y,z) \\ dx \\ dy \\ dz \\approx mean_{f(x,y,z)} (f-e)(d-c)(b-a) $$\n",
    "\n",
    "*soon it will be clear the power of Monte Carlo Method!"
   ]
  },
  {
   "cell_type": "markdown",
   "id": "exterior-vessel",
   "metadata": {},
   "source": [
    "### Example 1\n",
    "\n",
    "$$ \\int_{5}^{20} \\frac{x}{(x+1)^3} \\ dx$$\n",
    "\n",
    "$$ \\int_{5}^{20} \\frac{x}{(x+1)^3} \\ dx \\approx (b-a) \\frac{1}{N}\\sum_{i=1}^{N} \\frac{x_i}{(x_i+1)^3} = mean_{f(x)} (b-a) $$\n",
    "where $x_i$ is the random number from the set of uniformly distributed random numbers\n",
    "(the more the better)\n",
    "\n",
    "Recipe:\n",
    "\n",
    "* Declare the variables\n",
    "  * a=5; b=20; N=1000\n",
    "  \n",
    "  \n",
    "* generate uniformly distributed numbers from a to b (from 5 to 20)\n",
    "  * x=np.random.uniform(a,b,N)\n",
    "  * x_i = np.random.uniform(a,b)\n",
    "  \n",
    "  \n",
    "* evaluate the function at those points\n",
    "  * def integrand(x): return x/(1+x)**3\n",
    "  * y=integrand(x)\n",
    "  \n",
    "  \n",
    "* calculate the mean of the function \n",
    "  * mean_y=np.mean(y)\n",
    "  \n",
    "  \n",
    "* multiply the mean by (b-a)\n",
    "  * mean_y*(b-a)"
   ]
  },
  {
   "cell_type": "code",
   "execution_count": 3,
   "id": "varied-configuration",
   "metadata": {},
   "outputs": [
    {
     "name": "stdout",
     "output_type": "stream",
     "text": [
      "0.10612739704355582\n"
     ]
    }
   ],
   "source": [
    "import numpy as np\n",
    "import scipy.integrate as integrate\n",
    "\n",
    "E=0\n",
    "N = 100000\n",
    "a = 5.0\n",
    "b = 20.0\n",
    "\n",
    "for i in range(N):\n",
    "    x = np.random.uniform(a,b)\n",
    "    E=E + x/((1+x)**3)\n",
    "    \n",
    "E=E/N    \n",
    "print(E*(b-a))\n"
   ]
  },
  {
   "cell_type": "markdown",
   "id": "generic-integration",
   "metadata": {},
   "source": [
    "or"
   ]
  },
  {
   "cell_type": "code",
   "execution_count": 4,
   "id": "orange-performer",
   "metadata": {},
   "outputs": [
    {
     "name": "stdout",
     "output_type": "stream",
     "text": [
      "0.10634493554321003\n",
      "0.10634493554321003\n"
     ]
    }
   ],
   "source": [
    "# vectorize the above\n",
    "import numpy as np\n",
    "\n",
    "N = 1000000\n",
    "a = 5.0\n",
    "b = 20.0\n",
    "x = np.random.uniform(a,b,N)\n",
    "y = x/((1+x)**3)\n",
    "print(np.mean(y)*(b-a))\n",
    "\n",
    "# or more elegantly\n",
    "def integrand(x):\n",
    "    return x/((1+x)**3)\n",
    "print(np.mean(integrand(x))*(b-a))\n"
   ]
  },
  {
   "cell_type": "code",
   "execution_count": 5,
   "id": "integrated-championship",
   "metadata": {},
   "outputs": [
    {
     "data": {
      "text/plain": [
       "(array([  7.,  36.,  88., 205., 264., 229., 100.,  51.,  15.,   5.]),\n",
       " array([0.08329776, 0.08827342, 0.09324909, 0.09822475, 0.10320042,\n",
       "        0.10817608, 0.11315174, 0.11812741, 0.12310307, 0.12807874,\n",
       "        0.1330544 ]),\n",
       " <a list of 10 Patch objects>)"
      ]
     },
     "execution_count": 5,
     "metadata": {},
     "output_type": "execute_result"
    },
    {
     "data": {
      "image/png": "[encoded data removed]",
      "text/plain": [
       "<Figure size 432x288 with 1 Axes>"
      ]
     },
     "metadata": {
      "needs_background": "light"
     },
     "output_type": "display_data"
    }
   ],
   "source": [
    "import matplotlib.pyplot as plt\n",
    "def integrand(x):\n",
    "    return x/((1+x)**3)\n",
    "\n",
    "Is=[]\n",
    "for i in range(1000):\n",
    "    x = np.random.uniform(5,20,100)\n",
    "    I=0\n",
    "    I=np.mean(integrand(x))*(b-a)\n",
    "#    print(I)\n",
    "    Is.append(I)\n",
    "#print(Is)    \n",
    "plt.hist(Is)"
   ]
  },
  {
   "cell_type": "markdown",
   "id": "opponent-african",
   "metadata": {},
   "source": [
    "### Compare with scipy QUAD"
   ]
  },
  {
   "cell_type": "code",
   "execution_count": 6,
   "id": "peripheral-ethernet",
   "metadata": {},
   "outputs": [
    {
     "name": "stdout",
     "output_type": "stream",
     "text": [
      "0.10629251700680273\n"
     ]
    }
   ],
   "source": [
    "# using quad\n",
    "import scipy.integrate as integrate\n",
    "I,error=integrate.quad(integrand,5,20)\n",
    "print(I)"
   ]
  },
  {
   "cell_type": "markdown",
   "id": "physical-pursuit",
   "metadata": {},
   "source": [
    "double check:\n",
    "\n",
    "https://www.wolframalpha.com"
   ]
  },
  {
   "cell_type": "markdown",
   "id": "liable-physics",
   "metadata": {},
   "source": [
    "### Intuitive explanation:\n",
    "But after all this still sounds quite strange.\n",
    "Why the integral is just mean value of the function multiplied by range??\n",
    "\n",
    "<table><tr>\n",
    "<td> <img src=\"imgs/area_mean_range2.png\" width=\"400\" /> </td>\n",
    "</tr></table>\n",
    "\n",
    "That sounds unbelievable becase the function can have many shapes so how come?\n",
    "\n",
    "\n",
    "Because of the statistics, which works only if its really random :\n",
    "\n",
    "<table><tr>\n",
    "<td> <img src=\"imgs/area_mean_range3.png\" width=\"800\" /> </td>\n",
    "</tr></table>\n"
   ]
  },
  {
   "cell_type": "markdown",
   "id": "brazilian-nicaragua",
   "metadata": {},
   "source": [
    "## Homework \n",
    "\n",
    "Calculate the following integral:\n",
    "\n",
    "$\\int_{0}^{4} \\sqrt[4]{15 x^3 + 21x^2 + 41x + 3} \\cdot e^{-0.5x} dx$\n",
    "\n",
    "using Monte Carlo Mean Value method\n",
    "\n",
    "then plot the value of the integral vs number of iterations (check the convergence):\n",
    "\n",
    "N=[10,100,1000,10000,100000,1000000]\n",
    "\n",
    "and on the same graph plot the value of the integral using scipy quad method \n",
    "\n",
    "*the scipy quad will give a constant horizontal line while MC should show some oscillations"
   ]
  },
  {
   "cell_type": "markdown",
   "id": "brutal-ownership",
   "metadata": {},
   "source": [
    "## Extra - multiple integral "
   ]
  },
  {
   "cell_type": "markdown",
   "id": "amended-temple",
   "metadata": {},
   "source": [
    "Lets imagine an integral:\n",
    "$$ \\int_{\\pi}^{2 \\pi} \\int_{0}^{\\pi} y sin(x) + x cos(y) \\ dy \\ dx $$"
   ]
  },
  {
   "cell_type": "markdown",
   "id": "sound-maximum",
   "metadata": {},
   "source": [
    "### Scipy is faster but requires some skills to program the function...\n",
    "* to appreciate the Monte Carlo Method lets try to do it using scipy quad:\n",
    "\n",
    "https://docs.scipy.org/doc/scipy/reference/generated/scipy.integrate.nquad.html"
   ]
  },
  {
   "cell_type": "code",
   "execution_count": 7,
   "id": "descending-police",
   "metadata": {},
   "outputs": [
    {
     "name": "stdout",
     "output_type": "stream",
     "text": [
      "-9.869604401089354\n"
     ]
    }
   ],
   "source": [
    "import numpy as np\n",
    "from scipy import integrate\n",
    "def f(*args):\n",
    "    x, y = args\n",
    "    return y * np.sin(x) + x * np.cos(y)\n",
    "\n",
    "I,error=integrate.nquad(f,[[np.pi,2*np.pi],[0,np.pi]])\n",
    "print(I)\n",
    "# it's a trick. It works but requires some documentation study..."
   ]
  },
  {
   "cell_type": "markdown",
   "id": "flush-nightlife",
   "metadata": {},
   "source": [
    "### But Monte carlo method is still simple"
   ]
  },
  {
   "cell_type": "markdown",
   "id": "important-delicious",
   "metadata": {},
   "source": [
    "$$ \\int_{a}^{b} \\int_{c}^{d} f(x,y) \\ dx \\ dy \\approx mean_{f(x,y)} (b-a)(d-c) $$\n",
    "$$ \\int_{\\pi}^{2 \\pi} \\int_{0}^{\\pi} y sin(x) + x cos(y) \\ dy \\ dx $$"
   ]
  },
  {
   "cell_type": "code",
   "execution_count": 16,
   "id": "micro-medline",
   "metadata": {},
   "outputs": [
    {
     "name": "stdout",
     "output_type": "stream",
     "text": [
      "-9.99117152171761\n"
     ]
    }
   ],
   "source": [
    "E=0\n",
    "N=100000\n",
    "\n",
    "a=np.pi\n",
    "b=2*np.pi\n",
    "c=0\n",
    "d=np.pi\n",
    "\n",
    "for i in range(N):\n",
    "    x = np.random.uniform(a,b)\n",
    "    y = np.random.uniform(c,d)\n",
    "    E = E + y * np.sin(x) + x * np.cos(y)\n",
    "E=E/N        \n",
    "print(E*(b-a)*(d-c))"
   ]
  },
  {
   "cell_type": "markdown",
   "id": "domestic-embassy",
   "metadata": {},
   "source": [
    "## Another example (from the partial exam):\n"
   ]
  },
  {
   "cell_type": "markdown",
   "id": "military-thomson",
   "metadata": {},
   "source": [
    "Resolver la integral usando el método de Monte Carlo\n",
    "\n",
    "$$I = \\int_0^{\\pi/2} \\int_0^{1} cos(x) \\ exp(y) \\ dy \\ dx$$\n"
   ]
  },
  {
   "cell_type": "code",
   "execution_count": 108,
   "id": "competitive-anger",
   "metadata": {},
   "outputs": [
    {
     "name": "stdout",
     "output_type": "stream",
     "text": [
      "I_MC= 1.7232594858750967\n",
      "I_exact= 1.718281828459045\n"
     ]
    }
   ],
   "source": [
    "import numpy as np\n",
    "N=100000\n",
    "E=0.0\n",
    "#N=1000\n",
    "a=0.0\n",
    "b=0.5*np.pi\n",
    "c=0.0\n",
    "d=1.0\n",
    "\n",
    "for i in range(N):\n",
    "    x = np.random.uniform(a,b)\n",
    "    y = np.random.uniform(c,d)\n",
    "    E = E +  np.cos(x) * np.exp(y)\n",
    "E=E/N      \n",
    "I=E*(b-a)*(d-c)\n",
    "print('I_MC=',I)\n",
    "print('I_exact=',np.e-1)"
   ]
  },
  {
   "cell_type": "markdown",
   "id": "satellite-healing",
   "metadata": {},
   "source": [
    "* one can also do this in a loop 100 times and pick the mean value!!!! "
   ]
  },
  {
   "cell_type": "code",
   "execution_count": 85,
   "id": "aggressive-longitude",
   "metadata": {},
   "outputs": [],
   "source": [
    "import numpy as np\n",
    "def montecf(N):\n",
    "    E=0.0\n",
    "    a=0.0\n",
    "    b=0.5*np.pi\n",
    "    c=0.0\n",
    "    d=1.0\n",
    "\n",
    "    for i in range(N):\n",
    "        x = np.random.uniform(a,b)\n",
    "        y = np.random.uniform(c,d)\n",
    "        E = E +  np.cos(x) * np.exp(y)\n",
    "    E=E/N      \n",
    "    I=E*(b-a)*(d-c)\n",
    "    return I"
   ]
  },
  {
   "cell_type": "code",
   "execution_count": 106,
   "id": "colonial-elite",
   "metadata": {},
   "outputs": [
    {
     "name": "stdout",
     "output_type": "stream",
     "text": [
      "I_MC= 1.7174176706011226\n",
      "I_exact= 1.718281828459045\n"
     ]
    },
    {
     "data": {
      "image/png": "[encoded data removed]",
      "text/plain": [
       "<Figure size 432x288 with 1 Axes>"
      ]
     },
     "metadata": {
      "needs_background": "light"
     },
     "output_type": "display_data"
    }
   ],
   "source": [
    "import matplotlib.pyplot as plt\n",
    "Is=[]\n",
    "for i in range(1000):\n",
    "    I=0.0\n",
    "    I=montecf(1000)\n",
    "#    print(I)\n",
    "    Is.append(I)\n",
    "#print(Is)    \n",
    "\n",
    "plt.hist(Is,10)\n",
    "Imean=np.mean(Is)\n",
    "print('I_MC=',Imean)\n",
    "print('I_exact=',np.e-1)"
   ]
  },
  {
   "cell_type": "code",
   "execution_count": 81,
   "id": "infectious-dimension",
   "metadata": {},
   "outputs": [
    {
     "name": "stdout",
     "output_type": "stream",
     "text": [
      "I_MC= 1.7181905649357716\n",
      "I_exact= 1.718281828459045\n"
     ]
    },
    {
     "data": {
      "image/png": "[encoded data removed]",
      "text/plain": [
       "<Figure size 432x288 with 1 Axes>"
      ]
     },
     "metadata": {
      "needs_background": "light"
     },
     "output_type": "display_data"
    }
   ],
   "source": []
  },
  {
   "cell_type": "markdown",
   "id": "intensive-surge",
   "metadata": {},
   "source": []
  },
  {
   "cell_type": "markdown",
   "id": "attempted-integer",
   "metadata": {},
   "source": [
    "### Questions\n",
    "* difference between Riemann sum integral and Monte Carlo method\n",
    "* say at least two methods of calculating integral using MC\n",
    "* explain briefly how they work\n",
    "* when can you use quad, simpsons, trapezoid methods and when MC method"
   ]
  },
  {
   "cell_type": "code",
   "execution_count": null,
   "id": "amateur-comparative",
   "metadata": {},
   "outputs": [],
   "source": []
  }
 ],
 "metadata": {
  "kernelspec": {
   "display_name": "Python 3",
   "language": "python",
   "name": "python3"
  },
  "language_info": {
   "codemirror_mode": {
    "name": "ipython",
    "version": 3
   },
   "file_extension": ".py",
   "mimetype": "text/x-python",
   "name": "python",
   "nbconvert_exporter": "python",
   "pygments_lexer": "ipython3",
   "version": "3.7.2"
  }
 },
 "nbformat": 4,
 "nbformat_minor": 5
}
