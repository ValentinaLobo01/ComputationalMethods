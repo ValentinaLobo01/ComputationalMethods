{
 "cells": [
  {
   "cell_type": "markdown",
   "id": "loose-killing",
   "metadata": {},
   "source": [
    "# Regression 2\n",
    "\n",
    "Error analysis of the linear regression"
   ]
  },
  {
   "cell_type": "markdown",
   "id": "ordinary-screen",
   "metadata": {},
   "source": [
    "## Dictionary:\n",
    "* goodness of fit - calidad del ajuste\n",
    "* spread - extension?\n",
    "* spread of the distribution - propagación de la distribución\n",
    "* mean - promedio\n",
    "* width - anchura (ancho)\n",
    "* wealth - riqueza\n",
    "* salary - salario\n",
    "* citizens - ciudadanos\n",
    "* guess - adivinar\n",
    "* wider - mas ancho\n",
    "* recall - recordarse\n",
    "* hence - por eso, entonces"
   ]
  },
  {
   "cell_type": "markdown",
   "id": "distinguished-folks",
   "metadata": {},
   "source": [
    "## Order of the class:\n",
    "* error analysis - three types of error:\n",
    "   * Data spread or standard error of the regression (characterizes the data)\n",
    "   * R-squared $R^2$ or percentage error of the regression (characterizes the data)\n",
    "   * goodness of fit or quality of fit: $\\chi^2$ chi-squared or (MSE) (characterizes the fit)\n",
    "   * error of the individual fit coefficients (characterizes the fit)\n"
   ]
  },
  {
   "cell_type": "markdown",
   "id": "regulation-syria",
   "metadata": {},
   "source": [
    "## .... a little bit on mean, spread and error\n",
    "* lets imagine we have two cities in two different countries $city \\ 1$ and $city \\ 2$\n",
    "* each city has the same number of habitants 10.000\n",
    "* in each city the average salary is the same 2000 USD/ month\n",
    "* the average salary is not everything that would characterize the wealth of its citizens"
   ]
  },
  {
   "cell_type": "code",
   "execution_count": 1,
   "id": "natural-latest",
   "metadata": {},
   "outputs": [
    {
     "data": {
      "text/plain": [
       "<matplotlib.legend.Legend at 0x7f5d75af5940>"
      ]
     },
     "execution_count": 1,
     "metadata": {},
     "output_type": "execute_result"
    },
    {
     "data": {
      "image/png": "[encoded data removed]",
      "text/plain": [
       "<Figure size 432x288 with 1 Axes>"
      ]
     },
     "metadata": {
      "needs_background": "light"
     },
     "output_type": "display_data"
    }
   ],
   "source": [
    "import matplotlib.pyplot as plt\n",
    "import numpy as np\n",
    "mu1,sigma1 = 2000,100.1\n",
    "s_normal = np.random.normal(mu1, sigma1, 10000)\n",
    "fig,ax=plt.subplots(1,1)\n",
    "bins=30\n",
    "ax.hist(s_normal,bins,label='city 1')\n",
    "ax.set_xlim(0,2*mu1)\n",
    "ax.legend()"
   ]
  },
  {
   "cell_type": "code",
   "execution_count": 2,
   "id": "valued-anxiety",
   "metadata": {},
   "outputs": [
    {
     "data": {
      "text/plain": [
       "<matplotlib.legend.Legend at 0x7f5d2cf70748>"
      ]
     },
     "execution_count": 2,
     "metadata": {},
     "output_type": "execute_result"
    },
    {
     "data": {
      "image/png": "[encoded data removed]",
      "text/plain": [
       "<Figure size 432x288 with 1 Axes>"
      ]
     },
     "metadata": {
      "needs_background": "light"
     },
     "output_type": "display_data"
    }
   ],
   "source": [
    "import matplotlib.pyplot as plt\n",
    "import numpy as np\n",
    "mu1,sigma1 = 2000,600.1\n",
    "s_normal = np.random.normal(mu1, sigma1, 10000)\n",
    "fig,ax=plt.subplots(1,1)\n",
    "bins=30\n",
    "ax.hist(s_normal,bins,label='city 2')\n",
    "ax.set_xlim(0,2*mu1)\n",
    "ax.legend()"
   ]
  },
  {
   "cell_type": "markdown",
   "id": "geographic-royalty",
   "metadata": {},
   "source": [
    "* in both cities the mean (average salary) is the same $\\mu=$2000\n",
    "* the difference is spread or $\\sigma$ (sigma)\n",
    "* sigma means deviation from the mean\n",
    "* clearly in the the second distribution the deviation from the mean is higher\n",
    "* spread $\\sigma$ is in general the half of the width at 0.6 hight of the distribution."
   ]
  },
  {
   "cell_type": "markdown",
   "id": "analyzed-cardiff",
   "metadata": {},
   "source": [
    "# in which city is it easier to predict the salary?\n",
    "* in city 1 because the spread (variation is smaller)\n",
    "* in city 2 guessing the salary we make a bigger error because of its wider spread"
   ]
  },
  {
   "cell_type": "markdown",
   "id": "dying-award",
   "metadata": {},
   "source": [
    "### Going back to Physics and regression"
   ]
  },
  {
   "cell_type": "markdown",
   "id": "practical-error",
   "metadata": {},
   "source": [
    "## Recall the problem from the previous class"
   ]
  },
  {
   "cell_type": "markdown",
   "id": "fresh-medicare",
   "metadata": {},
   "source": [
    "A body is moving under the influence of an external force, the variation of the position measured for different \n",
    "times are compiled in table 1. \n",
    "\n",
    "| t(s) | x(m) | v(m/s)         \n",
    "| :------: |:-------------: | :-------:|\n",
    "|0| 2.76 | 33.10\n",
    "| 1.11| 29.66 | 21.33\n",
    "| 2.22|46.83 | 16.57\n",
    "|3.33 | 44.08 |-5.04\n",
    "| 4.44| 37.26| -11.74\n",
    "| 5.55| 12.03| -27.32| \n",
    "\n",
    "data: $v_i(t_i)$\n",
    "\n",
    "* $v_i$ are the data points\n"
   ]
  },
  {
   "cell_type": "code",
   "execution_count": 3,
   "id": "ultimate-northern",
   "metadata": {},
   "outputs": [
    {
     "data": {
      "text/plain": [
       "<matplotlib.legend.Legend at 0x7f5d2ce579b0>"
      ]
     },
     "execution_count": 3,
     "metadata": {},
     "output_type": "execute_result"
    },
    {
     "data": {
      "image/png": "[encoded data removed]",
      "text/plain": [
       "<Figure size 432x288 with 1 Axes>"
      ]
     },
     "metadata": {
      "needs_background": "light"
     },
     "output_type": "display_data"
    }
   ],
   "source": [
    "import numpy as np\n",
    "import matplotlib.pyplot as plt\n",
    "t=np.array([0,1.11, 2.22,3.33, 4.44, 5.55])\n",
    "v=np.array([ 33.10, 21.33, 16.57,-5.04, -11.74, -27.32])\n",
    "fig,ax=plt.subplots(1,1)\n",
    "ax.plot(t,v,'sb', label='data')\n",
    "ax.set_xlabel('t')\n",
    "ax.set_ylabel('v(t)')\n",
    "ax.legend()"
   ]
  },
  {
   "cell_type": "markdown",
   "id": "every-constitutional",
   "metadata": {},
   "source": [
    "## Recall the linear regression"
   ]
  },
  {
   "cell_type": "markdown",
   "id": "equal-logan",
   "metadata": {},
   "source": [
    "Knowing that the problem is linear\n",
    "we are looking for a function that minimizes the sum of the squares of the residuals:\n",
    "\n",
    "$$\n",
    "E = E(a_0,a_1) = \\sum_{i=1}^{m}[y_i - f(x_i)]^2 \n",
    "$$\n",
    "\n",
    "$$\n",
    "E = E(a_0,a_1) = \\sum_{i=1}^{m}[y_i - (a_1 x_i + a_0)]^2 \n",
    "$$\n",
    "where:\n",
    "\n",
    "$$S_i=y_i - (a_1 x_i + a_0)$$\n",
    "are residuals\n",
    "\n",
    "$$\n",
    "E = \\sum_{i=1}^{m}[S_i]^2 \n",
    "$$\n",
    "\n",
    "$a_0,a_1=$?"
   ]
  },
  {
   "cell_type": "markdown",
   "id": "biblical-albany",
   "metadata": {},
   "source": [
    "### ...using the more complicated code:"
   ]
  },
  {
   "cell_type": "code",
   "execution_count": 4,
   "id": "swiss-purchase",
   "metadata": {},
   "outputs": [
    {
     "data": {
      "image/png": "[encoded data removed]",
      "text/plain": [
       "<Figure size 576x360 with 1 Axes>"
      ]
     },
     "metadata": {
      "needs_background": "light"
     },
     "output_type": "display_data"
    }
   ],
   "source": [
    "import numpy as np\n",
    "import matplotlib.pyplot as plt\n",
    "\n",
    "# Finding adjusting parameters \n",
    "def Linear_least_square( x,y ):\n",
    "    \n",
    "    #Finding coefficients \n",
    "    length = len(x)\n",
    "    square_x = np.sum([x[i]**2 for i in range(length)])\n",
    "    sum_xy = np.sum([x[i]*y[i] for i in range(length)])\n",
    "    sum_x = np.sum(x)\n",
    "    sum_y = np.sum(y)\n",
    "    a0 = ( square_x*sum_y - sum_xy*sum_x ) / ( length*square_x  - sum_x**2 )\n",
    "    a1 = ( length*sum_xy - sum_x*sum_y ) / ( length*square_x  - sum_x**2 )\n",
    "    \n",
    "    #Returning a_0 and a_1 coefficients\n",
    "    return np.array([a0,a1])\n",
    "\n",
    "#Line function adjusting the data set\n",
    "def Line(a0,a1,x):\n",
    "    return a0+a1*x\n",
    "\n",
    "#========================================================\n",
    "# Adjusting to a first order polynomial the data set v \n",
    "#========================================================\n",
    "#Setting figure\n",
    "plt.figure( figsize = (8,5) )\n",
    "\n",
    "#Time\n",
    "t = np.array([ 0.,  1.11,  2.22,  3.33,  4.44, 5.55])\n",
    "\n",
    "#Velocities measured for every time t[i]\n",
    "v = np.array([33.10, 21.33, 16.57, -5.04, -11.74, -27.32])\n",
    "\n",
    "#Making data adjust\n",
    "a0, a1 = Linear_least_square( t,v )\n",
    "\n",
    "#Finding error associated to linear approximation\n",
    "E = np.sum([ ( v[i] - Line(a0,a1,t[i]) )**2  for i in range(len(t))])\n",
    "\n",
    "#Plotting solution\n",
    "plt.plot( t, Line(a0,a1,t), \".-\", lw = 3.,color = \"green\",label=\"Lineal adjust\" )\n",
    "plt.plot( t, v, \".\",color = \"blue\", label = \"Data set\" )\n",
    "for i in range(len(t)):\n",
    "    plt.plot(np.array([t[i],t[i]]), np.array([v[i],Line(a0,a1,t[i])]),\"c-\")\n",
    "    \n",
    "#Format of figure\n",
    "plt.xlabel( \"$t(s)$\", fontsize = 18 )\n",
    "plt.ylabel( \"$v(m/s)$\", fontsize = 18 )\n",
    "plt.xlim( (t[0], t[-1]) )\n",
    "plt.ylim( (v[-1], v[0]) )\n",
    "plt.title(\"Linear data adjust with error %f\"%E)\n",
    "plt.legend()\n",
    "plt.grid(1)\n"
   ]
  },
  {
   "cell_type": "code",
   "execution_count": 5,
   "id": "entire-flush",
   "metadata": {},
   "outputs": [
    {
     "name": "stdout",
     "output_type": "stream",
     "text": [
      "The coefficients are:\n",
      "a1=-10.89 \n",
      "a0=34.69 \n",
      "\n",
      "Hence the function that minimizes the residuals is:\n",
      "f(x)=-10.89x  + 34.69\n"
     ]
    }
   ],
   "source": [
    "print('The coefficients are:')\n",
    "print(f'a1={a1:.2f} ')\n",
    "print(f'a0={a0:.2f} ')\n",
    "print()\n",
    "print('Hence the function that minimizes the residuals is:')\n",
    "print(f'f(x)={a1:.2f}x  + {a0:.2f}')"
   ]
  },
  {
   "cell_type": "markdown",
   "id": "premier-stocks",
   "metadata": {},
   "source": [
    "$$\n",
    "E =  \\sum_{i=1}^{m}[v_i - f(x)]^2 \n",
    "$$\n",
    "\n",
    "because of the general formula:\n",
    "\n",
    "$$\n",
    "E =  \\sum_{i=1}^{m}[y_i - f(x)]^2 \n",
    "$$"
   ]
  },
  {
   "cell_type": "markdown",
   "id": "alive-remove",
   "metadata": {},
   "source": [
    "# Error analysis:"
   ]
  },
  {
   "cell_type": "markdown",
   "id": "super-partnership",
   "metadata": {},
   "source": [
    "### Data spread or standard error of the regression\n",
    "* The standard error of the regression provides the absolute measure of the typical distance that the data points fall from the regression line. S is in the units of the dependent variable.\n",
    "\n",
    "* Standard deviation of estimate or spread of data around the regression line\n",
    "\n",
    "\n",
    "<img src=\"imgs/std_regression.png\" width=\"300\" />\n",
    "\n",
    "\n",
    "$$\n",
    "E =  \\sum_{i=1}^{m}[y_i - (a_1 x_i + a_0)]^2 \n",
    "$$\n",
    "\n",
    "$$\n",
    "E = \\sum_{i=1}^{m}[S_i]^2 \n",
    "$$ \n",
    "\n",
    "$$ S_{y/x}= \\sqrt{\\frac{E}{m-2}}$$"
   ]
  },
  {
   "cell_type": "code",
   "execution_count": 6,
   "id": "human-drinking",
   "metadata": {},
   "outputs": [
    {
     "name": "stdout",
     "output_type": "stream",
     "text": [
      "Standard error: 3.840310131325584\n"
     ]
    }
   ],
   "source": [
    "Std_xy=np.sqrt(E/(len(t)-2))\n",
    "print('Standard error:', Std_xy)"
   ]
  },
  {
   "cell_type": "markdown",
   "id": "southern-carrier",
   "metadata": {},
   "source": [
    "### R-squared $R^2$\n",
    "\n",
    "* R-squared is a statistical measure of the percentage of how close the data are to the fitted regression line. It is also known as the coefficient of determination, or the coefficient of multiple determination for multiple regression.\n",
    "\n",
    "The definition of R-squared is fairly straight-forward; it is the percentage of the response variable variation that is explained by a linear model. Or:\n",
    "\n",
    "R-squared = Explained variation / Total variation\n",
    "\n",
    "R-squared is always between 0 and 100%:\n",
    "\n",
    "    0% indicates that the model explains none of the variability of the response data around its mean.\n",
    "    100% indicates that the model explains all the variability of the response data around its mean.\n",
    "\n",
    "In general, the higher the R-squared, the better the model fits your data. \n",
    "\n",
    "<img src=\"imgs/R2_vs_R2.png\" width=\"600\" />\n",
    "\n",
    "* how do we calculate $R^2$:\n",
    "\n",
    "$$R^2=\\frac{SS_{regression}}{SS_{total}} $$\n",
    "\n",
    "where:\n",
    "\n",
    "$SS_{regression} = $(Sum of the Squares of the regression)\n",
    "\n",
    "$$ \n",
    "SS_{regression}  = \\sum_{i=1}^{m}[y_i - (a_1 x_i + a_0)]^2 = E\n",
    "$$\n",
    "\n",
    "$SS_{total} = $(Total Sum of the Squares)\n",
    "\n",
    "$$ \n",
    "SS_{total}  = \\sum_{i=1}^{m}[y_i - \\bar{y}]^2 = E\n",
    "$$\n",
    "where $\\bar{y}$ its just an average of all the $y's$"
   ]
  },
  {
   "cell_type": "code",
   "execution_count": 7,
   "id": "saving-athens",
   "metadata": {},
   "outputs": [
    {
     "name": "stdout",
     "output_type": "stream",
     "text": [
      "R_squared= 0.9774336425333997\n"
     ]
    }
   ],
   "source": [
    "# R2=1−SS_regr/SS_tot\n",
    "SS_regr=E\n",
    "SS_tot=np.sum((v-np.mean(v))**2.0)\n",
    "R_squared = 1.0 - (SS_regr)/(SS_tot) \n",
    "print('R_squared=',R_squared)"
   ]
  },
  {
   "cell_type": "markdown",
   "id": "emotional-tuning",
   "metadata": {},
   "source": [
    "## Difference between relative ($R^2$) and absolute measure ($S$)\n",
    "*taken from internet\n",
    "\n",
    "Suppose we're talking about how fast a car is traveling. R-squared is equivalent to saying that the car went 80% faster. That sounds a lot faster! However, it makes a huge difference whether the initial speed was 20 Km/h or 90 Km/h. The increased velocity based on the percentage can be either 16 Km/h or 72 Km/h, respectively. One is lame, and the other is very impressive. If you need to know exactly how much faster, the relative measure just isn’t going to tell you.\n",
    "\n",
    "The residual standard error is equivalent to telling you directly how many MPH faster the car is traveling. The car went 72 Km/h faster. Now that’s impressive!"
   ]
  },
  {
   "cell_type": "markdown",
   "id": "central-agriculture",
   "metadata": {},
   "source": [
    "## Goodness of fit \n",
    "(if one wants to know how well the data is fitted )\n",
    "\n",
    "                    *better fit               *worse fit"
   ]
  },
  {
   "cell_type": "markdown",
   "id": "dated-removal",
   "metadata": {},
   "source": [
    "<table><tr>\n",
    "<td> <img src=\"imgs/good_fit.png\" width=\"200\" /> </td>\n",
    "<td> <img src=\"imgs/bad_fit.png\" width=\"200\" /> </td>    \n",
    "</tr></table>"
   ]
  },
  {
   "cell_type": "markdown",
   "id": "front-effect",
   "metadata": {},
   "source": [
    "* how well the data is fitted can be also quantified\n",
    "\n",
    "* compare the residuals of each fit:\n",
    "$$\n",
    "MSE = \\frac{1}{m} \\sum_{i=1}^{m}[y_i - f(x_i)]^2 \n",
    "$$\n",
    "\n",
    "* or use another quantificator called $\\chi^2$\n",
    "\n",
    "$$\n",
    "\\chi^2 = \\sum \\frac{(y_i - f(x_i))^2}{\\sigma}\n",
    "$$"
   ]
  },
  {
   "cell_type": "code",
   "execution_count": 30,
   "id": "finished-wheel",
   "metadata": {},
   "outputs": [
    {
     "name": "stdout",
     "output_type": "stream",
     "text": [
      "MSE=  9.831987936507948\n",
      "\n",
      "chi-squared=  15.361240525302335\n"
     ]
    }
   ],
   "source": [
    "MSE=E/len(t)\n",
    "print('MSE= ',MSE)\n",
    "print()\n",
    "chi_squared = np.sum([ ( v[i] - Line(a0,a1,t[i]))**2 / Std_xy  for i in range(len(t))])\n",
    "print('chi-squared= ',chi_squared)\n"
   ]
  },
  {
   "cell_type": "markdown",
   "id": "ordinary-promise",
   "metadata": {},
   "source": [
    "## Error of the slope and the interception"
   ]
  },
  {
   "cell_type": "markdown",
   "id": "familiar-sunset",
   "metadata": {},
   "source": [
    "* Before we looked at a general error of the fit: absolute and percentage, MSE, $\\chi^2$\n",
    "\n",
    "* But if we want to know the error of each of the components of the fitting: meaning the error of the $a_1$ & $a_0$? \n",
    "* so the errors of the slope ($a_1$) and interception ($a_0$)\n",
    "* this may get a bit more complicated\n",
    "* but after it gets simplified thanks to scipy.optimize...\n"
   ]
  },
  {
   "cell_type": "markdown",
   "id": "failing-element",
   "metadata": {},
   "source": [
    "### The procedure to calculate the errors of slope and interception:"
   ]
  },
  {
   "cell_type": "markdown",
   "id": "danish-retail",
   "metadata": {},
   "source": [
    "\\begin{align*}\n",
    "S_x=\\sum{x_i}  & & S_y=\\sum{y_i} \\\\\n",
    "S_{xx}=\\sum{x_i^2} & & S_{yx}=\\sum{y_i^2} \\\\\n",
    "S_{xy}=\\sum{x_i y_i}\n",
    "\\end{align*}\n",
    "\n",
    "$$S_{\\epsilon^2} = \\frac{1}{m(m-2)} \\left[m S_{yy} -S_y^2 - a_1^2 (mS_{xx} - S_x^2) \\right]$$\n",
    "\n",
    "finally:\n",
    "\n",
    "the error of the slope is:\n",
    "$$E_{a_1}=\\sqrt{\\frac{S_{\\epsilon^2}}{mS_{xx}-S_x^2}}$$\n",
    "the error of the interception is:\n",
    "$$E_{a_0}=\\sqrt{E_{a_1}^2 \\frac{1}{m} S_{xx}}$$\n",
    "\n"
   ]
  },
  {
   "cell_type": "code",
   "execution_count": 9,
   "id": "powerful-brooks",
   "metadata": {},
   "outputs": [
    {
     "name": "stdout",
     "output_type": "stream",
     "text": [
      "a1= -10.89 +/- 0.83\n",
      "a0= 34.69 +/- 2.78\n"
     ]
    }
   ],
   "source": [
    "Sx=np.sum(t)\n",
    "Sy=np.sum(v)\n",
    "\n",
    "Sxx=np.sum([(t[i])**2  for i in range(len(t))])\n",
    "Syy=np.sum([(v[i])**2  for i in range(len(t))])\n",
    "Sxy=np.sum([(t[i]*v[i])  for i in range(len(t))])\n",
    "\n",
    "Se2=(1/(len(t)*(len(t)-2))) * (len(t)*Syy - Sy**2 - a1**2 * (len(t)*Sxx - Sx**2))\n",
    "\n",
    "Ea1=np.sqrt(len(t)*Se2/(len(t)*Sxx-Sx**2))\n",
    "Ea0=np.sqrt(Ea1**2*Sxx/len(t))\n",
    "\n",
    "print(f'a1= {a1:.2f} +/- {Ea1:.2f}')\n",
    "print(f'a0= {a0:.2f} +/- {Ea0:.2f}')\n"
   ]
  },
  {
   "cell_type": "markdown",
   "id": "confidential-textbook",
   "metadata": {},
   "source": [
    "## All the above ($R^2$, MSE, slope and interception errors)  but using scipy.optimize.curve_fit\n",
    "the power and simplicity of scipy:"
   ]
  },
  {
   "cell_type": "code",
   "execution_count": 10,
   "id": "green-backing",
   "metadata": {},
   "outputs": [],
   "source": [
    "def func(x, a1, a0):\n",
    "    return a1 * x + a0\n",
    "t = np.array([ 0.,  1.11,  2.22,  3.33,  4.44, 5.55])\n",
    "v = np.array([33.10, 21.33, 16.57, -5.04, -11.74, -27.32])\n",
    "xdata=t\n",
    "ydata=v\n",
    "p0=np.array([1.0,1.0])\n",
    "from scipy.optimize import curve_fit\n",
    "popt, pcov = curve_fit(func, xdata, ydata, p0, method='lm')"
   ]
  },
  {
   "cell_type": "code",
   "execution_count": 29,
   "id": "charged-television",
   "metadata": {},
   "outputs": [
    {
     "name": "stdout",
     "output_type": "stream",
     "text": [
      "Linear regression details:\n",
      "a1 = -10.89 +/- 0.83\n",
      "a0 = 34.69  +/- 2.78\n",
      "R_squared = 0.98\n",
      "MSE = 9.83\n"
     ]
    }
   ],
   "source": [
    "# errors:\n",
    "perr = np.sqrt(np.diag(pcov))\n",
    "# R-squared\n",
    "residuals = ydata- func(xdata, *popt)\n",
    "ss_res = np.sum(residuals**2)\n",
    "ss_tot = np.sum((ydata-np.mean(ydata))**2)\n",
    "R_squared = 1 - (ss_res / ss_tot)\n",
    "MSE=np.sum(residuals**2)/len(t)\n",
    "\n",
    "print('Linear regression details:')\n",
    "print(f'a1 = {popt[0]:.2f} +/- {perr[0]:.2f}')\n",
    "print(f'a0 = {popt[1]:.2f}  +/- {perr[1]:.2f}')\n",
    "print(f'R_squared = {R_squared:.2f}')\n",
    "print(f'MSE = {MSE:.2f}')\n"
   ]
  },
  {
   "cell_type": "code",
   "execution_count": null,
   "id": "naughty-grove",
   "metadata": {},
   "outputs": [],
   "source": []
  }
 ],
 "metadata": {
  "kernelspec": {
   "display_name": "Python 3",
   "language": "python",
   "name": "python3"
  },
  "language_info": {
   "codemirror_mode": {
    "name": "ipython",
    "version": 3
   },
   "file_extension": ".py",
   "mimetype": "text/x-python",
   "name": "python",
   "nbconvert_exporter": "python",
   "pygments_lexer": "ipython3",
   "version": "3.7.2"
  }
 },
 "nbformat": 4,
 "nbformat_minor": 5
}
