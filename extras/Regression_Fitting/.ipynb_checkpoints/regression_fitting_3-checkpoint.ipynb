{
 "cells": [
  {
   "cell_type": "markdown",
   "id": "finnish-neighbor",
   "metadata": {},
   "source": [
    "## Why spending two classes on regression and fitting?"
   ]
  },
  {
   "cell_type": "markdown",
   "id": "dirty-forest",
   "metadata": {},
   "source": [
    "## Dictionary:\n",
    "* bell shape - forma de campana\n",
    "* match - hacer pareja \n",
    "* reach - alcanze(ar) \n",
    "* describe - describir\n",
    "* useful - util\n",
    "* knowledge -conocimiento\n",
    "* anticipate - anticipar\n",
    "* guy - hombre, chico... cosa"
   ]
  },
  {
   "cell_type": "markdown",
   "id": "thick-little",
   "metadata": {},
   "source": [
    "### Order of the class\n",
    "* applications of fitting, example\n",
    "http://fisica.udea.edu.co:8080/IdealGas\n",
    "* recap on distribution (gaussian/normal)\n",
    "* Ideal gas and Maxwell-Boltzmann distribution\n",
    "* finding temperature of the ideal gas using fitting (scipy.curve_fit)"
   ]
  },
  {
   "cell_type": "markdown",
   "id": "brutal-capture",
   "metadata": {},
   "source": [
    "* in the first classon regression we analysed how regression (ajuste) works\n",
    "* in the second we analysed the error of the regression. We used random numbers to generate the histogram (normal distribution) of this bell shape, we compare two different distributions with different spread, explained what is $\\sigma$...\n",
    "* but the distribution has many \"applications\" - it represents may physical phenomenas that involves random numbers"
   ]
  },
  {
   "cell_type": "code",
   "execution_count": 1,
   "id": "reduced-contest",
   "metadata": {},
   "outputs": [
    {
     "data": {
      "text/plain": [
       "<matplotlib.legend.Legend at 0x7fdb81ad3cf8>"
      ]
     },
     "execution_count": 1,
     "metadata": {},
     "output_type": "execute_result"
    },
    {
     "data": {
      "image/png": "[encoded data removed]",
      "text/plain": [
       "<Figure size 432x288 with 1 Axes>"
      ]
     },
     "metadata": {
      "needs_background": "light"
     },
     "output_type": "display_data"
    }
   ],
   "source": [
    "import matplotlib.pyplot as plt\n",
    "import numpy as np\n",
    "mu1,sigma1 = 2000,100.0\n",
    "s_normal = np.random.normal(mu1, sigma1, 10000)\n",
    "fig,ax=plt.subplots(1,1)\n",
    "bins=30\n",
    "myhist, bin_edges=np.histogram(s_normal,bins=31)\n",
    "#print(bin_edges)\n",
    "amp=np.max(myhist)\n",
    "ax.hist(s_normal,bins=bins,label='city 1')\n",
    "ax.set_xlim(0,2*mu1)\n",
    "ax.legend()"
   ]
  },
  {
   "cell_type": "markdown",
   "id": "civil-medicare",
   "metadata": {},
   "source": [
    "* this distribution of random numbers (where one value is more common than other) has name: Gaussian distribution or normal distribution\n",
    "and there is a corresponding equation to describe it: In the most general form:\n",
    "\n",
    "Gaussian distribution: $$g(x)=Ae^{-\\frac{1}{2} \\frac{x^2}{\\sigma^2}}$$\n",
    "or in a different form (for fitting)\n",
    "$$g(x)=Ae^{-\\frac{1}{2} \\frac{(x-\\bar{x})^2}{\\sigma^2}}$$\n",
    "\n",
    "* A is the amplitude (maximum value of the distribution)\n",
    "* $\\bar{x}$ is the mean value (average)\n",
    "* $\\sigma$ is the spread (width) of the distribution\n",
    "\n",
    "why there is $(x-\\bar{x})$?\n",
    "if variable $x$ is exactly equal the expected value (mean) the exponens becomes zero and the distribution reaches maximum g=A "
   ]
  },
  {
   "cell_type": "markdown",
   "id": "indian-watts",
   "metadata": {},
   "source": [
    "### Lets go back to the histogram\n",
    "for the histogram (of the salary problem) we used: \n",
    "\n",
    "mu1 =2000,\n",
    "\n",
    "sigma1 = 100,\n",
    "\n",
    "We can try to reproduce the histogram using the gaussian function:"
   ]
  },
  {
   "cell_type": "code",
   "execution_count": 2,
   "id": "crude-connecticut",
   "metadata": {},
   "outputs": [
    {
     "data": {
      "text/plain": [
       "[<matplotlib.lines.Line2D at 0x7fdb38f19d68>]"
      ]
     },
     "execution_count": 2,
     "metadata": {},
     "output_type": "execute_result"
    },
    {
     "data": {
      "image/png": "[encoded data removed]",
      "text/plain": [
       "<Figure size 432x288 with 1 Axes>"
      ]
     },
     "metadata": {
      "needs_background": "light"
     },
     "output_type": "display_data"
    }
   ],
   "source": [
    "import numpy as np\n",
    "import matplotlib.pyplot as plt\n",
    "\n",
    "sigma=100\n",
    "x0=2000\n",
    "A=1000\n",
    "x=np.linspace(0,4000,100)\n",
    "g=A*np.exp(-0.5*(x-x0)**2/sigma**2)\n",
    "fig,ax=plt.subplots(1,1)\n",
    "ax.plot(x,g)"
   ]
  },
  {
   "cell_type": "markdown",
   "id": "ready-bangladesh",
   "metadata": {},
   "source": [
    "lets compare:"
   ]
  },
  {
   "cell_type": "code",
   "execution_count": 3,
   "id": "preliminary-farmer",
   "metadata": {},
   "outputs": [
    {
     "data": {
      "text/plain": [
       "<matplotlib.legend.Legend at 0x7fdb38f197f0>"
      ]
     },
     "execution_count": 3,
     "metadata": {},
     "output_type": "execute_result"
    },
    {
     "data": {
      "image/png": "[encoded data removed]",
      "text/plain": [
       "<Figure size 432x288 with 1 Axes>"
      ]
     },
     "metadata": {
      "needs_background": "light"
     },
     "output_type": "display_data"
    }
   ],
   "source": [
    "fig,ax=plt.subplots(1,1)\n",
    "ax.plot(x,g,label='gaussian function')\n",
    "bins=30\n",
    "ax.hist(s_normal,bins,label='histogram')\n",
    "ax.set_xlim(0,2*mu1)\n",
    "ax.legend()"
   ]
  },
  {
   "cell_type": "markdown",
   "id": "paperback-guatemala",
   "metadata": {},
   "source": [
    "## How is this useful?\n",
    "Well, if we know the function describing the process we can do fit the data - make the algorithm to minimize the residulas (sum of its squares) - and reproduce the original curve and hence obtain the parameters of the function here: $A,\\mu,\\sigma$"
   ]
  },
  {
   "cell_type": "markdown",
   "id": "solid-slide",
   "metadata": {},
   "source": [
    "So let's reverse the problem, Imagine that you dont know the widht of this histogram. How can you find it?\n",
    "* we know that this distribution is described by a gaussian function (it is important to know the function that describe the data)\n",
    "* we can fit it!"
   ]
  },
  {
   "cell_type": "code",
   "execution_count": 4,
   "id": "neural-producer",
   "metadata": {},
   "outputs": [
    {
     "data": {
      "text/plain": [
       "<matplotlib.legend.Legend at 0x7fdb38d90438>"
      ]
     },
     "execution_count": 4,
     "metadata": {},
     "output_type": "execute_result"
    },
    {
     "data": {
      "image/png": "[encoded data removed]",
      "text/plain": [
       "<Figure size 432x288 with 1 Axes>"
      ]
     },
     "metadata": {
      "needs_background": "light"
     },
     "output_type": "display_data"
    }
   ],
   "source": [
    "# Just generating points same as on the histogram\n",
    "myhist, bin_edges=np.histogram(s_normal,bins=31)\n",
    "x=np.linspace(bin_edges[0],bin_edges[-1],len(myhist))\n",
    "# plotting the points\n",
    "fig,ax=plt.subplots(1,1)\n",
    "ax.plot(x,myhist,'.r',label='histogram points only')\n",
    "ax.set_xlabel('salary')\n",
    "ax.set_ylabel('number of people with that salary')\n",
    "ax.legend()"
   ]
  },
  {
   "cell_type": "markdown",
   "id": "adaptive-chess",
   "metadata": {},
   "source": [
    "The distribution has a shape of the gaussian function\n",
    "\n",
    "Gaussian distribution: $$g(x)=Ae^{-\\frac{1}{2} \\frac{(x-\\bar{x})^2}{\\sigma^2}}$$\n",
    "\n",
    "We can use the curve_fit to adjust parameters in such a way that the original points and generated curve has minimal residuals and hence find: A,$\\mu$, $\\sigma$ "
   ]
  },
  {
   "cell_type": "code",
   "execution_count": 5,
   "id": "expensive-snowboard",
   "metadata": {},
   "outputs": [],
   "source": [
    "from scipy.optimize import curve_fit\n",
    "\n",
    "def fittingGauss1D(x,A,sigma,mc):\n",
    "    g= A*np.exp(-(x-mc)**2.0 / (2.0*(sigma**2.0)))\n",
    "    return g\n",
    "\n",
    "p0=[1000,100,2000]\n",
    "coeffs2, matcov2 = curve_fit(fittingGauss1D, x, myhist, p0,method='lm')\n",
    "\n",
    "A=np.abs(coeffs2[0])\n",
    "sigma=np.abs(coeffs2[1])\n",
    "mu=np.abs(coeffs2[2])\n",
    "myfit=fittingGauss1D(x,A,sigma,mu)"
   ]
  },
  {
   "cell_type": "code",
   "execution_count": 6,
   "id": "hairy-comment",
   "metadata": {},
   "outputs": [
    {
     "data": {
      "text/plain": [
       "<matplotlib.legend.Legend at 0x7fdb28ec8710>"
      ]
     },
     "execution_count": 6,
     "metadata": {},
     "output_type": "execute_result"
    },
    {
     "data": {
      "image/png": "[encoded data removed]",
      "text/plain": [
       "<Figure size 432x288 with 1 Axes>"
      ]
     },
     "metadata": {
      "needs_background": "light"
     },
     "output_type": "display_data"
    }
   ],
   "source": [
    "fig,ax=plt.subplots(1,1)\n",
    "ax.plot(x,myhist,'.r',label='data points of histogram')\n",
    "ax.plot(x,myfit,'-b',label='fitting gaussian')\n",
    "ax.legend()"
   ]
  },
  {
   "cell_type": "markdown",
   "id": "silver-minnesota",
   "metadata": {},
   "source": [
    "* for this set of paramenters the generated curve and original points (match)"
   ]
  },
  {
   "cell_type": "code",
   "execution_count": 7,
   "id": "juvenile-mississippi",
   "metadata": {},
   "outputs": [
    {
     "name": "stdout",
     "output_type": "stream",
     "text": [
      "103.22251221973185\n",
      "1997.5049815483123\n",
      "909.9830975272007\n"
     ]
    }
   ],
   "source": [
    "# According to the fitting:\n",
    "print(sigma)\n",
    "print(mu)\n",
    "print(A)"
   ]
  },
  {
   "cell_type": "markdown",
   "id": "monthly-pollution",
   "metadata": {},
   "source": [
    "* finding $\\mu$, $\\sigma$ can be useful !!"
   ]
  },
  {
   "cell_type": "markdown",
   "id": "direct-globe",
   "metadata": {},
   "source": [
    "## Ideal gas, velocity distribution of the particles: Maxwell-Boltzmann distribution - real life problem"
   ]
  },
  {
   "cell_type": "markdown",
   "id": "biological-california",
   "metadata": {},
   "source": [
    "It is impossible to do\n",
    "astrophysics without some basic knowledge of the\n",
    "laws of thermodynamics and statistical physics,\n",
    "we will anticipate some of the results from later\n",
    "courses already."
   ]
  },
  {
   "cell_type": "markdown",
   "id": "ordered-editor",
   "metadata": {},
   "source": [
    "http://fisica.udea.edu.co:8080/IdealGas"
   ]
  },
  {
   "cell_type": "markdown",
   "id": "formed-induction",
   "metadata": {},
   "source": [
    "Maxwell-Boltzmann velocity distribution in 3D (3 degrees of freedom)can be written:\n",
    "\n",
    "$$P(v)=\\left(\\frac{m}{2\\pi k_B T}\\right)^{3/2}e^{-\\frac{1}{2} \\frac{m v^2}{k_B T}}$$\n",
    "\n",
    "in one direction:\n",
    "\n",
    "$$P(v)=\\left(\\frac{m}{2\\pi k_B T}\\right)^{1/2}e^{-\\frac{1}{2} \\frac{m v^2}{k_B T}}$$\n",
    "\n",
    "or\n",
    "\n",
    "$$P(v)=\\sqrt{\\frac{m}{2\\pi k_B T}}e^{-\\frac{1}{2} \\frac{m v^2}{k_B T}}$$\n",
    "\n",
    "(here $k_B$ is Boltmann’s constant) giving the probability that a gas particle with mass m in a gas with temperature T has the velocity v. This is the vector form of the Maxwell Boltzmann distribution. It might not be directly evident that this is a Gaussian distribution.\n",
    "\n",
    "$$P(v)=\\sqrt{\\frac{1}{2\\pi \\sigma^2}}e^{-\\frac{1}{2} \\frac{v^2}{\\sigma^2}}$$\n",
    "\n",
    "where $\\sigma=\\sqrt{\\frac{kT}{m}}$\n",
    "\n",
    "<table><tr>\n",
    "<td> <img src=\"imgs/MB_distribution_temp.jpg\" width=\"300\" /> </td>\n",
    "</tr></table>\n",
    "\n",
    "In practice we deal with the distribution of the number of particles with given velocity (http://fisica.udea.edu.co:8080/IdealGas):\n",
    "\n",
    "$$f_N=f_{max} e^{-\\frac{1}{2} \\frac{ v^2}{\\sigma^2}}$$\n",
    "\n",
    "\n"
   ]
  },
  {
   "cell_type": "markdown",
   "id": "eastern-radio",
   "metadata": {},
   "source": [
    "And this can be described by gaussian function:\n",
    "Gaussian distribution: $$g(x)=Ae^{-\\frac{1}{2} \\frac{(x-\\bar{x})^2}{\\sigma^2}}$$"
   ]
  },
  {
   "cell_type": "markdown",
   "id": "dressed-infrared",
   "metadata": {},
   "source": [
    "So if we know the distribution, we can do the fit to obtain $\\sigma$\n",
    "and from that the temperatures follows to be: \n",
    "$$ T=\\frac{m\\sigma^2}{k_B}$$"
   ]
  },
  {
   "cell_type": "markdown",
   "id": "meaningful-heading",
   "metadata": {},
   "source": [
    "### Example"
   ]
  },
  {
   "cell_type": "markdown",
   "id": "vanilla-assembly",
   "metadata": {},
   "source": [
    "Lets imagine we have collected the velocities of the atoms from this simulations: http://fisica.udea.edu.co:8080/IdealGas"
   ]
  },
  {
   "cell_type": "code",
   "execution_count": 8,
   "id": "supposed-clinton",
   "metadata": {},
   "outputs": [],
   "source": [
    "import pandas as pd"
   ]
  },
  {
   "cell_type": "code",
   "execution_count": 9,
   "id": "owned-eugene",
   "metadata": {},
   "outputs": [
    {
     "data": {
      "text/html": [
       "<div>\n",
       "<style scoped>\n",
       "    .dataframe tbody tr th:only-of-type {\n",
       "        vertical-align: middle;\n",
       "    }\n",
       "\n",
       "    .dataframe tbody tr th {\n",
       "        vertical-align: top;\n",
       "    }\n",
       "\n",
       "    .dataframe thead th {\n",
       "        text-align: right;\n",
       "    }\n",
       "</style>\n",
       "<table border=\"1\" class=\"dataframe\">\n",
       "  <thead>\n",
       "    <tr style=\"text-align: right;\">\n",
       "      <th></th>\n",
       "      <th>velocity [m/s]</th>\n",
       "      <th>Natoms</th>\n",
       "    </tr>\n",
       "  </thead>\n",
       "  <tbody>\n",
       "    <tr>\n",
       "      <th>20</th>\n",
       "      <td>303.030303</td>\n",
       "      <td>56.111011</td>\n",
       "    </tr>\n",
       "    <tr>\n",
       "      <th>21</th>\n",
       "      <td>318.181818</td>\n",
       "      <td>69.256456</td>\n",
       "    </tr>\n",
       "    <tr>\n",
       "      <th>22</th>\n",
       "      <td>333.333333</td>\n",
       "      <td>84.801706</td>\n",
       "    </tr>\n",
       "    <tr>\n",
       "      <th>23</th>\n",
       "      <td>348.484848</td>\n",
       "      <td>103.010403</td>\n",
       "    </tr>\n",
       "    <tr>\n",
       "      <th>24</th>\n",
       "      <td>363.636364</td>\n",
       "      <td>124.133712</td>\n",
       "    </tr>\n",
       "  </tbody>\n",
       "</table>\n",
       "</div>"
      ],
      "text/plain": [
       "    velocity [m/s]      Natoms\n",
       "20      303.030303   56.111011\n",
       "21      318.181818   69.256456\n",
       "22      333.333333   84.801706\n",
       "23      348.484848  103.010403\n",
       "24      363.636364  124.133712"
      ]
     },
     "execution_count": 9,
     "metadata": {},
     "output_type": "execute_result"
    }
   ],
   "source": [
    "df =pd.read_csv('NvsV.csv',delimiter=',')\n",
    "df[20:25]\n",
    "#(this is distribution already - compare with the simulation)"
   ]
  },
  {
   "cell_type": "code",
   "execution_count": 10,
   "id": "altered-alliance",
   "metadata": {},
   "outputs": [
    {
     "data": {
      "text/plain": [
       "<matplotlib.legend.Legend at 0x7fdb1fbc2588>"
      ]
     },
     "execution_count": 10,
     "metadata": {},
     "output_type": "execute_result"
    },
    {
     "data": {
      "image/png": "[encoded data removed]",
      "text/plain": [
       "<Figure size 432x288 with 1 Axes>"
      ]
     },
     "metadata": {
      "needs_background": "light"
     },
     "output_type": "display_data"
    }
   ],
   "source": [
    "fig,ax=plt.subplots(1,1)\n",
    "ax.plot(df['velocity [m/s]'],df['Natoms'],'.r',label='data points of histogram')\n",
    "ax.legend()"
   ]
  },
  {
   "cell_type": "code",
   "execution_count": 11,
   "id": "colonial-thriller",
   "metadata": {},
   "outputs": [],
   "source": [
    "from scipy.optimize import curve_fit\n",
    "\n",
    "def fittingGauss1D(x,A,sigma,mc):\n",
    "    g= A*np.exp(-(x-mc)**2.0 / (2.0*(sigma**2.0)))\n",
    "    return g\n",
    "\n",
    "p0=[1000,200,700]\n",
    "coeffs2, matcov2 = curve_fit(fittingGauss1D, df['velocity [m/s]'], df['Natoms'], p0,method='lm')\n",
    "A=np.abs(coeffs2[0])\n",
    "sigma=np.abs(coeffs2[1])\n",
    "mu=np.abs(coeffs2[2])\n",
    "myfit2=fittingGauss1D(df['velocity [m/s]'],A,sigma,mu)"
   ]
  },
  {
   "cell_type": "code",
   "execution_count": 14,
   "id": "banner-formula",
   "metadata": {},
   "outputs": [
    {
     "data": {
      "text/plain": [
       "<matplotlib.legend.Legend at 0x7fdb1fb0b828>"
      ]
     },
     "execution_count": 14,
     "metadata": {},
     "output_type": "execute_result"
    },
    {
     "data": {
      "image/png": "[encoded data removed]",
      "text/plain": [
       "<Figure size 432x288 with 1 Axes>"
      ]
     },
     "metadata": {
      "needs_background": "light"
     },
     "output_type": "display_data"
    }
   ],
   "source": [
    "fig,ax=plt.subplots(1,1)\n",
    "ax.plot(df['velocity [m/s]'],df['Natoms'],'.r',label='data points of histogram')\n",
    "ax.plot(df['velocity [m/s]'],myfit2,'-b',label='fitting gaussian')\n",
    "ax.set_xlabel('velocity [m/s]')\n",
    "ax.set_ylabel('number of atoms with this velocity')\n",
    "ax.legend()\n"
   ]
  },
  {
   "cell_type": "markdown",
   "id": "graduate-leadership",
   "metadata": {},
   "source": [
    "The temperature can be obtained from the sigma:\n",
    "$$ T=\\frac{m\\sigma^2}{k_B}$$"
   ]
  },
  {
   "cell_type": "code",
   "execution_count": 13,
   "id": "arabic-bailey",
   "metadata": {},
   "outputs": [
    {
     "name": "stdout",
     "output_type": "stream",
     "text": [
      "300.00000000000006 [K]\n"
     ]
    }
   ],
   "source": [
    "kB=1.38e-23\n",
    "T=300\n",
    "m=1.44e-25\n",
    "T=m*sigma**2/kB\n",
    "print(T,'[K]')"
   ]
  },
  {
   "cell_type": "markdown",
   "id": "capable-philosophy",
   "metadata": {},
   "source": [
    "* for the cloud of atoms having those velocities ~ 500m/s and with this spread the temperature is ~ 300K"
   ]
  },
  {
   "cell_type": "code",
   "execution_count": null,
   "id": "different-gamma",
   "metadata": {},
   "outputs": [],
   "source": []
  }
 ],
 "metadata": {
  "kernelspec": {
   "display_name": "Python 3",
   "language": "python",
   "name": "python3"
  },
  "language_info": {
   "codemirror_mode": {
    "name": "ipython",
    "version": 3
   },
   "file_extension": ".py",
   "mimetype": "text/x-python",
   "name": "python",
   "nbconvert_exporter": "python",
   "pygments_lexer": "ipython3",
   "version": "3.7.2"
  }
 },
 "nbformat": 4,
 "nbformat_minor": 5
}
