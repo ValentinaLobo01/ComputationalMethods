{
 "cells": [
  {
   "cell_type": "markdown",
   "id": "finnish-neighbor",
   "metadata": {},
   "source": [
    "## Why spending two classes on regression and fitting?"
   ]
  },
  {
   "cell_type": "markdown",
   "id": "parental-employer",
   "metadata": {},
   "source": [
    "## Dictionary:\n",
    "* bell shape - forma de campana\n",
    "* match - hacer pareja \n",
    "* reach - alcanze(ar) \n",
    "* describe - describir\n",
    "* useful - util\n",
    "* knowledge -conocimiento\n",
    "* anticipate - anticipar\n",
    "* guy - hombre, chico... cosa"
   ]
  },
  {
   "cell_type": "markdown",
   "id": "thick-little",
   "metadata": {},
   "source": [
    "### Order of the class\n",
    "* applications of fitting, example\n",
    "http://fisica.udea.edu.co:8080/IdealGas\n",
    "* recap on distribution (gaussian/normal)\n",
    "* Ideal gas and Maxwell-Boltzmann distribution\n",
    "* finding temperature of the ideal gas using fitting (scipy.curve_fit)"
   ]
  },
  {
   "cell_type": "markdown",
   "id": "brutal-capture",
   "metadata": {},
   "source": [
    "* in the first class regression we analysed how regression (ajuste) works\n",
    "* in the second we analysed the error of the regression. We used random numbers to generate the histogram (normal distribution) of this bell shape, we compare two different distributions with different spread, explained what is $\\sigma$...\n",
    "* but the distribution has many \"applications\" - it represents may physical phenomenas that involves random numbers"
   ]
  },
  {
   "cell_type": "code",
   "execution_count": 1,
   "id": "reduced-contest",
   "metadata": {},
   "outputs": [
    {
     "data": {
      "text/plain": [
       "<matplotlib.legend.Legend at 0x7f2257f8cd30>"
      ]
     },
     "execution_count": 1,
     "metadata": {},
     "output_type": "execute_result"
    },
    {
     "data": {
      "image/png": "[encoded data removed]",
      "text/plain": [
       "<Figure size 432x288 with 1 Axes>"
      ]
     },
     "metadata": {
      "needs_background": "light"
     },
     "output_type": "display_data"
    }
   ],
   "source": [
    "import matplotlib.pyplot as plt\n",
    "import numpy as np\n",
    "mu1=2000\n",
    "sigma1 = 100\n",
    "s_normal = np.random.normal(mu1, sigma1, 10000)\n",
    "fig,ax=plt.subplots(1,1)\n",
    "bins=30\n",
    "myhist, bin_edges=np.histogram(s_normal,bins=31)\n",
    "#print(bin_edges)\n",
    "amp=np.max(myhist)\n",
    "ax.hist(s_normal,bins=bins,label='city 1')\n",
    "ax.set_xlim(0,2*mu1)\n",
    "ax.legend()"
   ]
  },
  {
   "cell_type": "markdown",
   "id": "civil-medicare",
   "metadata": {},
   "source": [
    "* this distribution of random numbers (where one value is more common than other) has name: Gaussian distribution or normal distribution\n",
    "and there is a corresponding equation to describe it: In the most general form:\n",
    "\n",
    "Gaussian distribution: $$g(x)=Ae^{-\\frac{1}{2} \\frac{x^2}{\\sigma^2}}$$\n",
    "or in a different form (for fitting)\n",
    "$$g(x)=Ae^{-\\frac{1}{2} \\frac{(x-\\bar{x})^2}{\\sigma^2}}$$\n",
    "\n",
    "* A is the amplitude (maximum value of the distribution)\n",
    "* $x$ is sample\n",
    "* $\\bar{x}$ is the mean value (average)\n",
    "* $\\sigma$ is the spread (width) of the distribution\n",
    "\n",
    "why there is $(x-\\bar{x})$?\n",
    "if variable $x$ is exactly equal the expected value (mean) the exponens becomes zero and the distribution reaches maximum g=A "
   ]
  },
  {
   "cell_type": "markdown",
   "id": "indian-watts",
   "metadata": {},
   "source": [
    "### Lets go back to the histogram\n",
    "for the histogram (of the salary problem) we used: \n",
    "\n",
    "mu1 =2000,\n",
    "\n",
    "sigma1 = 100,\n",
    "\n",
    "We can try to reproduce the histogram using the gaussian function:"
   ]
  },
  {
   "cell_type": "code",
   "execution_count": 24,
   "id": "crude-connecticut",
   "metadata": {},
   "outputs": [
    {
     "data": {
      "text/plain": [
       "[<matplotlib.lines.Line2D at 0x7f21f5d41860>]"
      ]
     },
     "execution_count": 24,
     "metadata": {},
     "output_type": "execute_result"
    },
    {
     "data": {
      "image/png": "[encoded data removed]",
      "text/plain": [
       "<Figure size 432x288 with 1 Axes>"
      ]
     },
     "metadata": {
      "needs_background": "light"
     },
     "output_type": "display_data"
    }
   ],
   "source": [
    "import numpy as np\n",
    "import matplotlib.pyplot as plt\n",
    "\n",
    "sigma=100\n",
    "x_mean=2000\n",
    "A=1000\n",
    "x=np.linspace(0,4000,100)\n",
    "g=A*np.exp(-0.5*(x-x_mean)**2/sigma**2)\n",
    "fig,ax=plt.subplots(1,1)\n",
    "ax.plot(x,g,'-b')"
   ]
  },
  {
   "cell_type": "markdown",
   "id": "ready-bangladesh",
   "metadata": {},
   "source": [
    "lets compare:"
   ]
  },
  {
   "cell_type": "code",
   "execution_count": 25,
   "id": "preliminary-farmer",
   "metadata": {},
   "outputs": [
    {
     "data": {
      "text/plain": [
       "<matplotlib.legend.Legend at 0x7f21f5d017b8>"
      ]
     },
     "execution_count": 25,
     "metadata": {},
     "output_type": "execute_result"
    },
    {
     "data": {
      "image/png": "[encoded data removed]",
      "text/plain": [
       "<Figure size 432x288 with 1 Axes>"
      ]
     },
     "metadata": {
      "needs_background": "light"
     },
     "output_type": "display_data"
    }
   ],
   "source": [
    "fig,ax=plt.subplots(1,1)\n",
    "ax.plot(x,g,label='gaussian function')\n",
    "bins=30\n",
    "ax.hist(s_normal,bins,label='histogram')\n",
    "ax.set_xlim(0,2*mu1)\n",
    "ax.legend()"
   ]
  },
  {
   "cell_type": "markdown",
   "id": "paperback-guatemala",
   "metadata": {},
   "source": [
    "## How is this useful?\n",
    "Well, if we know the function describing the process we can do fit the data - make the algorithm to minimize the residulas (sum of its squares) - and reproduce the original curve and hence obtain the parameters of the function here: $A,\\mu,\\sigma$"
   ]
  },
  {
   "cell_type": "markdown",
   "id": "solid-slide",
   "metadata": {},
   "source": [
    "So let's reverse the problem, Imagine that you dont know the widht of this histogram. How can you find it?\n",
    "* we know that this distribution is described by a gaussian function (it is important to know the function that describe the data)\n",
    "* we can fit it!"
   ]
  },
  {
   "cell_type": "code",
   "execution_count": 26,
   "id": "neural-producer",
   "metadata": {},
   "outputs": [
    {
     "data": {
      "text/plain": [
       "<matplotlib.legend.Legend at 0x7f21f5c0ada0>"
      ]
     },
     "execution_count": 26,
     "metadata": {},
     "output_type": "execute_result"
    },
    {
     "data": {
      "image/png": "[encoded data removed]",
      "text/plain": [
       "<Figure size 432x288 with 1 Axes>"
      ]
     },
     "metadata": {
      "needs_background": "light"
     },
     "output_type": "display_data"
    }
   ],
   "source": [
    "# Just generating points same as on the histogram\n",
    "myhist, bin_edges=np.histogram(s_normal,bins=31)\n",
    "x=np.linspace(bin_edges[0],bin_edges[-1],len(myhist))\n",
    "# plotting the points\n",
    "fig,ax=plt.subplots(1,1)\n",
    "ax.plot(x,myhist,'.r',label='histogram points only')\n",
    "ax.set_xlabel('salary')\n",
    "ax.set_ylabel('number of people with that salary')\n",
    "ax.legend()"
   ]
  },
  {
   "cell_type": "markdown",
   "id": "adaptive-chess",
   "metadata": {},
   "source": [
    "The distribution has a shape of the gaussian function\n",
    "\n",
    "Gaussian distribution: $$g(x)=Ae^{-\\frac{1}{2} \\frac{(x-\\bar{x})^2}{\\sigma^2}}$$\n",
    "\n",
    "We can use the curve_fit to adjust parameters in such a way that the original points and generated curve has minimal residuals and hence find: A,$\\mu$, $\\sigma$ "
   ]
  },
  {
   "cell_type": "code",
   "execution_count": 27,
   "id": "expensive-snowboard",
   "metadata": {},
   "outputs": [
    {
     "name": "stdout",
     "output_type": "stream",
     "text": [
      "sigma= 103.67142477250077\n"
     ]
    }
   ],
   "source": [
    "from scipy.optimize import curve_fit\n",
    "\n",
    "def fittingGauss1D(x,A,sigma,mc):\n",
    "    g = A*np.exp(-(x-mc)**2.0 / (2.0*(sigma**2.0)))\n",
    "    return g\n",
    "\n",
    "p0=[500,180,1700]\n",
    "myhist, bin_edges=np.histogram(s_normal,bins=31)\n",
    "x=np.linspace(bin_edges[0],bin_edges[-1],len(myhist))\n",
    "coeffs, matcov = curve_fit(fittingGauss1D, x, myhist, p0,method='lm')\n",
    "A=np.abs(coeffs[0])\n",
    "sigma=np.abs(coeffs[1])\n",
    "mu=np.abs(coeffs[2])\n",
    "myfit=fittingGauss1D(x,A,sigma,mu)\n",
    "print('sigma=',sigma)\n"
   ]
  },
  {
   "cell_type": "code",
   "execution_count": 17,
   "id": "hairy-comment",
   "metadata": {},
   "outputs": [
    {
     "data": {
      "text/plain": [
       "<matplotlib.legend.Legend at 0x7f21f5f3fbe0>"
      ]
     },
     "execution_count": 17,
     "metadata": {},
     "output_type": "execute_result"
    },
    {
     "data": {
      "image/png": "[encoded data removed]",
      "text/plain": [
       "<Figure size 432x288 with 1 Axes>"
      ]
     },
     "metadata": {
      "needs_background": "light"
     },
     "output_type": "display_data"
    }
   ],
   "source": [
    "fig,ax=plt.subplots(1,1)\n",
    "ax.plot(x,myhist,'.r',label='data points of histogram')\n",
    "ax.plot(x,myfit,'-b',label='fitting gaussian')\n",
    "ax.legend()"
   ]
  },
  {
   "cell_type": "markdown",
   "id": "romance-automation",
   "metadata": {},
   "source": [
    "* for this set of paramenters the generated curve and original points (match)"
   ]
  },
  {
   "cell_type": "code",
   "execution_count": 28,
   "id": "juvenile-mississippi",
   "metadata": {},
   "outputs": [
    {
     "name": "stdout",
     "output_type": "stream",
     "text": [
      "103.67142477250077\n",
      "2000.4346794953108\n",
      "926.5492870523018\n"
     ]
    }
   ],
   "source": [
    "# According to the fitting:\n",
    "print(sigma)\n",
    "print(mu)\n",
    "print(A)"
   ]
  },
  {
   "cell_type": "markdown",
   "id": "monthly-pollution",
   "metadata": {},
   "source": [
    "* finding $\\mu$, $\\sigma$ can be useful !!"
   ]
  },
  {
   "cell_type": "markdown",
   "id": "direct-globe",
   "metadata": {},
   "source": [
    "## Ideal gas, velocity distribution of the particles: Maxwell-Boltzmann distribution - real life problem"
   ]
  },
  {
   "cell_type": "markdown",
   "id": "biological-california",
   "metadata": {},
   "source": [
    "It is impossible to do\n",
    "astrophysics without some basic knowledge of the\n",
    "laws of thermodynamics and statistical physics,\n",
    "we will anticipate some of the results from later\n",
    "courses already."
   ]
  },
  {
   "cell_type": "markdown",
   "id": "ordered-editor",
   "metadata": {},
   "source": [
    "http://fisica.udea.edu.co:8080/IdealGas"
   ]
  },
  {
   "cell_type": "markdown",
   "id": "formed-induction",
   "metadata": {},
   "source": [
    "Maxwell-Boltzmann velocity distribution in 3 coordinates (3 degrees of freedom) can be written:\n",
    "\n",
    "$$P(v)=\\left(\\frac{m}{2\\pi k_B T}\\right)^{3/2}e^{-\\frac{1}{2} \\frac{m v^2}{k_B T}}$$\n",
    "\n",
    "in one direction:\n",
    "\n",
    "$$P(v)=\\left(\\frac{m}{2\\pi k_B T}\\right)^{1/2}e^{-\\frac{1}{2} \\frac{m v^2}{k_B T}}$$\n",
    "\n",
    "or\n",
    "\n",
    "$$P(v)=\\sqrt{\\frac{m}{2\\pi k_B T}}e^{-\\frac{1}{2} \\frac{m v^2}{k_B T}}$$\n",
    "\n",
    "(here $k_B$ is Boltmann’s constant) giving the probability that a gas particle with mass m in a gas with temperature T has the velocity v. This is the vector form of the Maxwell Boltzmann distribution. It might not be directly evident that this is a Gaussian distribution.\n",
    "\n",
    "$$P(v)=\\sqrt{\\frac{1}{2\\pi \\sigma^2}}e^{-\\frac{1}{2} \\frac{v^2}{\\sigma^2}}$$\n",
    "\n",
    "where $\\sigma=\\sqrt{\\frac{k_BT}{m}}$\n",
    "to get temperature from $\\sigma$\n",
    "$$ T=\\frac{m\\sigma^2}{k_B}$$\n",
    "\n",
    "\n",
    "<table><tr>\n",
    "<td> <img src=\"imgs/MB_distribution_temp.jpg\" width=\"300\" /> </td>\n",
    "</tr></table>\n",
    "\n",
    "In practice we deal with the distribution of the number of particles with given velocity (http://fisica.udea.edu.co:8080/IdealGas):\n",
    "\n",
    "$$f_N=f_{max} e^{-\\frac{1}{2} \\frac{ v^2}{\\sigma^2}}$$\n",
    "\n",
    "\n"
   ]
  },
  {
   "cell_type": "markdown",
   "id": "eastern-radio",
   "metadata": {},
   "source": [
    "And this can be described by gaussian function:\n",
    "Gaussian distribution: $$g(x)=Ae^{-\\frac{1}{2} \\frac{(x-\\bar{x})^2}{\\sigma^2}}$$"
   ]
  },
  {
   "cell_type": "markdown",
   "id": "dressed-infrared",
   "metadata": {},
   "source": [
    "So if we know the distribution, we can do the fit to obtain $\\sigma$\n",
    "and from that the temperatures follows to be: \n",
    "$$ T=\\frac{m\\sigma^2}{k_B}$$"
   ]
  },
  {
   "cell_type": "markdown",
   "id": "meaningful-heading",
   "metadata": {},
   "source": [
    "### Example"
   ]
  },
  {
   "cell_type": "markdown",
   "id": "vanilla-assembly",
   "metadata": {},
   "source": [
    "Lets imagine we have collected the velocities of the atoms from this simulations: http://fisica.udea.edu.co:8080/IdealGas"
   ]
  },
  {
   "cell_type": "code",
   "execution_count": 29,
   "id": "supposed-clinton",
   "metadata": {},
   "outputs": [],
   "source": [
    "import pandas as pd"
   ]
  },
  {
   "cell_type": "code",
   "execution_count": 33,
   "id": "owned-eugene",
   "metadata": {},
   "outputs": [
    {
     "data": {
      "text/html": [
       "<div>\n",
       "<style scoped>\n",
       "    .dataframe tbody tr th:only-of-type {\n",
       "        vertical-align: middle;\n",
       "    }\n",
       "\n",
       "    .dataframe tbody tr th {\n",
       "        vertical-align: top;\n",
       "    }\n",
       "\n",
       "    .dataframe thead th {\n",
       "        text-align: right;\n",
       "    }\n",
       "</style>\n",
       "<table border=\"1\" class=\"dataframe\">\n",
       "  <thead>\n",
       "    <tr style=\"text-align: right;\">\n",
       "      <th></th>\n",
       "      <th>velocity [m/s]</th>\n",
       "      <th>Natoms</th>\n",
       "    </tr>\n",
       "  </thead>\n",
       "  <tbody>\n",
       "    <tr>\n",
       "      <th>35</th>\n",
       "      <td>530.303030</td>\n",
       "      <td>570.305769</td>\n",
       "    </tr>\n",
       "    <tr>\n",
       "      <th>36</th>\n",
       "      <td>545.454545</td>\n",
       "      <td>624.456780</td>\n",
       "    </tr>\n",
       "    <tr>\n",
       "      <th>37</th>\n",
       "      <td>560.606061</td>\n",
       "      <td>678.311484</td>\n",
       "    </tr>\n",
       "    <tr>\n",
       "      <th>38</th>\n",
       "      <td>575.757576</td>\n",
       "      <td>730.950753</td>\n",
       "    </tr>\n",
       "    <tr>\n",
       "      <th>39</th>\n",
       "      <td>590.909091</td>\n",
       "      <td>781.410476</td>\n",
       "    </tr>\n",
       "    <tr>\n",
       "      <th>40</th>\n",
       "      <td>606.060606</td>\n",
       "      <td>828.709858</td>\n",
       "    </tr>\n",
       "    <tr>\n",
       "      <th>41</th>\n",
       "      <td>621.212121</td>\n",
       "      <td>871.882466</td>\n",
       "    </tr>\n",
       "    <tr>\n",
       "      <th>42</th>\n",
       "      <td>636.363636</td>\n",
       "      <td>910.008705</td>\n",
       "    </tr>\n",
       "    <tr>\n",
       "      <th>43</th>\n",
       "      <td>651.515152</td>\n",
       "      <td>942.248192</td>\n",
       "    </tr>\n",
       "    <tr>\n",
       "      <th>44</th>\n",
       "      <td>666.666667</td>\n",
       "      <td>967.870478</td>\n",
       "    </tr>\n",
       "    <tr>\n",
       "      <th>45</th>\n",
       "      <td>681.818182</td>\n",
       "      <td>986.282521</td>\n",
       "    </tr>\n",
       "    <tr>\n",
       "      <th>46</th>\n",
       "      <td>696.969697</td>\n",
       "      <td>997.051507</td>\n",
       "    </tr>\n",
       "    <tr>\n",
       "      <th>47</th>\n",
       "      <td>712.121212</td>\n",
       "      <td>999.921750</td>\n",
       "    </tr>\n",
       "    <tr>\n",
       "      <th>48</th>\n",
       "      <td>727.272727</td>\n",
       "      <td>994.824792</td>\n",
       "    </tr>\n",
       "    <tr>\n",
       "      <th>49</th>\n",
       "      <td>742.424242</td>\n",
       "      <td>981.882113</td>\n",
       "    </tr>\n",
       "    <tr>\n",
       "      <th>50</th>\n",
       "      <td>757.575758</td>\n",
       "      <td>961.400316</td>\n",
       "    </tr>\n",
       "    <tr>\n",
       "      <th>51</th>\n",
       "      <td>772.727273</td>\n",
       "      <td>933.859059</td>\n",
       "    </tr>\n",
       "    <tr>\n",
       "      <th>52</th>\n",
       "      <td>787.878788</td>\n",
       "      <td>899.892383</td>\n",
       "    </tr>\n",
       "    <tr>\n",
       "      <th>53</th>\n",
       "      <td>803.030303</td>\n",
       "      <td>860.264455</td>\n",
       "    </tr>\n",
       "    <tr>\n",
       "      <th>54</th>\n",
       "      <td>818.181818</td>\n",
       "      <td>815.841035</td>\n",
       "    </tr>\n",
       "    <tr>\n",
       "      <th>55</th>\n",
       "      <td>833.333333</td>\n",
       "      <td>767.558130</td>\n",
       "    </tr>\n",
       "    <tr>\n",
       "      <th>56</th>\n",
       "      <td>848.484848</td>\n",
       "      <td>716.389432</td>\n",
       "    </tr>\n",
       "    <tr>\n",
       "      <th>57</th>\n",
       "      <td>863.636364</td>\n",
       "      <td>663.314099</td>\n",
       "    </tr>\n",
       "    <tr>\n",
       "      <th>58</th>\n",
       "      <td>878.787879</td>\n",
       "      <td>609.286352</td>\n",
       "    </tr>\n",
       "    <tr>\n",
       "      <th>59</th>\n",
       "      <td>893.939394</td>\n",
       "      <td>555.208153</td>\n",
       "    </tr>\n",
       "    <tr>\n",
       "      <th>60</th>\n",
       "      <td>909.090909</td>\n",
       "      <td>501.905996</td>\n",
       "    </tr>\n",
       "    <tr>\n",
       "      <th>61</th>\n",
       "      <td>924.242424</td>\n",
       "      <td>450.112523</td>\n",
       "    </tr>\n",
       "    <tr>\n",
       "      <th>62</th>\n",
       "      <td>939.393939</td>\n",
       "      <td>400.453388</td>\n",
       "    </tr>\n",
       "    <tr>\n",
       "      <th>63</th>\n",
       "      <td>954.545455</td>\n",
       "      <td>353.439442</td>\n",
       "    </tr>\n",
       "    <tr>\n",
       "      <th>64</th>\n",
       "      <td>969.696970</td>\n",
       "      <td>309.464058</td>\n",
       "    </tr>\n",
       "  </tbody>\n",
       "</table>\n",
       "</div>"
      ],
      "text/plain": [
       "    velocity [m/s]      Natoms\n",
       "35      530.303030  570.305769\n",
       "36      545.454545  624.456780\n",
       "37      560.606061  678.311484\n",
       "38      575.757576  730.950753\n",
       "39      590.909091  781.410476\n",
       "40      606.060606  828.709858\n",
       "41      621.212121  871.882466\n",
       "42      636.363636  910.008705\n",
       "43      651.515152  942.248192\n",
       "44      666.666667  967.870478\n",
       "45      681.818182  986.282521\n",
       "46      696.969697  997.051507\n",
       "47      712.121212  999.921750\n",
       "48      727.272727  994.824792\n",
       "49      742.424242  981.882113\n",
       "50      757.575758  961.400316\n",
       "51      772.727273  933.859059\n",
       "52      787.878788  899.892383\n",
       "53      803.030303  860.264455\n",
       "54      818.181818  815.841035\n",
       "55      833.333333  767.558130\n",
       "56      848.484848  716.389432\n",
       "57      863.636364  663.314099\n",
       "58      878.787879  609.286352\n",
       "59      893.939394  555.208153\n",
       "60      909.090909  501.905996\n",
       "61      924.242424  450.112523\n",
       "62      939.393939  400.453388\n",
       "63      954.545455  353.439442\n",
       "64      969.696970  309.464058"
      ]
     },
     "execution_count": 33,
     "metadata": {},
     "output_type": "execute_result"
    }
   ],
   "source": [
    "df =pd.read_csv('NvsV.csv',delimiter=',')\n",
    "df[35:65]\n",
    "#(this is distribution already - compare with the simulation)"
   ]
  },
  {
   "cell_type": "code",
   "execution_count": 35,
   "id": "altered-alliance",
   "metadata": {},
   "outputs": [
    {
     "data": {
      "text/plain": [
       "<matplotlib.legend.Legend at 0x7f21f5ae8be0>"
      ]
     },
     "execution_count": 35,
     "metadata": {},
     "output_type": "execute_result"
    },
    {
     "data": {
      "image/png": "[encoded data removed]",
      "text/plain": [
       "<Figure size 432x288 with 1 Axes>"
      ]
     },
     "metadata": {
      "needs_background": "light"
     },
     "output_type": "display_data"
    }
   ],
   "source": [
    "fig,ax=plt.subplots(1,1)\n",
    "ax.plot(df['velocity [m/s]'],df['Natoms'],'.r',label='data points of histogram')\n",
    "ax.set_xlabel('velocity')\n",
    "ax.set_ylabel('number of atoms with that velocity')\n",
    "ax.legend()"
   ]
  },
  {
   "cell_type": "code",
   "execution_count": 37,
   "id": "colonial-thriller",
   "metadata": {},
   "outputs": [
    {
     "name": "stdout",
     "output_type": "stream",
     "text": [
      "169.55824957813172\n"
     ]
    }
   ],
   "source": [
    "from scipy.optimize import curve_fit\n",
    "\n",
    "def fittingGauss1D(x,A,sigma,mc):\n",
    "    g= A*np.exp(-(x-mc)**2.0 / (2.0*(sigma**2.0)))\n",
    "    return g\n",
    "\n",
    "p0=[1000,200,700]\n",
    "coeffs2, matcov2 = curve_fit(fittingGauss1D, df['velocity [m/s]'], df['Natoms'], p0,method='lm')\n",
    "A=np.abs(coeffs2[0])\n",
    "sigma=np.abs(coeffs2[1])\n",
    "mu=np.abs(coeffs2[2])\n",
    "myfit2=fittingGauss1D(df['velocity [m/s]'],A,sigma,mu)\n",
    "print(sigma)"
   ]
  },
  {
   "cell_type": "code",
   "execution_count": 38,
   "id": "banner-formula",
   "metadata": {},
   "outputs": [
    {
     "data": {
      "text/plain": [
       "<matplotlib.legend.Legend at 0x7f21f5b35cf8>"
      ]
     },
     "execution_count": 38,
     "metadata": {},
     "output_type": "execute_result"
    },
    {
     "data": {
      "image/png": "[encoded data removed]",
      "text/plain": [
       "<Figure size 432x288 with 1 Axes>"
      ]
     },
     "metadata": {
      "needs_background": "light"
     },
     "output_type": "display_data"
    }
   ],
   "source": [
    "fig,ax=plt.subplots(1,1)\n",
    "ax.plot(df['velocity [m/s]'],df['Natoms'],'.r',label='data points of histogram')\n",
    "ax.plot(df['velocity [m/s]'],myfit2,'-b',label='fitting gaussian')\n",
    "ax.set_xlabel('velocity [m/s]')\n",
    "ax.set_ylabel('number of atoms with this velocity')\n",
    "ax.legend()\n"
   ]
  },
  {
   "cell_type": "markdown",
   "id": "graduate-leadership",
   "metadata": {},
   "source": [
    "The temperature can be obtained from the sigma:\n",
    "$$ T=\\frac{m\\sigma^2}{k_B}$$"
   ]
  },
  {
   "cell_type": "code",
   "execution_count": 39,
   "id": "arabic-bailey",
   "metadata": {},
   "outputs": [
    {
     "name": "stdout",
     "output_type": "stream",
     "text": [
      "300.00000000000006 [K]\n"
     ]
    }
   ],
   "source": [
    "kB=1.38e-23\n",
    "m=1.44e-25\n",
    "T=m*sigma**2/kB\n",
    "print(T,'[K]')"
   ]
  },
  {
   "cell_type": "markdown",
   "id": "artificial-collins",
   "metadata": {},
   "source": [
    "* for the cloud of atoms having those velocities ~ 500m/s and with this spread the temperature is ~ 300K"
   ]
  },
  {
   "cell_type": "code",
   "execution_count": null,
   "id": "surgical-significance",
   "metadata": {},
   "outputs": [],
   "source": []
  }
 ],
 "metadata": {
  "kernelspec": {
   "display_name": "Python 3",
   "language": "python",
   "name": "python3"
  },
  "language_info": {
   "codemirror_mode": {
    "name": "ipython",
    "version": 3
   },
   "file_extension": ".py",
   "mimetype": "text/x-python",
   "name": "python",
   "nbconvert_exporter": "python",
   "pygments_lexer": "ipython3",
   "version": "3.7.2"
  }
 },
 "nbformat": 4,
 "nbformat_minor": 5
}
