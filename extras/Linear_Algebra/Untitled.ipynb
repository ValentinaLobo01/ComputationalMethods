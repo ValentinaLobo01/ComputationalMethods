{
 "cells": [
  {
   "cell_type": "markdown",
   "id": "julian-singer",
   "metadata": {},
   "source": [
    "$$e^A=Pe^DP^{-1}$$\n",
    "\n",
    "construye una function: matrix_exp(A) \n",
    "* function acepta una matrix A como un argumento\n",
    "* si matrix no es cuadrada, imprime: 'A must be square' (y return)\n",
    "* si (else:) matrix es cuadrada: calcule y imprime valor de $e^A$\n",
    "* pista 1: D=np.diag(eingenvalues) (mas facil que construir D in loop)\n",
    "* pista 2: cual orden es corecto: \n",
    "$np.exp(np.diag(eigenvalues))$ o $np.diag(np.exp(eigenvalues))$ ?"
   ]
  },
  {
   "cell_type": "code",
   "execution_count": 42,
   "id": "needed-brooks",
   "metadata": {},
   "outputs": [
    {
     "name": "stdout",
     "output_type": "stream",
     "text": [
      "Matrix must be square\n"
     ]
    }
   ],
   "source": [
    "import numpy as np\n",
    "\n",
    "def matrix_exp(A):\n",
    "    if np.shape(A)[0]!=np.shape(A)[1]:\n",
    "        print('Matrix must be square')\n",
    "        return\n",
    "    else:\n",
    "        d, Y = np.linalg.eig(A)\n",
    "        Yinv = np.linalg.pinv(Y)\n",
    "        D = np.diag(np.exp(d))\n",
    "        B = Y@D@Yinv\n",
    "        print(B)\n",
    "\n",
    "\n",
    "A=np.array([[5.0,1.0],\n",
    "            [-2.0,2.0],\n",
    "            [-2.0,2.0]], dtype='float64')\n",
    "matrix_exp(A)"
   ]
  }
 ],
 "metadata": {
  "kernelspec": {
   "display_name": "Python 3",
   "language": "python",
   "name": "python3"
  },
  "language_info": {
   "codemirror_mode": {
    "name": "ipython",
    "version": 3
   },
   "file_extension": ".py",
   "mimetype": "text/x-python",
   "name": "python",
   "nbconvert_exporter": "python",
   "pygments_lexer": "ipython3",
   "version": "3.7.2"
  }
 },
 "nbformat": 4,
 "nbformat_minor": 5
}
