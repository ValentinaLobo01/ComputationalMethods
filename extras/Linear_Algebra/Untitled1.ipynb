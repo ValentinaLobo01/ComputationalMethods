{
 "cells": [
  {
   "cell_type": "markdown",
   "id": "violent-marshall",
   "metadata": {},
   "source": [
    "$$e^A=Pe^DP^{-1}$$"
   ]
  },
  {
   "cell_type": "markdown",
   "id": "pointed-companion",
   "metadata": {},
   "source": [
    "construye una function matrix_exp(A) \n",
    "* function acepta una matrix A como un argumento\n",
    "* si matrix no es cuadrada: imprime 'A tiene que ser cuadrada' y return\n",
    "* si matrix es cuadrada: calcule y imprime valor de $e^A$\n",
    "* pista 1: D=np.diag(eingenvalues) (mas facil que construir D in loop)\n",
    "* pista 2: cual orden es corecto: \n",
    "$np.exp(np.diag(eigenvalues))$ o $np.diag(np.exp(eigenvalues))$ ?"
   ]
  },
  {
   "cell_type": "code",
   "execution_count": null,
   "id": "clinical-assessment",
   "metadata": {},
   "outputs": [],
   "source": []
  }
 ],
 "metadata": {
  "kernelspec": {
   "display_name": "Python 3",
   "language": "python",
   "name": "python3"
  },
  "language_info": {
   "codemirror_mode": {
    "name": "ipython",
    "version": 3
   },
   "file_extension": ".py",
   "mimetype": "text/x-python",
   "name": "python",
   "nbconvert_exporter": "python",
   "pygments_lexer": "ipython3",
   "version": "3.7.2"
  }
 },
 "nbformat": 4,
 "nbformat_minor": 5
}
