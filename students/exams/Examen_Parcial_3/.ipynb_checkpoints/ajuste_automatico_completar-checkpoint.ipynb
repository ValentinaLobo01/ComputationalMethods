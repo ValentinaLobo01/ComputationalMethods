{
 "cells": [
  {
   "cell_type": "markdown",
   "id": "amateur-therapy",
   "metadata": {},
   "source": [
    "# Analise de nubes automatico\n"
   ]
  },
  {
   "cell_type": "markdown",
   "id": "chemical-landing",
   "metadata": {},
   "source": [
    "# Sobre este ejercicio\n",
    "Este ejercicio es sobre el tema de ajuste (fitting) y es parte del examen parcial III (contribuje al puntaje). Es para evitar hacer el examen en Viernes 22.10.2021 demasiado grande. Ustedes tienen tiempo hasta fin del semana para terminarlo y enviar a mi correo: michal.hemmerling@udea.edu.co"
   ]
  },
  {
   "cell_type": "markdown",
   "id": "distributed-preference",
   "metadata": {},
   "source": [
    "# Objetivo de este ejercicio\n",
    "Aprender automatizar procesos de analisis de datos usando ajuste.\n",
    "\n",
    "La tabla de Pandas contiene 9 secciónes transversales de nubes de atomos (mira imagen abajo con una seccion transfersal de este nube), en la tabla la primera columna es numero de pixel (1- 1388 porque la anchura de imagen era 1388 pixels) y 9 columnas con amplitudas de secciones transversales de nueves diferentes nubes. La idea es crear un loop que hace fitting (ajuste) cada de este secciónes transversales con funcion gaussiana, y guardar resultados en otra tabla de Pandas en forma: {nombre de nube: temp}. "
   ]
  },
  {
   "cell_type": "markdown",
   "id": "nominated-saint",
   "metadata": {},
   "source": [
    "<img src=\"imgs/cloud_cross-sections.png\" width=\"500\" />"
   ]
  },
  {
   "cell_type": "code",
   "execution_count": 1,
   "id": "variable-romantic",
   "metadata": {},
   "outputs": [],
   "source": [
    "import pandas as pd\n",
    "import numpy as np\n",
    "from scipy.optimize import curve_fit\n",
    "import matplotlib.pyplot as plt\n",
    "df_cloud_temp = pd.DataFrame()"
   ]
  },
  {
   "cell_type": "code",
   "execution_count": 12,
   "id": "precious-density",
   "metadata": {},
   "outputs": [
    {
     "data": {
      "text/html": [
       "<div>\n",
       "<style scoped>\n",
       "    .dataframe tbody tr th:only-of-type {\n",
       "        vertical-align: middle;\n",
       "    }\n",
       "\n",
       "    .dataframe tbody tr th {\n",
       "        vertical-align: top;\n",
       "    }\n",
       "\n",
       "    .dataframe thead th {\n",
       "        text-align: right;\n",
       "    }\n",
       "</style>\n",
       "<table border=\"1\" class=\"dataframe\">\n",
       "  <thead>\n",
       "    <tr style=\"text-align: right;\">\n",
       "      <th></th>\n",
       "      <th>Unnamed: 0</th>\n",
       "      <th>31m56s.png</th>\n",
       "      <th>10m04s.png</th>\n",
       "      <th>07m36s.png</th>\n",
       "      <th>38m55s.png</th>\n",
       "      <th>03m10s.png</th>\n",
       "      <th>14m04s.png</th>\n",
       "      <th>33m28s.png</th>\n",
       "      <th>06m47s.png</th>\n",
       "      <th>08m25s.png</th>\n",
       "    </tr>\n",
       "  </thead>\n",
       "  <tbody>\n",
       "    <tr>\n",
       "      <th>0</th>\n",
       "      <td>0</td>\n",
       "      <td>-0.000000e+00</td>\n",
       "      <td>5.439984e+10</td>\n",
       "      <td>-0.000000e+00</td>\n",
       "      <td>1.351954e+10</td>\n",
       "      <td>-0.000000e+00</td>\n",
       "      <td>-0.000000e+00</td>\n",
       "      <td>5.439984e+10</td>\n",
       "      <td>1.096736e+11</td>\n",
       "      <td>-0.000000e+00</td>\n",
       "    </tr>\n",
       "    <tr>\n",
       "      <th>1</th>\n",
       "      <td>1</td>\n",
       "      <td>-0.000000e+00</td>\n",
       "      <td>5.439984e+10</td>\n",
       "      <td>-0.000000e+00</td>\n",
       "      <td>1.351954e+10</td>\n",
       "      <td>-0.000000e+00</td>\n",
       "      <td>-0.000000e+00</td>\n",
       "      <td>5.439984e+10</td>\n",
       "      <td>8.192574e+10</td>\n",
       "      <td>-0.000000e+00</td>\n",
       "    </tr>\n",
       "    <tr>\n",
       "      <th>2</th>\n",
       "      <td>2</td>\n",
       "      <td>-0.000000e+00</td>\n",
       "      <td>4.071904e+10</td>\n",
       "      <td>-0.000000e+00</td>\n",
       "      <td>1.351954e+10</td>\n",
       "      <td>-0.000000e+00</td>\n",
       "      <td>-0.000000e+00</td>\n",
       "      <td>5.439984e+10</td>\n",
       "      <td>8.192574e+10</td>\n",
       "      <td>-0.000000e+00</td>\n",
       "    </tr>\n",
       "    <tr>\n",
       "      <th>3</th>\n",
       "      <td>3</td>\n",
       "      <td>-0.000000e+00</td>\n",
       "      <td>5.439984e+10</td>\n",
       "      <td>-0.000000e+00</td>\n",
       "      <td>1.351954e+10</td>\n",
       "      <td>-0.000000e+00</td>\n",
       "      <td>2.709241e+10</td>\n",
       "      <td>5.439984e+10</td>\n",
       "      <td>5.439984e+10</td>\n",
       "      <td>-0.000000e+00</td>\n",
       "    </tr>\n",
       "    <tr>\n",
       "      <th>4</th>\n",
       "      <td>4</td>\n",
       "      <td>-0.000000e+00</td>\n",
       "      <td>5.439984e+10</td>\n",
       "      <td>-0.000000e+00</td>\n",
       "      <td>-0.000000e+00</td>\n",
       "      <td>2.709241e+10</td>\n",
       "      <td>4.071904e+10</td>\n",
       "      <td>-0.000000e+00</td>\n",
       "      <td>4.071904e+10</td>\n",
       "      <td>-0.000000e+00</td>\n",
       "    </tr>\n",
       "    <tr>\n",
       "      <th>...</th>\n",
       "      <td>...</td>\n",
       "      <td>...</td>\n",
       "      <td>...</td>\n",
       "      <td>...</td>\n",
       "      <td>...</td>\n",
       "      <td>...</td>\n",
       "      <td>...</td>\n",
       "      <td>...</td>\n",
       "      <td>...</td>\n",
       "      <td>...</td>\n",
       "    </tr>\n",
       "    <tr>\n",
       "      <th>995</th>\n",
       "      <td>995</td>\n",
       "      <td>5.870744e+11</td>\n",
       "      <td>5.870744e+11</td>\n",
       "      <td>4.613720e+11</td>\n",
       "      <td>5.870744e+11</td>\n",
       "      <td>6.516907e+11</td>\n",
       "      <td>3.401007e+11</td>\n",
       "      <td>8.704898e+11</td>\n",
       "      <td>6.516907e+11</td>\n",
       "      <td>6.844597e+11</td>\n",
       "    </tr>\n",
       "    <tr>\n",
       "      <th>996</th>\n",
       "      <td>996</td>\n",
       "      <td>5.870744e+11</td>\n",
       "      <td>6.031150e+11</td>\n",
       "      <td>4.459773e+11</td>\n",
       "      <td>5.393962e+11</td>\n",
       "      <td>6.516907e+11</td>\n",
       "      <td>3.401007e+11</td>\n",
       "      <td>8.531562e+11</td>\n",
       "      <td>6.192309e+11</td>\n",
       "      <td>6.031150e+11</td>\n",
       "    </tr>\n",
       "    <tr>\n",
       "      <th>997</th>\n",
       "      <td>997</td>\n",
       "      <td>6.031150e+11</td>\n",
       "      <td>6.354226e+11</td>\n",
       "      <td>4.459773e+11</td>\n",
       "      <td>4.768359e+11</td>\n",
       "      <td>6.354226e+11</td>\n",
       "      <td>2.810311e+11</td>\n",
       "      <td>8.016730e+11</td>\n",
       "      <td>5.393962e+11</td>\n",
       "      <td>6.031150e+11</td>\n",
       "    </tr>\n",
       "    <tr>\n",
       "      <th>998</th>\n",
       "      <td>998</td>\n",
       "      <td>6.031150e+11</td>\n",
       "      <td>6.031150e+11</td>\n",
       "      <td>4.153929e+11</td>\n",
       "      <td>4.613720e+11</td>\n",
       "      <td>6.516907e+11</td>\n",
       "      <td>2.957037e+11</td>\n",
       "      <td>8.531562e+11</td>\n",
       "      <td>5.079739e+11</td>\n",
       "      <td>6.192309e+11</td>\n",
       "    </tr>\n",
       "    <tr>\n",
       "      <th>999</th>\n",
       "      <td>999</td>\n",
       "      <td>6.031150e+11</td>\n",
       "      <td>5.870744e+11</td>\n",
       "      <td>4.459773e+11</td>\n",
       "      <td>4.306512e+11</td>\n",
       "      <td>6.031150e+11</td>\n",
       "      <td>2.957037e+11</td>\n",
       "      <td>8.531562e+11</td>\n",
       "      <td>5.079739e+11</td>\n",
       "      <td>6.680362e+11</td>\n",
       "    </tr>\n",
       "  </tbody>\n",
       "</table>\n",
       "<p>1000 rows × 10 columns</p>\n",
       "</div>"
      ],
      "text/plain": [
       "     Unnamed: 0    31m56s.png    10m04s.png    07m36s.png    38m55s.png  \\\n",
       "0             0 -0.000000e+00  5.439984e+10 -0.000000e+00  1.351954e+10   \n",
       "1             1 -0.000000e+00  5.439984e+10 -0.000000e+00  1.351954e+10   \n",
       "2             2 -0.000000e+00  4.071904e+10 -0.000000e+00  1.351954e+10   \n",
       "3             3 -0.000000e+00  5.439984e+10 -0.000000e+00  1.351954e+10   \n",
       "4             4 -0.000000e+00  5.439984e+10 -0.000000e+00 -0.000000e+00   \n",
       "..          ...           ...           ...           ...           ...   \n",
       "995         995  5.870744e+11  5.870744e+11  4.613720e+11  5.870744e+11   \n",
       "996         996  5.870744e+11  6.031150e+11  4.459773e+11  5.393962e+11   \n",
       "997         997  6.031150e+11  6.354226e+11  4.459773e+11  4.768359e+11   \n",
       "998         998  6.031150e+11  6.031150e+11  4.153929e+11  4.613720e+11   \n",
       "999         999  6.031150e+11  5.870744e+11  4.459773e+11  4.306512e+11   \n",
       "\n",
       "       03m10s.png    14m04s.png    33m28s.png    06m47s.png    08m25s.png  \n",
       "0   -0.000000e+00 -0.000000e+00  5.439984e+10  1.096736e+11 -0.000000e+00  \n",
       "1   -0.000000e+00 -0.000000e+00  5.439984e+10  8.192574e+10 -0.000000e+00  \n",
       "2   -0.000000e+00 -0.000000e+00  5.439984e+10  8.192574e+10 -0.000000e+00  \n",
       "3   -0.000000e+00  2.709241e+10  5.439984e+10  5.439984e+10 -0.000000e+00  \n",
       "4    2.709241e+10  4.071904e+10 -0.000000e+00  4.071904e+10 -0.000000e+00  \n",
       "..            ...           ...           ...           ...           ...  \n",
       "995  6.516907e+11  3.401007e+11  8.704898e+11  6.516907e+11  6.844597e+11  \n",
       "996  6.516907e+11  3.401007e+11  8.531562e+11  6.192309e+11  6.031150e+11  \n",
       "997  6.354226e+11  2.810311e+11  8.016730e+11  5.393962e+11  6.031150e+11  \n",
       "998  6.516907e+11  2.957037e+11  8.531562e+11  5.079739e+11  6.192309e+11  \n",
       "999  6.031150e+11  2.957037e+11  8.531562e+11  5.079739e+11  6.680362e+11  \n",
       "\n",
       "[1000 rows x 10 columns]"
      ]
     },
     "execution_count": 12,
     "metadata": {},
     "output_type": "execute_result"
    }
   ],
   "source": [
    "df=pd.read_csv('clouds_cross_sections.csv')\n",
    "df.head(1000)"
   ]
  },
  {
   "cell_type": "markdown",
   "id": "numerous-packing",
   "metadata": {},
   "source": [
    "# Crear una funcion gaussiana para ajuste"
   ]
  },
  {
   "cell_type": "code",
   "execution_count": 3,
   "id": "alive-south",
   "metadata": {},
   "outputs": [],
   "source": [
    "# crear una funcion gaussiana que va a ser un argumento para curve_fit.\n",
    "# esta funcion recibe cuatro argumentos (x,amp,sigma,cm) y vuelve uno: gaussian\n",
    "\n",
    "def fittingGauss1D(x,amp,sigma,cm):\n",
    "\n",
    "    return gaussian"
   ]
  },
  {
   "cell_type": "markdown",
   "id": "norwegian-invitation",
   "metadata": {},
   "source": [
    "# Crear una funcion que hace ajuste "
   ]
  },
  {
   "cell_type": "code",
   "execution_count": 4,
   "id": "incident-stress",
   "metadata": {},
   "outputs": [],
   "source": [
    "# aqui mas importante parte es usar scipy.optimize & curve_fit para hacer ajuste\n",
    "# funcion recibe dos argumentos (x,y) que son \n",
    "# x = primera columna de tabla (numero del pixel)\n",
    "# y = n-ta columna de tabla (valor de la amplituda de la nube)\n",
    "# la function vuelve valores de ajuste: amp,sigma,cm\n",
    "\n",
    "def calculate_coefficients(x,y):\n",
    "    p0=[np.max(y),100,500]\n",
    "\n",
    "    return amp,sigma,cm"
   ]
  },
  {
   "cell_type": "markdown",
   "id": "adapted-contractor",
   "metadata": {},
   "source": [
    "# Funcion \"temperature\" ya esta lista"
   ]
  },
  {
   "cell_type": "code",
   "execution_count": 5,
   "id": "egyptian-arthritis",
   "metadata": {},
   "outputs": [],
   "source": [
    "# esta funcion esta lista\n",
    "# recibe valor de ajuste sigma\n",
    "# vuelve valor de temperatura [K]\n",
    "\n",
    "def temperature(sigma):\n",
    "    hbar = 6.626e-34/(2.0*np.pi)\n",
    "    pixelsize=1.7e-6\n",
    "    kB=1.38e-23\n",
    "    TOF=30.0e-3\n",
    "    m=1.44e-25\n",
    "    sigma_in_pixels=sigma*pixelsize\n",
    "    temp = ((sigma_in_pixels)**2.0*m)/(kB*TOF**2.0)\n",
    "    return temp"
   ]
  },
  {
   "cell_type": "markdown",
   "id": "united-snake",
   "metadata": {},
   "source": [
    "# Crear una loop principal que llama otras funciones"
   ]
  },
  {
   "cell_type": "code",
   "execution_count": 6,
   "id": "satisfactory-doctor",
   "metadata": {},
   "outputs": [
    {
     "ename": "IndentationError",
     "evalue": "expected an indented block (<ipython-input-6-788570352604>, line 10)",
     "output_type": "error",
     "traceback": [
      "\u001b[0;36m  File \u001b[0;32m\"<ipython-input-6-788570352604>\"\u001b[0;36m, line \u001b[0;32m10\u001b[0m\n\u001b[0;31m    x=primera columna\u001b[0m\n\u001b[0m    ^\u001b[0m\n\u001b[0;31mIndentationError\u001b[0m\u001b[0;31m:\u001b[0m expected an indented block\n"
     ]
    }
   ],
   "source": [
    "# aqui sera loop principal:\n",
    "  # en esta loop se llama funciones anteriores\n",
    "  # en el order que en final uno recibe valor de temperatura de numbe\n",
    "  # y mismo en el loop valor de temperature de cada nube se guarda otra tabla de Pandas \n",
    "\n",
    "    \n",
    "# pistas:\n",
    "# esta loop carga y analisa cada nube (columna 2,3,4,5...): \n",
    "# primera columna de tabla es siempre misma porque x son los numeros de pixels\n",
    "# y se cambia en loop \n",
    "# pista: y=df[df.columns[i+1]].to_numpy()\n",
    "# donde df.columns[i+1] se refiere a nombre de columna con nube\n",
    "# en la loop se guarda los resulados a otra tabla de Pandas df_cloud_temp\n",
    "# pista: df_cloud_temp = pd.concat([df_cloud_temp, df_new], axis=1)\n",
    "\n",
    "for i in range(len(df.columns)-1):\n",
    "    ...."
   ]
  },
  {
   "cell_type": "code",
   "execution_count": null,
   "id": "different-simulation",
   "metadata": {},
   "outputs": [],
   "source": [
    "df_cloud_temp.head()"
   ]
  }
 ],
 "metadata": {
  "kernelspec": {
   "display_name": "Python 3",
   "language": "python",
   "name": "python3"
  },
  "language_info": {
   "codemirror_mode": {
    "name": "ipython",
    "version": 3
   },
   "file_extension": ".py",
   "mimetype": "text/x-python",
   "name": "python",
   "nbconvert_exporter": "python",
   "pygments_lexer": "ipython3",
   "version": "3.7.2"
  }
 },
 "nbformat": 4,
 "nbformat_minor": 5
}
