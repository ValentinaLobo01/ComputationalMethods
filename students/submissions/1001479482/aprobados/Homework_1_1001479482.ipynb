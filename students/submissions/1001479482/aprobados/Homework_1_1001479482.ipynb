{
 "cells": [
  {
   "cell_type": "code",
   "execution_count": 1,
   "metadata": {
    "colab": {
     "base_uri": "https://localhost:8080/"
    },
    "id": "jlURaLRNuuBE",
    "outputId": "c6f2ef21-d1f8-4eae-a23a-8930218f7988"
   },
   "outputs": [
    {
     "name": "stdout",
     "output_type": "stream",
     "text": [
      "Populating the interactive namespace from numpy and matplotlib\n"
     ]
    }
   ],
   "source": [
    "import numpy as np\n",
    "%pylab inline\n",
    "import matplotlib.pyplot as plt"
   ]
  },
  {
   "cell_type": "code",
   "execution_count": 2,
   "metadata": {
    "id": "svPHHmV6u3xd"
   },
   "outputs": [],
   "source": [
    "def f(x):\n",
    "    return np.sin(x)**2\n",
    "def df(x):\n",
    "    return 2*np.cos(x)*np.sin(x)"
   ]
  },
  {
   "cell_type": "code",
   "execution_count": 3,
   "metadata": {
    "id": "PWd2ycv1wC2L"
   },
   "outputs": [],
   "source": [
    "#copy and paste\n",
    "#Hermite\n",
    "def hdiff(x, y, yprime):\n",
    "    m = x.size \n",
    "    l = 2*m\n",
    "    z = np.zeros(l)\n",
    "    a = np.zeros(l)\n",
    "    for i in range(m):\n",
    "        z[2*i] = x[i]\n",
    "        z[2*i+1] = x[i]\n",
    "    for i in range(m):\n",
    "        a[2*i] = y[i]\n",
    "        a[2*i+1] = y[i]\n",
    "    for i in np.flip(np.arange(1, m)): \n",
    "       a[2*i+1] = yprime[i]\n",
    "       a[2*i] = (a[2*i]-a[2*i-1]) / (z[2*i]-z[2*i-1])\n",
    "    a[1] = yprime[0]\n",
    "    for j in range(2, l):\n",
    "        for i in np.flip(np.arange(j, l)):\n",
    "            a[i]=(a[i]-a[i-1]) / (z[i]-z[i-j])\n",
    "    return a\n",
    "    \n",
    "def hermite(x, y, yprime, w):\n",
    "    m = x.size \n",
    "    a = hdiff(x, y, yprime)\n",
    "    z = np.zeros(2*m)\n",
    "    for i in range(m):\n",
    "        z[2*i] = x[i]\n",
    "        z[2*i+1] = x[i]\n",
    "    sum = a[0]\n",
    "    pr = 1.0\n",
    "    for j in range(2*m-1):\n",
    "        pr *= w-z[j]\n",
    "        sum += a[j+1]*pr\n",
    "    return sum    "
   ]
  },
  {
   "cell_type": "code",
   "execution_count": 4,
   "metadata": {
    "id": "hx6K3ng_zOAE"
   },
   "outputs": [],
   "source": [
    "xdata = np.linspace(0,2*np.pi, 5) #5 is the number of intervals that I chose.\n",
    "x = np.linspace(0,2*np.pi, 100)\n",
    "y = f(xdata)\n",
    "fun=f(x)\n",
    "yprime = df(xdata)\n",
    "Hinterp = hermite(xdata, y, yprime, x)"
   ]
  },
  {
   "cell_type": "code",
   "execution_count": 5,
   "metadata": {
    "id": "fVbxEpYT5HTI"
   },
   "outputs": [],
   "source": [
    "#Lagrange\n",
    "from scipy.interpolate import lagrange\n",
    "lagrangee= lagrange(xdata,y)"
   ]
  },
  {
   "cell_type": "code",
   "execution_count": 6,
   "metadata": {
    "colab": {
     "base_uri": "https://localhost:8080/",
     "height": 282
    },
    "id": "6UFoQkQH0Hfx",
    "outputId": "e0fe5a80-59ed-4958-98c1-eecff81385f9"
   },
   "outputs": [
    {
     "data": {
      "text/plain": [
       "[<matplotlib.lines.Line2D at 0x7fe44ecd9828>]"
      ]
     },
     "execution_count": 6,
     "metadata": {},
     "output_type": "execute_result"
    },
    {
     "data": {
      "image/png": "[encoded data removed]",
      "text/plain": [
       "<Figure size 432x288 with 1 Axes>"
      ]
     },
     "metadata": {
      "needs_background": "light"
     },
     "output_type": "display_data"
    }
   ],
   "source": [
    "plt.plot( x, Hinterp, color=\"orange\")#hermite\n",
    "plt.plot( x, fun, color=\"blue\")#real fuction\n",
    "plt.plot( xdata, y, \"o\", color=\"purple\")#data\n",
    "plt.plot( x, lagrangee(x), color=\"red\")#lagrange"
   ]
  },
  {
   "cell_type": "markdown",
   "metadata": {
    "id": "MyuZyE8M7j6j"
   },
   "source": [
    "**Answer:**\n",
    "\n",
    "Hermite interpolation (the orange one) fits the real function (blue one) better than Lagrange (red one). But we notice that each interpolation passes through the data (purple dots)."
   ]
  },
  {
   "cell_type": "code",
   "execution_count": null,
   "metadata": {},
   "outputs": [],
   "source": []
  }
 ],
 "metadata": {
  "colab": {
   "name": "Homework_1_1001479482.ipynb",
   "provenance": []
  },
  "kernelspec": {
   "display_name": "Python 3",
   "language": "python",
   "name": "python3"
  },
  "language_info": {
   "codemirror_mode": {
    "name": "ipython",
    "version": 3
   },
   "file_extension": ".py",
   "mimetype": "text/x-python",
   "name": "python",
   "nbconvert_exporter": "python",
   "pygments_lexer": "ipython3",
   "version": "3.7.2"
  }
 },
 "nbformat": 4,
 "nbformat_minor": 1
}
