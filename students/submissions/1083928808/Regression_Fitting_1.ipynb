{
 "cells": [
  {
   "cell_type": "markdown",
   "metadata": {},
   "source": [
    "# Computational Methods - Homework 11\n",
    "## Universidad de Antioquia\n",
    "\n",
    "**Student:** Andrés Felipe Riaño Quintanilla\n",
    "\n",
    "**ID:** 1083928808 "
   ]
  },
  {
   "cell_type": "markdown",
   "metadata": {},
   "source": [
    "### Given below data:\n",
    "* fit it with the forth order polynomial ($4^{th} \\ order \\ polynomial$) using package scipy.optimize.curve_fit \n",
    "* plot the data and the fit\n",
    "\n",
    "```Python\n",
    "import pandas as pd\n",
    "df = pd.DataFrame({'x': [1, 2, 3, 4, 5, 6, 7, 8, 9, 10, 11, 12, 13, 14, 15],\n",
    "                   'y': [3, 14, 23, 25, 23, 15, 9, 5, 9, 13, 17, 24, 32, 36, 46]})\n",
    "```"
   ]
  },
  {
   "cell_type": "markdown",
   "metadata": {},
   "source": [
    "### Solution:"
   ]
  },
  {
   "cell_type": "code",
   "execution_count": 1,
   "metadata": {},
   "outputs": [],
   "source": [
    "import pandas as pd"
   ]
  },
  {
   "cell_type": "code",
   "execution_count": 2,
   "metadata": {},
   "outputs": [
    {
     "data": {
      "text/html": [
       "<div>\n",
       "<style scoped>\n",
       "    .dataframe tbody tr th:only-of-type {\n",
       "        vertical-align: middle;\n",
       "    }\n",
       "\n",
       "    .dataframe tbody tr th {\n",
       "        vertical-align: top;\n",
       "    }\n",
       "\n",
       "    .dataframe thead th {\n",
       "        text-align: right;\n",
       "    }\n",
       "</style>\n",
       "<table border=\"1\" class=\"dataframe\">\n",
       "  <thead>\n",
       "    <tr style=\"text-align: right;\">\n",
       "      <th></th>\n",
       "      <th>x</th>\n",
       "      <th>y</th>\n",
       "    </tr>\n",
       "  </thead>\n",
       "  <tbody>\n",
       "    <tr>\n",
       "      <th>0</th>\n",
       "      <td>1</td>\n",
       "      <td>3</td>\n",
       "    </tr>\n",
       "    <tr>\n",
       "      <th>1</th>\n",
       "      <td>2</td>\n",
       "      <td>14</td>\n",
       "    </tr>\n",
       "    <tr>\n",
       "      <th>2</th>\n",
       "      <td>3</td>\n",
       "      <td>23</td>\n",
       "    </tr>\n",
       "    <tr>\n",
       "      <th>3</th>\n",
       "      <td>4</td>\n",
       "      <td>25</td>\n",
       "    </tr>\n",
       "    <tr>\n",
       "      <th>4</th>\n",
       "      <td>5</td>\n",
       "      <td>23</td>\n",
       "    </tr>\n",
       "  </tbody>\n",
       "</table>\n",
       "</div>"
      ],
      "text/plain": [
       "   x   y\n",
       "0  1   3\n",
       "1  2  14\n",
       "2  3  23\n",
       "3  4  25\n",
       "4  5  23"
      ]
     },
     "execution_count": 2,
     "metadata": {},
     "output_type": "execute_result"
    }
   ],
   "source": [
    "df = pd.DataFrame({'x': [1, 2, 3, 4, 5, 6, 7, 8, 9, 10, 11, 12, 13, 14, 15],\n",
    "                   'y': [3, 14, 23, 25, 23, 15, 9, 5, 9, 13, 17, 24, 32, 36, 46]})\n",
    "df.head()"
   ]
  },
  {
   "cell_type": "code",
   "execution_count": 3,
   "metadata": {},
   "outputs": [],
   "source": [
    "import matplotlib.pyplot as plt\n",
    "\n",
    "font1 = {'family':'Georgia', 'weight':'bold', 'size':20}\n",
    "font2 = {'family':'Georgia', 'weight':'bold', 'size':15}"
   ]
  },
  {
   "cell_type": "code",
   "execution_count": 4,
   "metadata": {},
   "outputs": [
    {
     "data": {
      "image/png": "[encoded data removed]",
      "text/plain": [
       "<Figure size 864x432 with 1 Axes>"
      ]
     },
     "metadata": {
      "needs_background": "light"
     },
     "output_type": "display_data"
    }
   ],
   "source": [
    "#Points.\n",
    "\n",
    "fig, ax = plt.subplots(1,1, figsize = (12,6))\n",
    "\n",
    "ax.plot(df.x, df.y, marker = 'o', color = 'purple', linestyle = '')\n",
    "ax.set_title('Data', **font1); ax.set_xlabel('x', **font2); ax.set_ylabel('y', **font2); ax.grid()"
   ]
  },
  {
   "cell_type": "markdown",
   "metadata": {},
   "source": [
    "A fourth degree polynomial has the following structure:\n",
    "\n",
    "$$a_0+a_1x+a_2x^2+a_3x^3+a_4x^4$$\n",
    "\n",
    "With $a_i \\in \\mathbb{R}$ for $i=0,1,2,3,4$."
   ]
  },
  {
   "cell_type": "code",
   "execution_count": 5,
   "metadata": {},
   "outputs": [],
   "source": [
    "from scipy.optimize import curve_fit\n",
    "import numpy as np"
   ]
  },
  {
   "cell_type": "code",
   "execution_count": 6,
   "metadata": {},
   "outputs": [
    {
     "name": "stdout",
     "output_type": "stream",
     "text": [
      "a0 = -26.516149041458238\n",
      "a1 = 35.823113667954814\n",
      "a2 = -8.364859287687636\n",
      "a3 = 0.7081169366209423\n",
      "a4 = -0.019244300853715143\n"
     ]
    }
   ],
   "source": [
    "Pol = lambda x, a0, a1, a2, a3, a4: a0 + a1*x + a2*x**2 + a3*x**3 + a4*x**4  #Fourth degree polynomial.\n",
    "\n",
    "Coef = curve_fit(Pol, df.x, df.y, np.ones(5), method = 'lm')[0]  #Coefficients of the fourth degree polynomial.\n",
    "\n",
    "for i in range(5):\n",
    "    print('a'+str(i)+' = {}'.format(Coef[i]))"
   ]
  },
  {
   "cell_type": "code",
   "execution_count": 7,
   "metadata": {},
   "outputs": [
    {
     "data": {
      "text/plain": [
       "<matplotlib.legend.Legend at 0x20c9f940e20>"
      ]
     },
     "execution_count": 7,
     "metadata": {},
     "output_type": "execute_result"
    },
    {
     "data": {
      "image/png": "[encoded data removed]",
      "text/plain": [
       "<Figure size 864x432 with 1 Axes>"
      ]
     },
     "metadata": {
      "needs_background": "light"
     },
     "output_type": "display_data"
    }
   ],
   "source": [
    "x = np.linspace(1, 15, 1000)\n",
    "P = np.poly1d(Coef[::-1])  \n",
    "\n",
    "fig, ax = plt.subplots(1, 1, figsize = (12,6))\n",
    "\n",
    "ax.plot(df.x, df.y, marker = 'o', color = 'purple', linestyle = '', label = 'Data')\n",
    "ax.plot(x, P(x), marker = '', color = 'black', linestyle = '-', label = 'Fitting curve')\n",
    "ax.set_title('Data vs Fitting Curve', **font1); ax.set_xlabel('x', **font2); ax.set_ylabel('y', **font2)\n",
    "ax.grid(); ax.legend()"
   ]
  }
 ],
 "metadata": {
  "kernelspec": {
   "display_name": "Python 3",
   "language": "python",
   "name": "python3"
  },
  "language_info": {
   "codemirror_mode": {
    "name": "ipython",
    "version": 3
   },
   "file_extension": ".py",
   "mimetype": "text/x-python",
   "name": "python",
   "nbconvert_exporter": "python",
   "pygments_lexer": "ipython3",
   "version": "3.8.5"
  }
 },
 "nbformat": 4,
 "nbformat_minor": 4
}
