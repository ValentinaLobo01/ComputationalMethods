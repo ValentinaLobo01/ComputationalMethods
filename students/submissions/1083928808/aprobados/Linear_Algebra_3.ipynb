{
 "cells": [
  {
   "cell_type": "markdown",
   "metadata": {},
   "source": [
    "# Computational Methods - Homework 7\n",
    "## Universidad de Antioquia\n",
    "\n",
    "**Student:** Andrés Felipe Riaño Quintanilla\n",
    "\n",
    "**ID:** 1083928808 "
   ]
  },
  {
   "cell_type": "markdown",
   "metadata": {},
   "source": [
    "Calculate $S^5$ using two methods. in a \"for\" loop and using diagonalization. Compare the results.\n",
    "\n",
    "$$S=\n",
    "\\begin{bmatrix}\n",
    "1 &  -1 & -1 & -1\\\\\n",
    "-1 &  2 & 0 & 0\\\\\n",
    "-1 &  3 & 3 & 0 \\\\\n",
    "-1 &  0 & 1 & 4 \\\\\n",
    "\\end{bmatrix}$$"
   ]
  },
  {
   "cell_type": "markdown",
   "metadata": {},
   "source": [
    "**Defining S:**"
   ]
  },
  {
   "cell_type": "code",
   "execution_count": 1,
   "metadata": {},
   "outputs": [],
   "source": [
    "import numpy as np\n",
    "\n",
    "S = np.array([[1,-1,-1,-1],[-1,2,0,0],[-1,3,3,0],[-1,0,1,4]])"
   ]
  },
  {
   "cell_type": "markdown",
   "metadata": {},
   "source": [
    "**$S^5$ using a \"for\" loop:** "
   ]
  },
  {
   "cell_type": "code",
   "execution_count": 2,
   "metadata": {},
   "outputs": [
    {
     "name": "stdout",
     "output_type": "stream",
     "text": [
      "S^5 using a 'for' loop: \n",
      "\n",
      "[[ 9.34300113e+67 -1.45494637e+68 -1.07862155e+68 -1.07862155e+68]\n",
      " [-3.25971907e+67  5.07622376e+67  3.76324822e+67  3.76324822e+67]\n",
      " [-1.02465846e+68  1.59565763e+68  1.18293756e+68  1.18293756e+68]\n",
      " [-2.26155911e+68  3.52183113e+68  2.61090238e+68  2.61090238e+68]]\n"
     ]
    }
   ],
   "source": [
    "S5f = np.identity(len(S))\n",
    "\n",
    "for i in range(100):\n",
    "    \n",
    "    S5f = np.matmul(S5f,S)\n",
    "\n",
    "print(\"S^5 using a 'for' loop: \\n\\n{}\".format(S5f))"
   ]
  },
  {
   "cell_type": "markdown",
   "metadata": {},
   "source": [
    "**$S^5$ using diagonalization:**\n",
    "\n",
    "$$S^5=PD^5P^{-1}$$"
   ]
  },
  {
   "cell_type": "code",
   "execution_count": 3,
   "metadata": {},
   "outputs": [
    {
     "name": "stdout",
     "output_type": "stream",
     "text": [
      "P = \n",
      "[[-3.49561271e-01  7.94033408e-01  7.62229110e-02  7.67415610e-16]\n",
      " [ 1.21959906e-01  4.79650284e-01  3.61664456e-01  6.86635020e-16]\n",
      " [ 3.83368157e-01 -2.42866291e-01 -8.33174113e-01 -7.07106781e-01]\n",
      " [ 8.46145115e-01  2.83659156e-01  4.11351172e-01  7.07106781e-01]]\n",
      "\n",
      "D^5 = \n",
      "[[5.23576243e+68 0.00000000e+00 0.00000000e+00 0.00000000e+00]\n",
      " [0.00000000e+00 5.32335827e-47 0.00000000e+00 0.00000000e+00]\n",
      " [0.00000000e+00 0.00000000e+00 1.84909764e+25 0.00000000e+00]\n",
      " [0.00000000e+00 0.00000000e+00 0.00000000e+00 5.15377521e+47]]\n"
     ]
    }
   ],
   "source": [
    "E_val, E_vec = np.linalg.eig(S)  #Eigen values and eigen vectors.\n",
    "P = E_vec  \n",
    "Pinv = np.linalg.inv(P)\n",
    "D5 = np.zeros((len(S),len(S)))\n",
    "\n",
    "for i in range(len(S)):\n",
    "    D5[i,i] = (E_val[i])**100\n",
    "    \n",
    "print('P = \\n{}'.format(P))\n",
    "print('\\nD^5 = \\n{}'.format(D5))"
   ]
  },
  {
   "cell_type": "code",
   "execution_count": 4,
   "metadata": {},
   "outputs": [
    {
     "name": "stdout",
     "output_type": "stream",
     "text": [
      "S^5 using diagonalization: \n",
      "\n",
      "[[ 9.34300113e+67 -1.45494637e+68 -1.07862155e+68 -1.07862155e+68]\n",
      " [-3.25971907e+67  5.07622376e+67  3.76324822e+67  3.76324822e+67]\n",
      " [-1.02465846e+68  1.59565763e+68  1.18293756e+68  1.18293756e+68]\n",
      " [-2.26155911e+68  3.52183113e+68  2.61090238e+68  2.61090238e+68]]\n"
     ]
    }
   ],
   "source": [
    "S5d = np.matmul(P,np.matmul(D5,Pinv))\n",
    "\n",
    "print(\"S^5 using diagonalization: \\n\\n{}\".format(S5d))"
   ]
  },
  {
   "cell_type": "markdown",
   "metadata": {},
   "source": [
    "It seems that the results of using a \"for\" loop and using diagonalization were the same. But they are different in some decimal places:"
   ]
  },
  {
   "cell_type": "code",
   "execution_count": 5,
   "metadata": {},
   "outputs": [
    {
     "name": "stdout",
     "output_type": "stream",
     "text": [
      "[[-1.08950855e+54  1.67616700e+54  1.24515263e+54  1.53249554e+54]\n",
      " [ 4.78904857e+53 -7.42302528e+53 -5.50740585e+53 -6.52507867e+53]\n",
      " [ 1.23318001e+54 -1.89167418e+54 -1.41276933e+54 -1.74800273e+54]\n",
      " [ 3.20866254e+54 -4.93272002e+54 -3.63967691e+54 -4.35803419e+54]]\n"
     ]
    }
   ],
   "source": [
    "print(S5f-S5d)"
   ]
  },
  {
   "cell_type": "markdown",
   "metadata": {},
   "source": [
    "The above matrix entries are approximately zero."
   ]
  }
 ],
 "metadata": {
  "kernelspec": {
   "display_name": "Python 3",
   "language": "python",
   "name": "python3"
  },
  "language_info": {
   "codemirror_mode": {
    "name": "ipython",
    "version": 3
   },
   "file_extension": ".py",
   "mimetype": "text/x-python",
   "name": "python",
   "nbconvert_exporter": "python",
   "pygments_lexer": "ipython3",
   "version": "3.7.2"
  }
 },
 "nbformat": 4,
 "nbformat_minor": 4
}
