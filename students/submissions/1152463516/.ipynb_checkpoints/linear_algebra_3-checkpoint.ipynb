{
 "cells": [
  {
   "cell_type": "code",
   "execution_count": 4,
   "metadata": {},
   "outputs": [],
   "source": [
    "import numpy as np"
   ]
  },
  {
   "cell_type": "code",
   "execution_count": 5,
   "metadata": {},
   "outputs": [],
   "source": [
    "S = np.array([[1, -1, -1, -1], \n",
    "              [-1, 2, 0, 0], \n",
    "              [-1, 3, 3, 0], \n",
    "              [-1, 0, 1, 4]])"
   ]
  },
  {
   "cell_type": "code",
   "execution_count": 6,
   "metadata": {},
   "outputs": [
    {
     "data": {
      "text/plain": [
       "array([[ 9.34300113e+67, -1.45494637e+68, -1.07862155e+68,\n",
       "        -1.07862155e+68],\n",
       "       [-3.25971907e+67,  5.07622376e+67,  3.76324822e+67,\n",
       "         3.76324822e+67],\n",
       "       [-1.02465846e+68,  1.59565763e+68,  1.18293756e+68,\n",
       "         1.18293756e+68],\n",
       "       [-2.26155911e+68,  3.52183113e+68,  2.61090238e+68,\n",
       "         2.61090238e+68]])"
      ]
     },
     "execution_count": 6,
     "metadata": {},
     "output_type": "execute_result"
    }
   ],
   "source": [
    "S_5 = np.identity(len(S))\n",
    "\n",
    "# calculation with for loop\n",
    "for i in range(5):\n",
    "    S_5 = S_5 @ S\n",
    "S_5"
   ]
  },
  {
   "cell_type": "code",
   "execution_count": 42,
   "metadata": {},
   "outputs": [
    {
     "data": {
      "text/plain": [
       "array([[  485.,  -755.,  -563.,  -563.],\n",
       "       [ -179.,   280.,   192.,   192.],\n",
       "       [ -675.,  1201.,   707.,   464.],\n",
       "       [-1027.,  1448.,  1275.,  1518.]])"
      ]
     },
     "execution_count": 42,
     "metadata": {},
     "output_type": "execute_result"
    }
   ],
   "source": [
    "eig_values, eig_vectors = np.linalg.eig(S)\n",
    "\n",
    "D = np.eye(len(eig_values))\n",
    "for n, i in enumerate(eig_values):\n",
    "    D[n, n] = i\n",
    "\n",
    "P = eig_vectors\n",
    "P_inv = np.linalg.inv(P)\n",
    "\n",
    "# calculation with diagonization\n",
    "D_5 = [x ** 5 for x in D]\n",
    "\n",
    "S_5 = P @ D_5 @ P_inv\n",
    "S_5\n"
   ]
  }
 ],
 "metadata": {
  "interpreter": {
   "hash": "959de66c19c0d38bf247e8663716d4908d680f3961f0bbab5046a68da5760f84"
  },
  "kernelspec": {
   "display_name": "Python 3",
   "language": "python",
   "name": "python3"
  },
  "language_info": {
   "codemirror_mode": {
    "name": "ipython",
    "version": 3
   },
   "file_extension": ".py",
   "mimetype": "text/x-python",
   "name": "python",
   "nbconvert_exporter": "python",
   "pygments_lexer": "ipython3",
   "version": "3.7.2"
  }
 },
 "nbformat": 4,
 "nbformat_minor": 2
}
