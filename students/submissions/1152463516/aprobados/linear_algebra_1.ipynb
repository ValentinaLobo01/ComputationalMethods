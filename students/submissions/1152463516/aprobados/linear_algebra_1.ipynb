{
 "cells": [
  {
   "cell_type": "code",
   "execution_count": 1,
   "source": [
    "import numpy as np"
   ],
   "outputs": [],
   "metadata": {}
  },
  {
   "cell_type": "code",
   "execution_count": 12,
   "source": [
    "# Resistance values\r\n",
    "R1 = 1\r\n",
    "R2 = 2\r\n",
    "R3 = 3\r\n",
    "R4 = 4\r\n",
    "R5 = 5\r\n",
    "# Voltage values\r\n",
    "E1 = 10\r\n",
    "E2 = 40\r\n",
    "# Matrix A and b\r\n",
    "R = np.array([[-R1, -R2, -R3, 0, 0, 0], \r\n",
    "              [0, R2, 0, -R4, 0, 0], \r\n",
    "              [0, 0, R3, 0, -R5, 0],\r\n",
    "              [1, 0, -1, 0, -1, 0],\r\n",
    "              [-1, 1, 0, 1, 0, 0],\r\n",
    "              [0, 0, 0, -1, 1, 1]])\r\n",
    "E = np.array([[-E1, -E2, E2, 0, 0, 0]]).T"
   ],
   "outputs": [],
   "metadata": {}
  },
  {
   "cell_type": "code",
   "execution_count": 15,
   "source": [
    "I = np.linalg.solve(R, E)\r\n",
    "I"
   ],
   "outputs": [
    {
     "output_type": "execute_result",
     "data": {
      "text/plain": [
       "array([[ 1.98019802],\n",
       "       [-5.34653465],\n",
       "       [ 6.23762376],\n",
       "       [ 7.32673267],\n",
       "       [-4.25742574],\n",
       "       [11.58415842]])"
      ]
     },
     "metadata": {},
     "execution_count": 15
    }
   ],
   "metadata": {}
  }
 ],
 "metadata": {
  "orig_nbformat": 4,
  "language_info": {
   "name": "python",
   "version": "3.8.11",
   "mimetype": "text/x-python",
   "codemirror_mode": {
    "name": "ipython",
    "version": 3
   },
   "pygments_lexer": "ipython3",
   "nbconvert_exporter": "python",
   "file_extension": ".py"
  },
  "kernelspec": {
   "name": "python3",
   "display_name": "Python 3.8.11 64-bit ('base': conda)"
  },
  "interpreter": {
   "hash": "959de66c19c0d38bf247e8663716d4908d680f3961f0bbab5046a68da5760f84"
  }
 },
 "nbformat": 4,
 "nbformat_minor": 2
}