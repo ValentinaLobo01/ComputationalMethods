{
  "nbformat": 4,
  "nbformat_minor": 0,
  "metadata": {
    "colab": {
      "name": "Tarea de fitting.ipynb",
      "provenance": []
    },
    "kernelspec": {
      "name": "python3",
      "display_name": "Python 3"
    },
    "language_info": {
      "name": "python"
    }
  },
  "cells": [
    {
      "cell_type": "code",
      "metadata": {
        "id": "sgax5oLA3vFj"
      },
      "source": [
        "# Realizaremos la tarea:\n",
        "\n",
        "import pandas as pd\n",
        "import numpy as np\n",
        "import numpy as np  # Importas la libreria.\n",
        "import matplotlib.pyplot as plt\n",
        "df = pd.DataFrame({'x': [1, 2, 3, 4, 5, 6, 7, 8, 9, 10, 11, 12, 13, 14, 15],\n",
        "                   'y': [3, 14, 23, 25, 23, 15, 9, 5, 9, 13, 17, 24, 32, 36, 46]})   # Datos.\n",
        "\n",
        "df                   \n",
        "xdata=df[\"x\"]\n",
        "ydata=df[\"y\"]"
      ],
      "execution_count": 10,
      "outputs": []
    },
    {
      "cell_type": "code",
      "metadata": {
        "id": "s9KRLNxc30y4"
      },
      "source": [
        "# Procedemos a la solucion:\n",
        "def funcion(x,a1,a0):\n",
        "  return a1*x+a0"
      ],
      "execution_count": 11,
      "outputs": []
    },
    {
      "cell_type": "code",
      "metadata": {
        "id": "J77_o6cG4EpG"
      },
      "source": [
        "p0=np.array([1.0,1.0])"
      ],
      "execution_count": 12,
      "outputs": []
    },
    {
      "cell_type": "code",
      "metadata": {
        "colab": {
          "base_uri": "https://localhost:8080/"
        },
        "id": "xZOndJxF4Gi2",
        "outputId": "182197c9-9e47-4db4-d032-638ebef348c5"
      },
      "source": [
        "from scipy.optimize import curve_fit\n",
        "popt, pcov = curve_fit(funcion, xdata, ydata, p0, method='lm')\n",
        "perr = np.sqrt(np.diag(pcov))\n",
        "print('a1= ',popt[0])\n",
        "print('a0= ',popt[1])\n",
        "print(perr)"
      ],
      "execution_count": 13,
      "outputs": [
        {
          "output_type": "stream",
          "name": "stdout",
          "text": [
            "a1=  1.6142857142870541\n",
            "a0=  6.685714285726684\n",
            "[0.59252275 5.38728856]\n"
          ]
        }
      ]
    },
    {
      "cell_type": "code",
      "metadata": {
        "id": "50B-EIfv4Mp3"
      },
      "source": [
        "x_mesh=np.linspace(np.min(xdata),np.max(xdata),1000)\n",
        "y_fit=popt[0]*x_mesh + popt[1]"
      ],
      "execution_count": 14,
      "outputs": []
    },
    {
      "cell_type": "code",
      "metadata": {
        "colab": {
          "base_uri": "https://localhost:8080/",
          "height": 279
        },
        "id": "gfPySRca4PEV",
        "outputId": "3ce471e2-d642-4e63-b50c-a0c677be5cf0"
      },
      "source": [
        "fig,ax=plt.subplots(1,1)\n",
        "ax.plot(xdata,ydata,'sb', label='data')\n",
        "ax.plot(x_mesh,y_fit,'-r', label='fitting LM')\n",
        "\n",
        "ax.set_xlabel('x')\n",
        "ax.set_ylabel('y(x)')\n",
        "ax.legend()\n",
        "plt.grid()"
      ],
      "execution_count": 15,
      "outputs": [
        {
          "output_type": "display_data",
          "data": {
            "image/png": "[encoded data removed]",
            "text/plain": [
              "<Figure size 432x288 with 1 Axes>"
            ]
          },
          "metadata": {
            "needs_background": "light"
          }
        }
      ]
    },
    {
      "cell_type": "code",
      "metadata": {
        "id": "uA85zChm4RLA"
      },
      "source": [
        ""
      ],
      "execution_count": null,
      "outputs": []
    }
  ]
}