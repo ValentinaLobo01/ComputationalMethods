{
  "nbformat": 4,
  "nbformat_minor": 0,
  "metadata": {
    "colab": {
      "name": "Copia de Untitled11.ipynb",
      "provenance": []
    },
    "kernelspec": {
      "name": "python3",
      "display_name": "Python 3"
    },
    "language_info": {
      "name": "python"
    }
  },
  "cells": [
    {
      "cell_type": "code",
      "metadata": {
        "id": "p4jA8H69FtKj",
        "colab": {
          "base_uri": "https://localhost:8080/"
        },
        "outputId": "6bc715ad-d979-48be-8e7e-a82571bc4a74"
      },
      "source": [
        "# Realizaremos el problema de algebra lineal:\n",
        "import numpy as np\n",
        "# Tenemos un circuito y debemos de hallar todas las corrientes que pasan por dicho circuito:\n",
        "\n",
        "# Tenemos que las corrientes son:\n",
        "R1=1\n",
        "R2=2\n",
        "R3=3\n",
        "R4=4\n",
        "R5=5\n",
        "# Debemos de poner nuestra matriz aumentada, para eso hacemos lo siguiente:\n",
        "\n",
        "A=np.array( [[-1,-2,-3,0,0,0 ],[0,2,0,-4,0,0], [0,0,3,0,-5,0],[1,0,-1,0,-1,0],[ -1,1,0,1,0,0],[0,0,0,-1,1,1]])\n",
        "\n",
        "b=np.array([[-10],[-40],[40],[0],[0],[0]])\n",
        "\n",
        "print(\" Las soluciones son:\")\n",
        "\n",
        "x=np.linalg.solve(A, b)\n",
        "print(x)\n",
        "\n",
        "\n",
        "\n",
        "\n",
        "\n",
        "\n",
        "\n"
      ],
      "execution_count": 4,
      "outputs": [
        {
          "output_type": "stream",
          "name": "stdout",
          "text": [
            " Las soluciones son:\n",
            "[[ 1.98019802]\n",
            " [-5.34653465]\n",
            " [ 6.23762376]\n",
            " [ 7.32673267]\n",
            " [-4.25742574]\n",
            " [11.58415842]]\n"
          ]
        }
      ]
    },
    {
      "cell_type": "code",
      "metadata": {
        "id": "GlfDZVgzMLsg"
      },
      "source": [
        ""
      ],
      "execution_count": null,
      "outputs": []
    }
  ]
}