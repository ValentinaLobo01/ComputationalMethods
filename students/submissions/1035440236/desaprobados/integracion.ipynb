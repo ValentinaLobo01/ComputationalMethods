{
 "cells": [
  {
   "cell_type": "code",
   "execution_count": 1,
   "metadata": {
    "colab": {
     "base_uri": "https://localhost:8080/"
    },
    "id": "ner0giiRAUlX",
    "outputId": "5624c831-a912-4d92-dc5d-022a44ccb5a5"
   },
   "outputs": [
    {
     "name": "stdout",
     "output_type": "stream",
     "text": [
      "2.0 +/- 2.220446049250313e-14\n"
     ]
    }
   ],
   "source": [
    "import scipy.integrate as integrate\n",
    "import numpy  as np\n",
    "import matplotlib.pyplot as plt\n",
    "\n",
    "import scipy.integrate as integrate\n",
    "#def integrand(x, a, b):\n",
    "#    return a*x**3 + b\n",
    "\n",
    "def integrand(x, a, b):\n",
    "    return a + b * np.sin(x)\n",
    "\n",
    "a = 0\n",
    "b = 1\n",
    "I, error = integrate.quad(integrand, 0, np.pi, args=(a,b))\n",
    "print(I,'+/-',error)\n",
    "\n"
   ]
  },
  {
   "cell_type": "code",
   "execution_count": 3,
   "metadata": {
    "colab": {
     "base_uri": "https://localhost:8080/",
     "height": 382
    },
    "id": "lQZ_gHjdCa6D",
    "outputId": "73874096-7782-44db-ce8b-f3450935bbb6"
   },
   "outputs": [
    {
     "name": "stdout",
     "output_type": "stream",
     "text": [
      "0\n",
      "1\n",
      "2\n",
      "3\n",
      "4\n",
      "[0, 1, 2, 3, 4]\n",
      "[3.141592653589793, 5.141592653589792, 7.141592653589792, 9.141592653589795, 11.141592653589791]\n"
     ]
    },
    {
     "data": {
      "image/png": "[encoded data removed]",
      "text/plain": [
       "<Figure size 432x288 with 1 Axes>"
      ]
     },
     "metadata": {
      "needs_background": "light"
     },
     "output_type": "display_data"
    }
   ],
   "source": [
    "## If we want to loop through arguments:\n",
    "a=1.0\n",
    "Is=[]\n",
    "bs=[0,1,2,3,4]\n",
    "for b in bs:\n",
    "    print(b)\n",
    "    I,error = integrate.quad(integrand, 0, np.pi, args=(a,b))\n",
    "    Is.append(I)\n",
    "fig,ax = plt.subplots(1,1)\n",
    "ax.scatter(bs,Is)\n",
    "print(bs)\n",
    "print(Is)\n",
    "# this can be also done by np.vectorize()"
   ]
  },
  {
   "cell_type": "code",
   "execution_count": 54,
   "metadata": {
    "colab": {
     "base_uri": "https://localhost:8080/",
     "height": 362
    },
    "id": "ou91GlkvCdPz",
    "outputId": "fa598877-2990-4493-effa-dd814cec901d"
   },
   "outputs": [
    {
     "name": "stdout",
     "output_type": "stream",
     "text": [
      "8\n",
      "el error es  3.945131516145454e-09\n",
      "los periodos son [3.58856117 6.12443176 3.91008226 4.09785245 4.09785245 5.34783474\n",
      " 3.60443312 7.46830705]\n"
     ]
    },
    {
     "data": {
      "image/png": "[encoded data removed]",
      "text/plain": [
       "<Figure size 432x288 with 1 Axes>"
      ]
     },
     "metadata": {
      "needs_background": "light"
     },
     "output_type": "display_data"
    }
   ],
   "source": [
    "# Vamos a realizar nuestra tarea:\n",
    "# Primero debemos de definir nuestra funcion:\n",
    "def integral(φ):\n",
    "  return (1)/(np.sqrt(1-((np.sin(θ/2))**2)*((np.sin(φ))**2)))   #Realizamos nuestra funcion\n",
    " \n",
    "Is=[]  # Tomamos una lista vacia.\n",
    "thetha=[0,10,20,30,30,40,50,60] # Definimos nuestros valores de los angulos.\n",
    "print(len(thetha)) # Imprimimos la longitud de thetha.\n",
    "\n",
    "for θ in thetha :  # Guardamos cada valor de thetha en la variable θ\n",
    "  I,error = integrate.quad(integral, 0, 2*np.pi)  # Usamos el metodo quad para integrar en el intervalo.\n",
    "  Is.append(I)   # Agregamos cada integral a la lista vacia.\n",
    "\n",
    "\n",
    "print(\"el error es \",error) # Imprimimos nuestro error\n",
    "\n",
    "vector=np.asarray(Is) # convertimos a un arreglo de numpy.\n",
    "\n",
    "# Aplicamos La formula:\n",
    "t=[] # Definimos una lista vacia\n",
    "for i in range(0,8):\n",
    "\n",
    "  T=4*np.sqrt((0.2/9.81))*vector[i]  # agregamos cada valor al periodo\n",
    "  t.append(T)\n",
    "\n",
    "periodo=np.asarray(t) # Periodo\n",
    "print(\"los periodos son\",periodo)\n",
    "plt.plot(thetha,periodo,lw=3,label=\"T vs θ \",color=\"purple\") # Graficacion.\n",
    "plt.xlabel(\"θ\")\n",
    "plt.ylabel(\"T\")\n",
    "plt.grid()\n",
    "plt.legend()\n",
    "plt.title(\" Grafica de periodo vs θ \")\n",
    "plt.show()"
   ]
  },
  {
   "cell_type": "code",
   "execution_count": null,
   "metadata": {
    "id": "PPyIf8D8G7sW"
   },
   "outputs": [],
   "source": []
  }
 ],
 "metadata": {
  "colab": {
   "collapsed_sections": [],
   "name": "Untitled8.ipynb",
   "provenance": []
  },
  "kernelspec": {
   "display_name": "Python 3",
   "language": "python",
   "name": "python3"
  },
  "language_info": {
   "codemirror_mode": {
    "name": "ipython",
    "version": 3
   },
   "file_extension": ".py",
   "mimetype": "text/x-python",
   "name": "python",
   "nbconvert_exporter": "python",
   "pygments_lexer": "ipython3",
   "version": "3.7.2"
  }
 },
 "nbformat": 4,
 "nbformat_minor": 1
}
