{
 "cells": [
  {
   "cell_type": "code",
   "execution_count": 245,
   "metadata": {
    "id": "DdUUci7Xlhzj"
   },
   "outputs": [],
   "source": [
    "import numpy as np\n",
    "import scipy.integrate as integrate\n",
    "import matplotlib.pyplot as plt\n"
   ]
  },
  {
   "cell_type": "code",
   "execution_count": 94,
   "metadata": {
    "colab": {
     "base_uri": "https://localhost:8080/"
    },
    "id": "jOeDAcucpOw5",
    "outputId": "db14a469-a4f3-4aa3-e0b1-55ed1ab62d24"
   },
   "outputs": [
    {
     "name": "stdout",
     "output_type": "stream",
     "text": [
      "0.10627160049899548\n",
      "0.10627160049899548\n"
     ]
    }
   ],
   "source": []
  },
  {
   "cell_type": "code",
   "execution_count": 246,
   "metadata": {
    "colab": {
     "base_uri": "https://localhost:8080/"
    },
    "id": "AT34fjiapeJN",
    "outputId": "12315691-2392-45e4-b7ab-2ce549d64e8f"
   },
   "outputs": [
    {
     "name": "stdout",
     "output_type": "stream",
     "text": [
      "5.727723229018644\n"
     ]
    }
   ],
   "source": [
    "#####\n",
    "# Homework\n",
    "N=[10,100,1000,10000,100000,1000000]\n",
    "a = 0\n",
    "b = 4\n",
    "x = np.random.uniform(a,b,N[1])\n",
    "\n",
    "\n",
    "def integrand(x):\n",
    "  \n",
    "\n",
    "  return (  15*x**3+21*x**2+41*x+3 )**(1/4) *np.exp(-0.5*x)\n",
    "lista1=[]\n",
    "print(np.mean(integrand(x))*(b-a))\n",
    "a=np.mean(integrand(x))*(b-a)\n"
   ]
  },
  {
   "cell_type": "code",
   "execution_count": 248,
   "metadata": {
    "colab": {
     "base_uri": "https://localhost:8080/",
     "height": 329
    },
    "id": "WdhQTCA0CISn",
    "outputId": "d05b7e86-ee26-4862-ab09-0eee010f04b3"
   },
   "outputs": [
    {
     "name": "stdout",
     "output_type": "stream",
     "text": [
      "[5.770583519909125, 5.679315836552481, 5.630607313666095, 5.710469660113181, 5.774986039104608, 5.766919383912013]\n"
     ]
    },
    {
     "data": {
      "text/plain": [
       "Text(0.5, 1.0, 'Mentodo montecarlo')"
      ]
     },
     "execution_count": 248,
     "metadata": {},
     "output_type": "execute_result"
    },
    {
     "data": {
      "image/png": "[encoded data removed]",
      "text/plain": [
       "<Figure size 432x288 with 1 Axes>"
      ]
     },
     "metadata": {
      "needs_background": "light"
     },
     "output_type": "display_data"
    }
   ],
   "source": [
    "def integrand2(x):\n",
    "    return (  15*x**3+21*x**2+41*x+3 )**(1/4) *np.exp(-0.5*x)\n",
    "\n",
    "Is=[]\n",
    "N=[10,100,1000,10000,100000,1000000]\n",
    "for i in range(0,6):\n",
    "    x = np.random.uniform(0,4,N[i])\n",
    "    \n",
    "    Is.append(I)\n",
    "    I=np.mean(integrand2(x))*(4-0)\n",
    "print(Is)    \n",
    "plt.plot(N,Is,lw=3,color=\"purple\")\n",
    "plt.grid()\n",
    "plt.xlabel(\"x\")\n",
    "plt.ylabel(\"y\")\n",
    "plt.title(\"Mentodo montecarlo\")\n"
   ]
  },
  {
   "cell_type": "code",
   "execution_count": 242,
   "metadata": {
    "colab": {
     "base_uri": "https://localhost:8080/",
     "height": 329
    },
    "id": "bnJi0MV0CzDe",
    "outputId": "1662f8fd-1413-4dc4-89a6-c646bb625959"
   },
   "outputs": [
    {
     "name": "stdout",
     "output_type": "stream",
     "text": [
      "El resultado numérico es 5.767433490695931, con un error de 5.492382344683848e-10\n"
     ]
    },
    {
     "data": {
      "text/plain": [
       "Text(0, 0.5, 'y')"
      ]
     },
     "execution_count": 242,
     "metadata": {},
     "output_type": "execute_result"
    },
    {
     "data": {
      "image/png": "[encoded data removed]",
      "text/plain": [
       "<Figure size 432x288 with 1 Axes>"
      ]
     },
     "metadata": {
      "needs_background": "light"
     },
     "output_type": "display_data"
    }
   ],
   "source": [
    "\n",
    "def f(x):\n",
    "    return (  15*x**3+21*x**2+41*x+3 )**(1/4) *np.exp(-0.5*x)\n",
    "\n",
    "res, err = quad(f, 0, 4) #devuelve respuesta y error\n",
    "\n",
    "print(\"El resultado numérico es {}, con un error de {}\"\n",
    "    .format(res, err))\n",
    "plt.axhline(y=res, xmin=-40, xmax=40,color=\"purple\",lw=3) # La integral es fija.\n",
    "plt.grid()\n",
    "plt.title(\" Implementacion en scipy\")\n",
    "plt.xlabel(\"x\")\n",
    "plt.ylabel(\"y\")\n",
    "\n"
   ]
  },
  {
   "cell_type": "code",
   "execution_count": null,
   "metadata": {
    "id": "lxpnoKLlFEO-"
   },
   "outputs": [],
   "source": []
  }
 ],
 "metadata": {
  "colab": {
   "collapsed_sections": [],
   "name": "Copia de Untitled9.ipynb",
   "provenance": []
  },
  "kernelspec": {
   "display_name": "Python 3",
   "language": "python",
   "name": "python3"
  },
  "language_info": {
   "codemirror_mode": {
    "name": "ipython",
    "version": 3
   },
   "file_extension": ".py",
   "mimetype": "text/x-python",
   "name": "python",
   "nbconvert_exporter": "python",
   "pygments_lexer": "ipython3",
   "version": "3.7.2"
  }
 },
 "nbformat": 4,
 "nbformat_minor": 1
}
