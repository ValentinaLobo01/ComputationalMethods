{
 "cells": [
  {
   "cell_type": "code",
   "execution_count": 153,
   "metadata": {
    "colab": {
     "base_uri": "https://localhost:8080/"
    },
    "id": "23RWeWYzVH4j",
    "outputId": "541b8f1b-69d6-4d13-dc86-c76614162df4"
   },
   "outputs": [
    {
     "name": "stdout",
     "output_type": "stream",
     "text": [
      "Populating the interactive namespace from numpy and matplotlib\n"
     ]
    }
   ],
   "source": [
    "# Vamos a programar:\n",
    "import numpy as np\n",
    "%pylab inline\n",
    "# Debemos de tener nuestra funcion s para minimizar la accion.\n",
    "\n",
    "import numpy as np\n",
    "import scipy.optimize \n",
    "import pandas as pd\n",
    "import matplotlib.pyplot as plt\n",
    "global g  \n",
    "g=9.8 # Gravedad de la tierra\n",
    "tini=0 #[s]\n",
    "tend=3 #[s]\n",
    "xini=0 #[m]\n",
    "xend=0\n",
    "x=np.array([xini,10,15.,22.,18.,5.,xend])\n",
    "\n",
    "\n",
    "\n"
   ]
  },
  {
   "cell_type": "code",
   "execution_count": 154,
   "metadata": {
    "colab": {
     "base_uri": "https://localhost:8080/"
    },
    "id": "97aVN_4hl-AT",
    "outputId": "f86ee561-eb1c-4895-f0a5-3b70545d45f6"
   },
   "outputs": [
    {
     "data": {
      "text/plain": [
       "array([ 0., 10., 15., 22., 18.,  5.])"
      ]
     },
     "execution_count": 154,
     "metadata": {},
     "output_type": "execute_result"
    }
   ],
   "source": [
    "x[:-1]"
   ]
  },
  {
   "cell_type": "code",
   "execution_count": 155,
   "metadata": {
    "colab": {
     "base_uri": "https://localhost:8080/"
    },
    "id": "I_H5apmBisbu",
    "outputId": "31e73df9-fbbb-43fc-d1b6-da0cd2b47344"
   },
   "outputs": [
    {
     "data": {
      "text/plain": [
       "array([10., 15., 22., 18.,  5.,  0.])"
      ]
     },
     "execution_count": 155,
     "metadata": {},
     "output_type": "execute_result"
    }
   ],
   "source": [
    "x[1:]"
   ]
  },
  {
   "cell_type": "code",
   "execution_count": 156,
   "metadata": {
    "colab": {
     "base_uri": "https://localhost:8080/"
    },
    "id": "D1p83XLAmCfR",
    "outputId": "b5b9f4c4-61c6-4131-d091-926b9b6bdcda"
   },
   "outputs": [
    {
     "name": "stdout",
     "output_type": "stream",
     "text": [
      "vector of position differences: [ 10.   5.   7.  -4. -13.  -5.]\n",
      "time difference is constant:  0.5\n"
     ]
    }
   ],
   "source": [
    "Dx=x[1:]-x[:-1]\n",
    "print('vector of position differences:', Dx)\n",
    "Dt=tend/x[:-1].size\n",
    "print('time difference is constant: ',Dt)"
   ]
  },
  {
   "cell_type": "code",
   "execution_count": 157,
   "metadata": {
    "id": "eYwpvZWxmF0L"
   },
   "outputs": [],
   "source": [
    "def S(x,tend=3.,m=0.2,xini=0.,xend=0.):   # Funcion de la ccion, nos devuelve un valor.\n",
    "    \n",
    "    x=np.asarray(x)\n",
    "    Dt=tend/x[:-1].size\n",
    "    #Fix initial and final point\n",
    "    x[0]=xini\n",
    "    x[-1]=xend\n",
    "    return ( (0.5*m*(x[1:]-x[:-1])**2/Dt**2-0.5*m*g*(x[1:]+x[:-1]) )*Dt).sum()"
   ]
  },
  {
   "cell_type": "code",
   "execution_count": 158,
   "metadata": {
    "id": "Zka63HTsmKDB"
   },
   "outputs": [],
   "source": [
    "import scipy.optimize as optimize\n",
    "from scipy.optimize import minimize\n",
    "\n",
    "def xfit(n,t=3.,m=0.2,xini=0.,xend=0.,ftol=1E-8):\n",
    "\n",
    "    \n",
    "    t=float(t)\n",
    "    if n%2==0:\n",
    "        print ( 'x array must be odd')\n",
    "        sys.exit()\n",
    "    x0=np.zeros(n)\n",
    "    a = optimize.fmin_powell(S,x0,args=(t,m,xini,xend),ftol=ftol,full_output=1)    # optimize.fmin_powell(S,x0,args=(t,m,xini,xend),ftol=ftol,full_output=1) \n",
    "    x=a[0]\n",
    "    x[0]=xini;x[-1]=xend\n",
    "    xmax=np.sort(x)[-1]\n",
    "    Smin=a[1]\n",
    "    Dt=t/x[:-1].size #  t/(n-1)\n",
    "    return x,xmax,Smin,Dt\n"
   ]
  },
  {
   "cell_type": "code",
   "execution_count": 159,
   "metadata": {
    "colab": {
     "base_uri": "https://localhost:8080/"
    },
    "id": "2P9SHxSlvYcP",
    "outputId": "4a5a4c83-9bfd-4a43-8a94-40f76fab4119"
   },
   "outputs": [
    {
     "name": "stdout",
     "output_type": "stream",
     "text": [
      "Optimization terminated successfully.\n",
      "         Current function value: -21.554977\n",
      "         Iterations: 28\n",
      "         Function evaluations: 5837\n",
      "[ 0.          2.09485981  3.96927762  5.62312695  7.05635241  8.26906363\n",
      "  9.26154883 10.03312026 10.58423427 10.91506033 11.02529045 10.91501183\n",
      " 10.58427987 10.03303519  9.26102159  8.26869546  7.05596305  5.62273064\n",
      "  3.9689361   2.09464162  0.        ]\n"
     ]
    }
   ],
   "source": [
    "t=3.0\n",
    "m=0.2\n",
    "y=xfit(21,t,m)\n",
    "x=y[0]\n",
    "print(x)\n",
    "\n",
    "xmax=y[1]\n",
    "Smin=y[2]\n",
    "Dt=y[3]\n",
    "tx=np.arange(0,t+Dt,Dt)"
   ]
  },
  {
   "cell_type": "code",
   "execution_count": 160,
   "metadata": {
    "colab": {
     "base_uri": "https://localhost:8080/"
    },
    "id": "rPFe2F4FmuX5",
    "outputId": "c2e42b49-8e0c-401e-a7ee-194dd27dc3c4"
   },
   "outputs": [
    {
     "data": {
      "text/plain": [
       "(array([ 0.        ,  2.09474984,  3.96900265,  5.62275094,  7.05599941,\n",
       "         8.26874885,  9.26099858, 10.03274803, 10.58399679, 10.91474915,\n",
       "        11.02499792, 10.91474708, 10.58399827, 10.03274841,  9.26099744,\n",
       "         8.26874799,  7.05600062,  5.6227506 ,  3.96899992,  2.09475262,\n",
       "         0.        ]), 11.024997924061152, -21.554977499968317, 0.15)"
      ]
     },
     "execution_count": 160,
     "metadata": {},
     "output_type": "execute_result"
    }
   ],
   "source": [
    "# Veamos lo mismo pero con la funcion SLSQP\n",
    "\n",
    "def xfit1(n,t=3.,m=0.2,xini=0.,xend=0.,ftol=1E-8):\n",
    "\n",
    "    \n",
    "    t=float(t)\n",
    "    if n%2==0:\n",
    "        print ( 'x array must be odd')\n",
    "        sys.exit()\n",
    "    x0=np.zeros(n)\n",
    "    a = scipy.optimize.minimize(S, x0, args=(t,m,xini,xend))   # ES EL METODO SCIPY.OPTIMIZE (.....)\n",
    "    x=a.x\n",
    "    x[0]=xini;x[-1]=xend\n",
    "    xmax=np.sort(x)[-1]\n",
    "    Smin=a.fun\n",
    "    Dt=t/x[:-1].size #  t/(n-1)\n",
    "    return x,xmax,Smin,Dt\n",
    "xfit1(21)\n",
    "\n"
   ]
  },
  {
   "cell_type": "code",
   "execution_count": 161,
   "metadata": {
    "id": "ET6PBd0u6bUa"
   },
   "outputs": [],
   "source": [
    "t=3.0\n",
    "m=0.2\n",
    "y=xfit1(21,t,m)\n",
    "x=y[0]\n",
    "xmax=y[1]\n",
    "Smin=y[2]\n",
    "Dt=y[3]\n",
    "tx1=np.arange(0,t+Dt,Dt)"
   ]
  },
  {
   "cell_type": "code",
   "execution_count": 162,
   "metadata": {
    "colab": {
     "base_uri": "https://localhost:8080/",
     "height": 295
    },
    "id": "hjc1ej6F7BuO",
    "outputId": "e4c78d16-879c-47c1-f018-2799f66540c9"
   },
   "outputs": [
    {
     "data": {
      "image/png": "[encoded data removed]",
      "text/plain": [
       "<Figure size 432x288 with 1 Axes>"
      ]
     },
     "metadata": {
      "needs_background": "light"
     },
     "output_type": "display_data"
    }
   ],
   "source": [
    "plt.plot(tx1,x,label='$S_{\\mathrm{min}}=$%.2f J.s' %Smin)\n",
    "plt.plot(tx1,x,'ro')\n",
    "plt.ylabel('HEIGHT meters')\n",
    "plt.xlabel('TIME seconds')\n",
    "plt.title('Worldline of least action')\n",
    "plt.legend(loc='best')\n",
    "plt.grid()"
   ]
  },
  {
   "cell_type": "code",
   "execution_count": 163,
   "metadata": {
    "colab": {
     "base_uri": "https://localhost:8080/"
    },
    "id": "L7Cbq7Ttwpzf",
    "outputId": "371a9915-f671-4051-c6f7-4abdca67b954"
   },
   "outputs": [
    {
     "data": {
      "text/plain": [
       "(array([ 0.        ,  2.09479625,  3.96899864,  5.62271249,  7.05593218,\n",
       "         8.26871297,  9.26087282, 10.03259583, 10.58378604, 10.91448475,\n",
       "        11.02473448, 10.91448467, 10.58378615, 10.03259516,  9.26087246,\n",
       "         8.26871223,  7.05593341,  5.62271053,  3.96899997,  2.09479527,\n",
       "         0.        ]), 11.02473447889917, -21.554977470134183, 0.15)"
      ]
     },
     "execution_count": 163,
     "metadata": {},
     "output_type": "execute_result"
    }
   ],
   "source": [
    "\n",
    "def xfit2(n,t=3.,m=0.2,xini=0.,xend=0.,ftol=1E-8):\n",
    "\n",
    "    \n",
    "    t=float(t)\n",
    "    if n%2==0:\n",
    "        print ( 'x array must be odd')\n",
    "        sys.exit()\n",
    "    x0=np.zeros(n)\n",
    "    a = scipy.optimize.minimize(S, x0, args=(), method='SLSQP')        # CON METODO DE \"SLSQP\"\n",
    "    x=a.x\n",
    "    x[0]=xini;x[-1]=xend\n",
    "    xmax=np.sort(x)[-1]\n",
    "    Smin=a.fun\n",
    "    Dt=t/x[:-1].size #  t/(n-1)\n",
    "    return x,xmax,Smin,Dt\n",
    "xfit2(21)\n"
   ]
  },
  {
   "cell_type": "code",
   "execution_count": 164,
   "metadata": {
    "colab": {
     "base_uri": "https://localhost:8080/",
     "height": 295
    },
    "id": "TqmXezr2oRXM",
    "outputId": "b43f2abe-c336-40b3-d2aa-2aa813880276"
   },
   "outputs": [
    {
     "data": {
      "image/png": "[encoded data removed]",
      "text/plain": [
       "<Figure size 432x288 with 1 Axes>"
      ]
     },
     "metadata": {
      "needs_background": "light"
     },
     "output_type": "display_data"
    }
   ],
   "source": [
    "t=3.0\n",
    "m=0.2\n",
    "y=xfit2(21,t,m)\n",
    "x=y[0]\n",
    "xmax=y[1]\n",
    "Smin=y[2]\n",
    "Dt=y[3]\n",
    "tx3=np.arange(0,t+Dt,Dt)\n",
    "\n",
    "plt.plot(tx,x,label='$S_{\\mathrm{min}}=$%.2f J.s' %Smin)\n",
    "plt.plot(tx,x,'ro')\n",
    "plt.ylabel('HEIGHT meters')\n",
    "plt.xlabel('TIME seconds')\n",
    "plt.title('Worldline of least action')\n",
    "plt.legend(loc='best')\n",
    "plt.grid()\n",
    "\n"
   ]
  },
  {
   "cell_type": "code",
   "execution_count": 152,
   "metadata": {
    "colab": {
     "base_uri": "https://localhost:8080/",
     "height": 295
    },
    "id": "OYqhaJFWz6-0",
    "outputId": "f42d421e-7bef-42f8-882a-3d7ff7863e16"
   },
   "outputs": [
    {
     "data": {
      "image/png": "[encoded data removed]",
      "text/plain": [
       "<Figure size 432x288 with 1 Axes>"
      ]
     },
     "metadata": {
      "needs_background": "light"
     },
     "output_type": "display_data"
    }
   ],
   "source": [
    "plt.plot(tx,x,label='$S_{\\mathrm{min}}=$%.2f J.s' %Smin)  # Para xfit 1.\n",
    "plt.plot(tx,x,'ro')\n",
    "plt.ylabel('HEIGHT meters')\n",
    "plt.xlabel('TIME seconds')\n",
    "plt.title('Worldline of least action')\n",
    "plt.legend(loc='best')\n",
    "plt.grid()"
   ]
  },
  {
   "cell_type": "code",
   "execution_count": null,
   "metadata": {
    "id": "NHVCJJV21taz"
   },
   "outputs": [],
   "source": []
  }
 ],
 "metadata": {
  "colab": {
   "collapsed_sections": [],
   "name": "LEAST ACTION.ipynb",
   "provenance": []
  },
  "kernelspec": {
   "display_name": "Python 3",
   "language": "python",
   "name": "python3"
  },
  "language_info": {
   "codemirror_mode": {
    "name": "ipython",
    "version": 3
   },
   "file_extension": ".py",
   "mimetype": "text/x-python",
   "name": "python",
   "nbconvert_exporter": "python",
   "pygments_lexer": "ipython3",
   "version": "3.7.2"
  }
 },
 "nbformat": 4,
 "nbformat_minor": 1
}
