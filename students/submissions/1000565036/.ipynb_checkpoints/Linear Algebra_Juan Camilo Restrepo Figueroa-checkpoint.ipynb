{
 "cells": [
  {
   "cell_type": "markdown",
   "id": "91f29ee1",
   "metadata": {},
   "source": [
    "# Tarea de álgebra lineal"
   ]
  },
  {
   "cell_type": "markdown",
   "id": "28d3668d",
   "metadata": {},
   "source": [
    "Consideremos las siguientes ecuaciones:\n",
    "\n",
    "\\begin{eqnarray*}\n",
    "-R_1I_1-R_2I_2-R_3I_3=-E_1\\\\\n",
    "R_2I_2-R_4I_4=-E_2\\\\\n",
    "R_3I_3-R_5I_5=E_2\\\\\n",
    "I_1-I_3-I_5=0\\\\\n",
    "-I_1+I_2+I_4=0\\\\\n",
    "-I_4+I_5+I_6=0\\\\\n",
    "\\end{eqnarray*}\n",
    "\n",
    "Con $R_1=1\\Omega, R_2=2\\Omega, R_3=3\\Omega, R_4=4\\Omega, R_5=5\\Omega$, y $E_1=10V, E_2=40V$"
   ]
  },
  {
   "cell_type": "markdown",
   "id": "c5d1d55d",
   "metadata": {},
   "source": [
    "Importamos las librerías necesarias:"
   ]
  },
  {
   "cell_type": "code",
   "execution_count": 2,
   "id": "df457dd1",
   "metadata": {},
   "outputs": [],
   "source": [
    "import numpy as np\n",
    "import sympy as sp"
   ]
  },
  {
   "cell_type": "markdown",
   "id": "18b6ba97",
   "metadata": {},
   "source": [
    "Definimos la matriz de coeficientes:"
   ]
  },
  {
   "cell_type": "code",
   "execution_count": 6,
   "id": "0ae72e54",
   "metadata": {},
   "outputs": [
    {
     "data": {
      "text/latex": [
       "$\\displaystyle \\left[\\begin{matrix}-1 & -2 & -3 & 0 & 0 & 0\\\\0 & 2 & 0 & -4 & 0 & 0\\\\0 & 0 & 3 & 0 & -5 & 0\\\\1 & 0 & -1 & 0 & -1 & 0\\\\-1 & 1 & 0 & 1 & 0 & 0\\\\0 & 0 & 0 & -1 & 1 & 1\\end{matrix}\\right]$"
      ],
      "text/plain": [
       "Matrix([\n",
       "[-1, -2, -3,  0,  0, 0],\n",
       "[ 0,  2,  0, -4,  0, 0],\n",
       "[ 0,  0,  3,  0, -5, 0],\n",
       "[ 1,  0, -1,  0, -1, 0],\n",
       "[-1,  1,  0,  1,  0, 0],\n",
       "[ 0,  0,  0, -1,  1, 1]])"
      ]
     },
     "execution_count": 6,
     "metadata": {},
     "output_type": "execute_result"
    }
   ],
   "source": [
    "A=np.array([[-1,-2,-3,0,0,0],\n",
    "            [ 0, 2,0,-4,0,0],\n",
    "            [ 0, 0,3,0,-5,0],\n",
    "            [ 1,0,-1,0,-1,0],\n",
    "            [-1,1, 0,1, 0,0],\n",
    "            [ 0,0,0,-1, 1,1]])\n",
    "\n",
    "sp.Matrix(A)      "
   ]
  },
  {
   "cell_type": "markdown",
   "id": "38799140",
   "metadata": {},
   "source": [
    "Definimos el vector de constantes:"
   ]
  },
  {
   "cell_type": "code",
   "execution_count": 7,
   "id": "b6645261",
   "metadata": {},
   "outputs": [
    {
     "data": {
      "text/latex": [
       "$\\displaystyle \\left[\\begin{matrix}-10\\\\-40\\\\40\\\\0\\\\0\\\\0\\end{matrix}\\right]$"
      ],
      "text/plain": [
       "Matrix([\n",
       "[-10],\n",
       "[-40],\n",
       "[ 40],\n",
       "[  0],\n",
       "[  0],\n",
       "[  0]])"
      ]
     },
     "execution_count": 7,
     "metadata": {},
     "output_type": "execute_result"
    }
   ],
   "source": [
    "b=([-10],\n",
    "   [-40],\n",
    "   [ 40],\n",
    "   [ 0 ],\n",
    "   [ 0 ],\n",
    "   [ 0 ],)\n",
    "\n",
    "sp.Matrix(b)"
   ]
  },
  {
   "cell_type": "markdown",
   "id": "ef83606b",
   "metadata": {},
   "source": [
    "Resolvemos el sistema:"
   ]
  },
  {
   "cell_type": "code",
   "execution_count": 12,
   "id": "726f3601",
   "metadata": {},
   "outputs": [
    {
     "data": {
      "text/latex": [
       "$\\displaystyle \\left[\\begin{matrix}1.98019801980198\\\\-5.34653465346535\\\\6.23762376237624\\\\7.32673267326733\\\\-4.25742574257426\\\\11.5841584158416\\end{matrix}\\right]$"
      ],
      "text/plain": [
       "Matrix([\n",
       "[ 1.98019801980198],\n",
       "[-5.34653465346535],\n",
       "[ 6.23762376237624],\n",
       "[ 7.32673267326733],\n",
       "[-4.25742574257426],\n",
       "[ 11.5841584158416]])"
      ]
     },
     "execution_count": 12,
     "metadata": {},
     "output_type": "execute_result"
    }
   ],
   "source": [
    "I=np.linalg.solve(A,b)\n",
    "sp.Matrix(I)"
   ]
  },
  {
   "cell_type": "code",
   "execution_count": null,
   "id": "f7727a99",
   "metadata": {},
   "outputs": [],
   "source": []
  }
 ],
 "metadata": {
  "kernelspec": {
   "display_name": "Python 3",
   "language": "python",
   "name": "python3"
  },
  "language_info": {
   "codemirror_mode": {
    "name": "ipython",
    "version": 3
   },
   "file_extension": ".py",
   "mimetype": "text/x-python",
   "name": "python",
   "nbconvert_exporter": "python",
   "pygments_lexer": "ipython3",
   "version": "3.7.2"
  }
 },
 "nbformat": 4,
 "nbformat_minor": 5
}
