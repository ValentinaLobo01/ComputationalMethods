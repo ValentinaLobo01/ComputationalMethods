{
 "cells": [
  {
   "cell_type": "markdown",
   "metadata": {
    "id": "gkqPYu_A6BgD"
   },
   "source": [
    "**Homework 4:**"
   ]
  },
  {
   "cell_type": "code",
   "execution_count": 1,
   "metadata": {
    "id": "j9bVUk7GrubD"
   },
   "outputs": [],
   "source": [
    "import matplotlib.pyplot as plt\n",
    "import numpy as np\n",
    "import scipy.integrate as integrate"
   ]
  },
  {
   "cell_type": "markdown",
   "metadata": {
    "id": "mMVmp2wy5cir"
   },
   "source": [
    "*Defying our function:*"
   ]
  },
  {
   "cell_type": "code",
   "execution_count": 2,
   "metadata": {
    "id": "cYXp2Qm85-57"
   },
   "outputs": [],
   "source": [
    "def K(x):\n",
    "  n=1/(np.sqrt(1-((np.sin(angle/2))**2)*(np.sin(x))**2))\n",
    "  return n"
   ]
  },
  {
   "cell_type": "markdown",
   "metadata": {
    "id": "KDhyO2d85i9b"
   },
   "source": [
    "*Parameters*"
   ]
  },
  {
   "cell_type": "code",
   "execution_count": 3,
   "metadata": {
    "id": "nggRHTkB_zTh"
   },
   "outputs": [],
   "source": [
    "l=0.2\n",
    "g=9.81"
   ]
  },
  {
   "cell_type": "code",
   "execution_count": 4,
   "metadata": {
    "id": "EDZR57t49wWp"
   },
   "outputs": [],
   "source": [
    "ang=np.array([0,10,20,30,40,50,60])\n",
    "angles=np.radians(ang)"
   ]
  },
  {
   "cell_type": "markdown",
   "metadata": {
    "id": "sefYX6Y-5sU4"
   },
   "source": [
    "*Evaluating the integrate and finding the period of each angle*"
   ]
  },
  {
   "cell_type": "code",
   "execution_count": 5,
   "metadata": {
    "id": "T9-acZdZ_Sb4"
   },
   "outputs": [],
   "source": [
    "k_k=[]\n",
    "for angle in angles:\n",
    "  In,error = integrate.quad(K, 0, 2*np.pi)\n",
    "  k_k.append(In)\n",
    "T=[]\n",
    "for i in k_k:\n",
    "  n = i*(4*np.sqrt(l/g))\n",
    "  T.append(n)"
   ]
  },
  {
   "cell_type": "code",
   "execution_count": 6,
   "metadata": {
    "id": "431ixDZroL3L"
   },
   "outputs": [],
   "source": [
    "Angles_list = angles.tolist()"
   ]
  },
  {
   "cell_type": "markdown",
   "metadata": {
    "id": "4UoXamkl5XyQ"
   },
   "source": [
    "*Plot:*"
   ]
  },
  {
   "cell_type": "code",
   "execution_count": 7,
   "metadata": {
    "colab": {
     "base_uri": "https://localhost:8080/",
     "height": 444
    },
    "id": "YygYQLwntTpp",
    "outputId": "61a39561-0866-41d5-9abb-0a95fe1bb7f0"
   },
   "outputs": [
    {
     "name": "stderr",
     "output_type": "stream",
     "text": [
      "No handles with labels found to put in legend.\n"
     ]
    },
    {
     "data": {
      "text/plain": [
       "[]"
      ]
     },
     "execution_count": 7,
     "metadata": {},
     "output_type": "execute_result"
    },
    {
     "data": {
      "image/png": "[encoded data removed]",
      "text/plain": [
       "<Figure size 720x432 with 1 Axes>"
      ]
     },
     "metadata": {
      "needs_background": "light"
     },
     "output_type": "display_data"
    }
   ],
   "source": [
    "plt.figure(figsize=(10,6))\n",
    "plt.plot(Angles_list,T)\n",
    "plt.xlabel('$Initial \\enspace angles$')\n",
    "plt.ylabel(\"$Period$\")\n",
    "plt.title('$Period(T) \\enspace Vs. \\enspace Initial \\enspace angles$')\n",
    "plt.legend()\n",
    "plt.plot()"
   ]
  },
  {
   "cell_type": "code",
   "execution_count": null,
   "metadata": {
    "id": "zyDxqTIAuY3i"
   },
   "outputs": [],
   "source": []
  }
 ],
 "metadata": {
  "colab": {
   "name": "Integration_1001479482.ipynb",
   "provenance": []
  },
  "kernelspec": {
   "display_name": "Python 3",
   "language": "python",
   "name": "python3"
  },
  "language_info": {
   "codemirror_mode": {
    "name": "ipython",
    "version": 3
   },
   "file_extension": ".py",
   "mimetype": "text/x-python",
   "name": "python",
   "nbconvert_exporter": "python",
   "pygments_lexer": "ipython3",
   "version": "3.7.2"
  }
 },
 "nbformat": 4,
 "nbformat_minor": 1
}
