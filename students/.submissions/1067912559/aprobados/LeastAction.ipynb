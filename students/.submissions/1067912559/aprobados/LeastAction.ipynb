{
 "cells": [
  {
   "cell_type": "markdown",
   "metadata": {},
   "source": [
    "## Homework: Least Action using Minimization\n",
    "Use function \"minimize from scipy.optimize\" and the method called ‘SLSQP’ to minimize: the action S.\n",
    "\n",
    "This task is basically identical to the example from the class. Use the same parameters (t=3.0,m=0.2 n=21) and both functions: xfit() and S().\n",
    "\n",
    "For more details on the scipy.optimize.minimize read the documentation:\n",
    "\n",
    "https://docs.scipy.org/doc/scipy/reference/generated/scipy.optimize.minimize.html\n",
    "\n",
    "Please note that the output of this function is different that from the \"optimize.fmin_powell\" that we did in the class\n",
    "\n",
    "here: obj = scipy.optimize.minimize(...)\n",
    "the output of the process is an object (obj) so to access the information of the minimization you can type:\n",
    "\n",
    "print(obj), or print(dir(obj))\n",
    "look at the attributes (x, success, status, message, fun)\n",
    "then choose the attribute you are interested in, example:\n",
    "print(obj.message)\n",
    "\n",
    "details on the attributes are here: https://docs.scipy.org/doc/scipy/reference/generated/scipy.optimize.OptimizeResult.html#scipy.optimize.OptimizeResult)\n",
    "\n",
    "compare by plotting the two minimization routines, the one from the class \"optimize.fmin_powell\" with \"scipy.optimize.minimize\""
   ]
  },
  {
   "cell_type": "code",
   "execution_count": 1,
   "metadata": {},
   "outputs": [],
   "source": [
    "#Libraries \n",
    "import numpy as np\n",
    "import scipy.optimize as sp\n",
    "import matplotlib.pyplot as plt\n",
    "\n",
    "#Funtions from the class\n",
    "\n",
    "#Action:\n",
    "def S(x,tend=3.,m=0.2,xini=0.,xend=0.):\n",
    "    \n",
    "    x=np.asarray(x)\n",
    "    Dt=tend/x[:-1].size\n",
    "    #Fix initial and final point\n",
    "    x[0]=xini\n",
    "    x[-1]=xend\n",
    "    return ( (0.5*m*(x[1:]-x[:-1])**2/Dt**2-0.5*m*g*(x[1:]+x[:-1]) )*Dt).sum()\n",
    "\n",
    "#Least Action with optimize.fmin_powell\n",
    "def xfit(n,t=3.,m=0.2,xini=0.,xend=0.,ftol=1E-8):\n",
    "    '''Find the array of n (odd) components that minimizes the action S(x)\n",
    "    :Parameters:\n",
    "    n: odd integer \n",
    "        dimension of the ndarray x that minimizes the action  S(x,t,m)\n",
    "    t,m: numbers\n",
    "       optional parameters for the action\n",
    "    ftol: number\n",
    "        acceptable relative error in S(x) for convergence.\n",
    "    :Returns: (x,xmax,Smin)    \n",
    "    x: ndarray\n",
    "        minimizer of the action S(x)        \n",
    "    xini:    \n",
    "    xend:\n",
    "    xmax: number\n",
    "        Maximum height for the object\n",
    "    Smin: number\n",
    "        value of function at minimum: Smin = S(x)\n",
    "    '''  \n",
    "    t=float(t)\n",
    "    if n%2==0:\n",
    "        print ( 'x array must be odd')\n",
    "        sys.exit()\n",
    "    x0=np.zeros(n)\n",
    "    a = sp.fmin_powell(S,x0,args=(t,m,xini,xend),ftol=ftol,full_output=1)\n",
    "    x=a[0]\n",
    "    x[0]=xini;x[-1]=xend\n",
    "    xmax=np.sort(x)[-1]\n",
    "    Smin=a[1]\n",
    "    Dt=t/x[:-1].size #  t/(n-1)\n",
    "    return x,xmax,Smin,Dt\n"
   ]
  },
  {
   "cell_type": "code",
   "execution_count": 2,
   "metadata": {},
   "outputs": [
    {
     "name": "stdout",
     "output_type": "stream",
     "text": [
      "Optimization terminated successfully.\n",
      "         Current function value: -21.554977\n",
      "         Iterations: 28\n",
      "         Function evaluations: 5837\n"
     ]
    }
   ],
   "source": [
    "#Parameters \n",
    "t=3.0\n",
    "m=0.2\n",
    "g = 9.8\n",
    "n = 21\n",
    "\n",
    "#Least Action using fmin_powell\n",
    "y = xfit(n)"
   ]
  },
  {
   "cell_type": "code",
   "execution_count": 3,
   "metadata": {},
   "outputs": [
    {
     "name": "stdout",
     "output_type": "stream",
     "text": [
      "The attributes are: \n",
      " ['fun', 'jac', 'message', 'nfev', 'nit', 'njev', 'status', 'success', 'x'] \n",
      " \n",
      "Array: \n",
      " [ 0.          2.09479625  3.96899864  5.62271249  7.05593218  8.26871297\n",
      "  9.26087282 10.03259583 10.58378604 10.91448475 11.02473448 10.91448467\n",
      " 10.58378615 10.03259516  9.26087246  8.26871223  7.05593341  5.62271053\n",
      "  3.96899997  2.09479527  0.        ] \n",
      "\n",
      "Current function value: \n",
      " -21.554977470134183\n",
      "Iterations: \n",
      " 14\n"
     ]
    }
   ],
   "source": [
    "\n",
    "#Least Action using Minimization\n",
    "x0 = np.zeros(n)\n",
    "res = sp.minimize(S, x0, args=(t,m), method= \"SLSQP\")\n",
    "\n",
    "print(\"The attributes are: \\n {} \\n \".format(dir(res)))\n",
    "print(\"Array: \\n {} \\n\".format(res.x))\n",
    "print(\"Current function value: \\n {}\".format(res.fun))\n",
    "print(\"Iterations: \\n {}\".format(res.nit))"
   ]
  },
  {
   "cell_type": "code",
   "execution_count": 4,
   "metadata": {},
   "outputs": [
    {
     "data": {
      "image/png": "[encoded data removed]",
      "text/plain": [
       "<Figure size 640x400 with 1 Axes>"
      ]
     },
     "metadata": {
      "needs_background": "light"
     },
     "output_type": "display_data"
    }
   ],
   "source": [
    "#Plot\n",
    "\n",
    "tx=np.linspace(0, 3, 21)\n",
    "x=y[0]\n",
    "Smin = y[2]\n",
    "\n",
    "plt.figure(figsize=(8, 5), dpi=80)\n",
    "plt.plot(tx,x,color = \"red\" ,label='$S_{\\mathrm{min}}=$%.2f J.s' %Smin)\n",
    "plt.plot(tx, res.x, color = \"green\", linestyle = \"--\" , label = \"$S_{min} = %.2f $ J.s\" %res.fun)\n",
    "plt.ylabel(\"Position $[m]$\")\n",
    "plt.xlabel(\"Time $[s]$\")\n",
    "plt.title(\"Position $[m]$ vs time $[s]$\")\n",
    "plt.grid()\n",
    "plt.legend();"
   ]
  }
 ],
 "metadata": {
  "kernelspec": {
   "display_name": "Python 3",
   "language": "python",
   "name": "python3"
  },
  "language_info": {
   "codemirror_mode": {
    "name": "ipython",
    "version": 3
   },
   "file_extension": ".py",
   "mimetype": "text/x-python",
   "name": "python",
   "nbconvert_exporter": "python",
   "pygments_lexer": "ipython3",
   "version": "3.7.2"
  }
 },
 "nbformat": 4,
 "nbformat_minor": 4
}
