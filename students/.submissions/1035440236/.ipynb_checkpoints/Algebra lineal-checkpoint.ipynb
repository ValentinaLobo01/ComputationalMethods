{
 "cells": [
  {
   "cell_type": "code",
   "execution_count": 54,
   "metadata": {},
   "outputs": [],
   "source": [
    "import numpy as np # Importamos numpy."
   ]
  },
  {
   "cell_type": "code",
   "execution_count": null,
   "metadata": {},
   "outputs": [],
   "source": []
  },
  {
   "cell_type": "code",
   "execution_count": 55,
   "metadata": {},
   "outputs": [],
   "source": [
    "a=[[1,-1,-1,-1],[ -1,2,0,0],[-1,3,3,0],[-1,0,1,4]]  # Tenemos nuestra matriz\n",
    "\n",
    "\n",
    "\n"
   ]
  },
  {
   "cell_type": "code",
   "execution_count": 56,
   "metadata": {},
   "outputs": [],
   "source": [
    "# Realizacion de la tarea:\n",
    "def multiplicacion(a,n):\n",
    "    n -= 1\n",
    "    h=a.copy()              # Realizamos el for correspondiente.\n",
    "    for i in range(n):\n",
    "        h=np.matmul(a,h)\n",
    "    return h    \n",
    "    \n",
    "\n",
    "\n",
    "\n"
   ]
  },
  {
   "cell_type": "code",
   "execution_count": 57,
   "metadata": {},
   "outputs": [
    {
     "data": {
      "text/plain": [
       "array([[  485,  -755,  -563,  -563],\n",
       "       [ -179,   280,   192,   192],\n",
       "       [ -675,  1201,   707,   464],\n",
       "       [-1027,  1448,  1275,  1518]])"
      ]
     },
     "execution_count": 57,
     "metadata": {},
     "output_type": "execute_result"
    }
   ],
   "source": [
    "multiplicacion(a,5)  # Evaluamos en 5."
   ]
  },
  {
   "cell_type": "code",
   "execution_count": 58,
   "metadata": {},
   "outputs": [
    {
     "name": "stdout",
     "output_type": "stream",
     "text": [
      "[[  485  -755  -563  -563]\n",
      " [ -179   280   192   192]\n",
      " [ -675  1201   707   464]\n",
      " [-1027  1448  1275  1518]]\n"
     ]
    }
   ],
   "source": [
    "multiplicacion(a,5)  # Tenemos la multiplicacion\n",
    "resultd = np.linalg.matrix_power(a, 5) # Esta es otra manera para saber si nuestro resultado es correcto\n",
    "print(resultd) # Imprimimos la matriz."
   ]
  },
  {
   "cell_type": "code",
   "execution_count": 59,
   "metadata": {},
   "outputs": [
    {
     "name": "stdout",
     "output_type": "stream",
     "text": [
      "deta=\n",
      " 8.999999999999998\n",
      "8.999999999999988\n",
      "[[-3.49561271e-01  7.94033408e-01  7.62229110e-02  7.27025315e-16]\n",
      " [ 1.21959906e-01  4.79650284e-01  3.61664456e-01  6.86635020e-16]\n",
      " [ 3.83368157e-01 -2.42866291e-01 -8.33174113e-01 -7.07106781e-01]\n",
      " [ 8.46145115e-01  2.83659156e-01  4.11351172e-01  7.07106781e-01]]\n"
     ]
    }
   ],
   "source": [
    "# Veamos co# Lets check all those operations\n",
    "\n",
    "deta=np.linalg.det(a)    # Miramos si el determinante es distinto de cero\n",
    "print('deta=\\n',deta)\n",
    "\n",
    "evalues, evectors = np.linalg.eig(a)  # Obtenemos los eigenvectores, y eigenvalores.\n",
    "print(np.prod(evalues))  # Vemos el producto de los egenvalores el det de A\n",
    "print(evectors)\n",
    "\n"
   ]
  },
  {
   "cell_type": "code",
   "execution_count": 60,
   "metadata": {},
   "outputs": [
    {
     "name": "stdout",
     "output_type": "stream",
     "text": [
      "[[4.86619826 0.         0.         0.        ]\n",
      " [0.         0.34455762 0.         0.        ]\n",
      " [0.         0.         1.78924412 0.        ]\n",
      " [0.         0.         0.         3.        ]]\n",
      "[[2.72865731e+03 0.00000000e+00 0.00000000e+00 0.00000000e+00]\n",
      " [0.00000000e+00 4.85634224e-03 0.00000000e+00 0.00000000e+00]\n",
      " [0.00000000e+00 0.00000000e+00 1.83378321e+01 0.00000000e+00]\n",
      " [0.00000000e+00 0.00000000e+00 0.00000000e+00 2.43000000e+02]]\n",
      "pD^5p^-1=\n",
      " [[  485.  -755.  -563.  -563.]\n",
      " [ -179.   280.   192.   192.]\n",
      " [ -675.  1201.   707.   464.]\n",
      " [-1027.  1448.  1275.  1518.]]\n"
     ]
    }
   ],
   "source": [
    "P = evectors  # Eigenvectores.\n",
    "Pinv=np.linalg.inv(P) # Inversa de eigenvectores.\n",
    "\n",
    "D = np.zeros((4,4))\n",
    "for i in range(4):         # D\n",
    "    D[i,i] = evalues[i]\n",
    "\n",
    "print(D)\n",
    "resultd = np.linalg.matrix_power(D, 5)  # ELEVAMOS d a 5\n",
    "print(resultd)\n",
    "\n",
    "print('pD^5p^-1=\\n',np.matmul(P,np.matmul(resultd,Pinv))) # Obtenemos el resultado\n"
   ]
  },
  {
   "cell_type": "code",
   "execution_count": null,
   "metadata": {},
   "outputs": [],
   "source": []
  },
  {
   "cell_type": "code",
   "execution_count": null,
   "metadata": {},
   "outputs": [],
   "source": []
  }
 ],
 "metadata": {
  "kernelspec": {
   "display_name": "Python 3",
   "language": "python",
   "name": "python3"
  },
  "language_info": {
   "codemirror_mode": {
    "name": "ipython",
    "version": 3
   },
   "file_extension": ".py",
   "mimetype": "text/x-python",
   "name": "python",
   "nbconvert_exporter": "python",
   "pygments_lexer": "ipython3",
   "version": "3.7.2"
  }
 },
 "nbformat": 4,
 "nbformat_minor": 4
}
