{
 "cells": [
  {
   "cell_type": "code",
   "execution_count": 13,
   "metadata": {
    "id": "DdUUci7Xlhzj"
   },
   "outputs": [],
   "source": [
    "import numpy as np\n",
    "import scipy.integrate as integrate\n",
    "import matplotlib.pyplot as plt\n"
   ]
  },
  {
   "cell_type": "code",
   "execution_count": 13,
   "metadata": {
    "id": "jOeDAcucpOw5"
   },
   "outputs": [],
   "source": []
  },
  {
   "cell_type": "code",
   "execution_count": 14,
   "metadata": {
    "colab": {
     "base_uri": "https://localhost:8080/"
    },
    "id": "AT34fjiapeJN",
    "outputId": "b3c9538f-e401-48d0-ec46-85b97d4360c8"
   },
   "outputs": [
    {
     "name": "stdout",
     "output_type": "stream",
     "text": [
      "5.632107565008772\n"
     ]
    }
   ],
   "source": [
    "#####\n",
    "# Homework\n",
    "N=[10,100,1000,10000,100000,1000000]\n",
    "a = 0\n",
    "b = 4\n",
    "x = np.random.uniform(a,b,N[1])\n",
    "\n",
    "\n",
    "def integrand(x):\n",
    "  \n",
    "\n",
    "  return (  15*x**3+21*x**2+41*x+3 )**(1/4) *np.exp(-0.5*x)\n",
    "lista1=[]\n",
    "print(np.mean(integrand(x))*(b-a))\n",
    "a=np.mean(integrand(x))*(b-a)\n"
   ]
  },
  {
   "cell_type": "code",
   "execution_count": 20,
   "metadata": {
    "colab": {
     "base_uri": "https://localhost:8080/",
     "height": 329
    },
    "id": "WdhQTCA0CISn",
    "outputId": "9ec59937-4ed5-4f18-e646-4d32ef861149"
   },
   "outputs": [
    {
     "name": "stdout",
     "output_type": "stream",
     "text": [
      "[5.514786933958245, 5.81260335842673, 5.853268820952705, 5.737312761702322, 5.769853665626026, 5.767117284360541]\n"
     ]
    },
    {
     "data": {
      "text/plain": [
       "Text(0.5, 1.0, 'Mentodo montecarlo')"
      ]
     },
     "execution_count": 20,
     "metadata": {},
     "output_type": "execute_result"
    },
    {
     "data": {
      "image/png": "[encoded data removed]",
      "text/plain": [
       "<Figure size 432x288 with 1 Axes>"
      ]
     },
     "metadata": {
      "needs_background": "light"
     },
     "output_type": "display_data"
    }
   ],
   "source": [
    "def integrand2(x):\n",
    "    return (  15*x**3+21*x**2+41*x+3 )**(1/4) *np.exp(-0.5*x)\n",
    "\n",
    "Is=[]\n",
    "N=[10,100,1000,10000,100000,1000000]\n",
    "for i in range(0,6):\n",
    "    x = np.random.uniform(0,4,N[i])\n",
    "    \n",
    "    \n",
    "    I=np.mean(integrand2(x))*(4-0)\n",
    "    Is.append(I)\n",
    "print(Is)    \n",
    "plt.plot(N,Is,lw=3,color=\"purple\")\n",
    "plt.grid()\n",
    "plt.xlabel(\"x\")\n",
    "plt.ylabel(\"y\")\n",
    "plt.title(\"Mentodo montecarlo\")\n"
   ]
  },
  {
   "cell_type": "code",
   "execution_count": 18,
   "metadata": {
    "colab": {
     "base_uri": "https://localhost:8080/",
     "height": 329
    },
    "id": "bnJi0MV0CzDe",
    "outputId": "828d8f27-5adc-4d19-c01e-a0c1454221d8"
   },
   "outputs": [
    {
     "name": "stdout",
     "output_type": "stream",
     "text": [
      "El resultado numérico es 5.767433490695931, con un error de 5.492382344683848e-10\n"
     ]
    },
    {
     "data": {
      "text/plain": [
       "Text(0, 0.5, 'y')"
      ]
     },
     "execution_count": 18,
     "metadata": {},
     "output_type": "execute_result"
    },
    {
     "data": {
      "image/png": "[encoded data removed]",
      "text/plain": [
       "<Figure size 432x288 with 1 Axes>"
      ]
     },
     "metadata": {
      "needs_background": "light"
     },
     "output_type": "display_data"
    }
   ],
   "source": [
    "\n",
    "def f(x):\n",
    "    return (  15*x**3+21*x**2+41*x+3 )**(1/4) *np.exp(-0.5*x)\n",
    "\n",
    "res, err = integrate.quad(f, 0, 4) #devuelve respuesta y error\n",
    "\n",
    "print(\"El resultado numérico es {}, con un error de {}\"\n",
    "    .format(res, err))\n",
    "plt.axhline(y=res, xmin=-40, xmax=40,color=\"purple\",lw=3) # La integral es fija.\n",
    "plt.grid()\n",
    "plt.title(\" Implementacion en scipy\")\n",
    "plt.xlabel(\"x\")\n",
    "plt.ylabel(\"y\")\n",
    "\n"
   ]
  },
  {
   "cell_type": "code",
   "execution_count": null,
   "metadata": {
    "id": "lxpnoKLlFEO-"
   },
   "outputs": [],
   "source": []
  }
 ],
 "metadata": {
  "colab": {
   "collapsed_sections": [],
   "name": "metodo montecarlo.ipynb",
   "provenance": []
  },
  "kernelspec": {
   "display_name": "Python 3",
   "language": "python",
   "name": "python3"
  },
  "language_info": {
   "codemirror_mode": {
    "name": "ipython",
    "version": 3
   },
   "file_extension": ".py",
   "mimetype": "text/x-python",
   "name": "python",
   "nbconvert_exporter": "python",
   "pygments_lexer": "ipython3",
   "version": "3.7.2"
  }
 },
 "nbformat": 4,
 "nbformat_minor": 1
}
