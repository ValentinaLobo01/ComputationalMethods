{
  "nbformat": 4,
  "nbformat_minor": 0,
  "metadata": {
    "colab": {
      "name": "ejercicio taller.ipynb",
      "provenance": []
    },
    "kernelspec": {
      "name": "python3",
      "display_name": "Python 3"
    },
    "language_info": {
      "name": "python"
    }
  },
  "cells": [
    {
      "cell_type": "code",
      "metadata": {
        "id": "q4w0qU_sSFC3"
      },
      "source": [
        "# Tarea de ecuaciones diferenciales:\n",
        "\n",
        "# Creemos nuestra funcion de euler para resolver la ecuacion diferencial y*x^2-1.2y\n",
        "%matplotlib inline\n",
        "import matplotlib.pyplot as plt      # Importamos las librerias\n",
        "from sympy import *\n",
        "init_printing()\n",
        "import numpy as np\n",
        "import sympy as sym\n",
        "\n",
        "#notacion punto\n",
        "import sympy.physics.mechanics as mech\n",
        "mech.init_vprinting()\n",
        "a=0.  # Inicio\n",
        "b=2. # Fin\n",
        "n=200 # Numero de pasos\n",
        "def euler(f,x0,xn,y0,n):  # Definimos la funcion\n",
        "    \n",
        "    h = 0.1 # Paso\n",
        "    x0_l=[]  # Lista de pasos\n",
        "    yn_l=[]  # Lista de soluciones\n",
        "    for i in range(n):  # Realizamos un for\n",
        "        slope = f(x0, y0)   # Pendiente\n",
        "        yn = y0 + h * slope  # Termino yn ecuacion de euler\n",
        "        y0 = yn  # Condicion inicial\n",
        "        x0 = x0+h # Actualizamos el paso\n",
        "        x0_l.append(x0) # Vamos agregando lista de pasos\n",
        "        yn_l.append(y0) # Importante lista de soluciones\n",
        "    \n",
        "    return(yn_l)  # Retornamos lista de soluciones.\n",
        "\n",
        "\n",
        "\n",
        "def solucion_exacta(x):  # Tenemos nuestra solucion exacta para compararla\n",
        "    return np.exp((x**3/3)-1.2*x    ) # Retornamos la solucion.\n",
        "\n",
        "def f(x,y): # Definimos nuestra funcion de resultado.\n",
        "  return y*x**2-1.2*y\n"
      ],
      "execution_count": 38,
      "outputs": []
    },
    {
      "cell_type": "code",
      "metadata": {
        "colab": {
          "base_uri": "https://localhost:8080/",
          "height": 302
        },
        "id": "ZGXrIYvzTwwA",
        "outputId": "c5b0f424-94da-44d2-a25d-72ae8cedb428"
      },
      "source": [
        "resultado= euler(f,0,2,1,20) # Tenemos el resultado.\n",
        "print(resultado) # Imprimimos el resultado\n",
        "eje=np.linspace(a,b,20) # Definimos los puntos\n",
        "plt.plot(eje,resultado,'r*',label = 'solución numérica')     # Solucion numerica \n",
        "plt.plot(eje,solucion_exacta(eje),'k',label = 'solución exacta')  # Solucion exacta.\n",
        "plt.grid()"
      ],
      "execution_count": 39,
      "outputs": [
        {
          "output_type": "stream",
          "name": "stdout",
          "text": [
            "[0.88, 0.77528, 0.68534752, 0.60927394528, 0.5459094549708801, 0.49404805674864644, 0.45254801998176014, 0.42041711056305514, 0.39687375237152406, 0.3813956760290346, 0.3737677625084539, 0.37414153027096236, 0.38312092699746547, 0.40189385242034126, 0.4324377852042872, 0.4778437526507374, 0.5428305030112377, 0.634568858020137, 0.764020905056245, 0.9481499431748002]\n"
          ]
        },
        {
          "output_type": "display_data",
          "data": {
            "image/png": "[encoded data removed]",
            "text/plain": [
              "<Figure size 432x288 with 1 Axes>"
            ]
          },
          "metadata": {
            "needs_background": "light"
          }
        }
      ]
    },
    {
      "cell_type": "code",
      "metadata": {
        "id": "3IQdo7eHUQhD"
      },
      "source": [
        "# Implementacion de otro codigo en euler: otra forma\n",
        "def euler(f,l0,lN,y0,h):  # Definimos nuestra funcion\n",
        "  N=int((lN-l0)/h)  # Numero de pasos\n",
        "  x=np.linspace(l0,lN,N+1)  # intervalo de pasos\n",
        "  y=np.zeros(N+1) # vector de zeros.\n",
        "  y[0]=y0 # Condicion inicial.\n",
        "  for i in range (1,N+1):  # Realizamos un for.\n",
        "    y[i]=y[i-1]+h*f(x[i-1],y[i-1]) # Aplicamos la formula de euler.\n",
        "  return x,y\n"
      ],
      "execution_count": 40,
      "outputs": []
    },
    {
      "cell_type": "code",
      "metadata": {
        "colab": {
          "base_uri": "https://localhost:8080/",
          "height": 282
        },
        "id": "5_llRd5kZ0Zi",
        "outputId": "694c4436-ae89-4963-b032-7b073ac06524"
      },
      "source": [
        "def f(x,y): # Definimos nuestra funcion\n",
        "  return y*x**2-1.2*y\n",
        "  \n",
        "(x,y)=euler(f,0,2,1,0.1)  # Tenemos la funcion\n",
        "plt.plot(x,y,'.k')  # Grafica.\n",
        "plt.grid()                              # Solucion real y Numerica se parecen pero hay errores!\n",
        "eje=np.linspace(a,b,21)\n",
        "plt.plot(eje,solucion_exacta(eje),'b',label = 'solución exacta')"
      ],
      "execution_count": 41,
      "outputs": [
        {
          "output_type": "execute_result",
          "data": {
            "text/plain": [
              "[<matplotlib.lines.Line2D at 0x7fd53e01f490>]"
            ]
          },
          "metadata": {},
          "execution_count": 41
        },
        {
          "output_type": "display_data",
          "data": {
            "image/png": "[encoded data removed]",
            "text/plain": [
              "<Figure size 432x288 with 1 Axes>"
            ]
          },
          "metadata": {
            "needs_background": "light"
          }
        }
      ]
    },
    {
      "cell_type": "code",
      "metadata": {
        "colab": {
          "base_uri": "https://localhost:8080/",
          "height": 42
        },
        "id": "91Fx2bA6aIdx",
        "outputId": "e8b7d455-9d9c-4b35-a2f1-d69eed2e5ad1"
      },
      "source": [
        "# Veamos la implementacion en simpy.\n",
        "x=sym.symbols('x')  # Simbolo\n",
        "y=sym.Function('y')  # Simbolo\n",
        "Ed=Eq(y(x)*x**2-1.2*y(x),y(x).diff())  # Ecuacion diferencial\n",
        "Ed # Ecuacion diferencial\n",
        "CI={y(0):1} # Condiciones iniciales.\n",
        "simplify(dsolve(Ed,y(x),ics=CI)) # Solucion por sympy."
      ],
      "execution_count": 42,
      "outputs": [
        {
          "output_type": "execute_result",
          "data": {
            "image/png": "[encoded data removed]",
            "text/latex": "$\\displaystyle y{\\left(x \\right)} = e^{x \\left(0.333333333333333 x^{2} - 1.2\\right)}$",
            "text/plain": [
              "          ⎛                   2      ⎞\n",
              "        x⋅⎝0.333333333333333⋅x  - 1.2⎠\n",
              "y(x) = ℯ                              "
            ]
          },
          "metadata": {},
          "execution_count": 42
        }
      ]
    },
    {
      "cell_type": "code",
      "metadata": {
        "id": "YyhfjP97C2fU"
      },
      "source": [
        ""
      ],
      "execution_count": null,
      "outputs": []
    }
  ]
}