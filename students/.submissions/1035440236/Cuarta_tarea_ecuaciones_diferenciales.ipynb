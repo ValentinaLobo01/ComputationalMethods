{
  "nbformat": 4,
  "nbformat_minor": 0,
  "metadata": {
    "colab": {
      "name": "Cuarta tarea ecuaciones diferenciales.ipynb",
      "provenance": []
    },
    "kernelspec": {
      "name": "python3",
      "display_name": "Python 3"
    },
    "language_info": {
      "name": "python"
    }
  },
  "cells": [
    {
      "cell_type": "code",
      "metadata": {
        "id": "M_H0k-_S6cXK"
      },
      "source": [
        "# Cuarta tarea ecuaciones diferenciales:\n",
        "from scipy.integrate import solve_bvp # Importamos la libreria\n",
        "import numpy as np  # Importamos numpy.\n",
        "import matplotlib.pyplot as plt # Importamos matplotlib.\n",
        "def func(x, y):   # Definimos la funcion\n",
        "    \n",
        "    func = np.zeros((y.shape))  # Generamos una matriz de ceros\n",
        "    func[0] = y[1]   # f[0]= dT/dx, y[1]=z\n",
        "    func[1] = 0.01 * y[0] - 0.2   #f[1]= dx/dx, y[0]=T\n",
        "    \n",
        "    return func   # Retordamos f\n",
        "\n",
        "def bc(ya, yb):# veamos las condiciones.\n",
        "    \n",
        "    residuals = np.zeros(2)\n",
        "    residuals[0] = ya[0] - 40 # Residuos.\n",
        "    residuals[1] = yb[0] - 200\n",
        "    \n",
        "    return residuals # Residuos.\n",
        "\n",
        "x_intervalo = 100\n",
        "pasos = np.linspace(0, 10, x_intervalo)  # Intervalo desde cero hasta 10.\n",
        "\n",
        "y0 = np.zeros((2, x_intervalo))\n",
        "resultado = solve_bvp(func, bc, pasos, y0)\n",
        "\n",
        "\n",
        "\n"
      ],
      "execution_count": 15,
      "outputs": []
    },
    {
      "cell_type": "code",
      "metadata": {
        "colab": {
          "base_uri": "https://localhost:8080/",
          "height": 265
        },
        "id": "3opb7uui9Zb2",
        "outputId": "ffd8fd75-6405-4c68-9d9b-86c14a53a677"
      },
      "source": [
        "plt.plot(resultado.x, resultado.y[0],'.k', markersize = 8)\n",
        "plt.grid()"
      ],
      "execution_count": 16,
      "outputs": [
        {
          "output_type": "display_data",
          "data": {
            "image/png": "[encoded data removed]",
            "text/plain": [
              "<Figure size 432x288 with 1 Axes>"
            ]
          },
          "metadata": {
            "needs_background": "light"
          }
        }
      ]
    },
    {
      "cell_type": "code",
      "metadata": {
        "id": "AiDbt1io9lt9"
      },
      "source": [
        ""
      ],
      "execution_count": null,
      "outputs": []
    }
  ]
}