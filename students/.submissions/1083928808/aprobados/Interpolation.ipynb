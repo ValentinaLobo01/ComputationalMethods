{
 "cells": [
  {
   "cell_type": "markdown",
   "metadata": {},
   "source": [
    "## Computational Methods - Homework 1\n",
    "### Universidad de Antioquia\n",
    "\n",
    "**Student:** Andrés Felipe Riaño Quintanilla\n",
    "\n",
    "**ID:** 1083928808  "
   ]
  },
  {
   "cell_type": "markdown",
   "metadata": {},
   "source": [
    "Generate a set of 𝑁 points of the function $sin^2(𝑥)$ between $0$ and $2 \\pi$, including an array of 𝑥 positions, 𝑦=𝑓(𝑥) and first derivative 𝑦′=𝑓′(𝑥)\n",
    "\n",
    "Show which polynomial gives the best approximation to the real function, Hermite or Lagrange polynomial."
   ]
  },
  {
   "cell_type": "markdown",
   "metadata": {},
   "source": [
    "### Function and points"
   ]
  },
  {
   "cell_type": "code",
   "execution_count": 1,
   "metadata": {},
   "outputs": [
    {
     "ename": "NameError",
     "evalue": "name 'xx' is not defined",
     "output_type": "error",
     "traceback": [
      "\u001b[0;31m---------------------------------------------------------------------------\u001b[0m",
      "\u001b[0;31mNameError\u001b[0m                                 Traceback (most recent call last)",
      "\u001b[0;32m<ipython-input-1-ba8b4b400c52>\u001b[0m in \u001b[0;36m<module>\u001b[0;34m\u001b[0m\n\u001b[1;32m      8\u001b[0m \u001b[0;34m\u001b[0m\u001b[0m\n\u001b[1;32m      9\u001b[0m \u001b[0mw\u001b[0m \u001b[0;34m=\u001b[0m \u001b[0mnp\u001b[0m\u001b[0;34m.\u001b[0m\u001b[0mlinspace\u001b[0m\u001b[0;34m(\u001b[0m\u001b[0;36m0\u001b[0m\u001b[0;34m,\u001b[0m\u001b[0;36m2\u001b[0m\u001b[0;34m*\u001b[0m\u001b[0mnp\u001b[0m\u001b[0;34m.\u001b[0m\u001b[0mpi\u001b[0m\u001b[0;34m,\u001b[0m\u001b[0;36m100\u001b[0m\u001b[0;34m)\u001b[0m  \u001b[0;31m#Numpy array with the x-coordinates to plot the functions\u001b[0m\u001b[0;34m\u001b[0m\u001b[0;34m\u001b[0m\u001b[0m\n\u001b[0;32m---> 10\u001b[0;31m \u001b[0mfw\u001b[0m \u001b[0;34m=\u001b[0m \u001b[0;34m(\u001b[0m\u001b[0mnp\u001b[0m\u001b[0;34m.\u001b[0m\u001b[0msin\u001b[0m\u001b[0;34m(\u001b[0m\u001b[0mxx\u001b[0m\u001b[0;34m)\u001b[0m\u001b[0;34m)\u001b[0m\u001b[0;34m**\u001b[0m\u001b[0;36m2\u001b[0m  \u001b[0;31m#Numpy array with the y-coordinates to plot sin^2(x)\u001b[0m\u001b[0;34m\u001b[0m\u001b[0;34m\u001b[0m\u001b[0m\n\u001b[0m\u001b[1;32m     11\u001b[0m \u001b[0;34m\u001b[0m\u001b[0m\n\u001b[1;32m     12\u001b[0m \u001b[0mplt\u001b[0m\u001b[0;34m.\u001b[0m\u001b[0mfigure\u001b[0m\u001b[0;34m(\u001b[0m\u001b[0mfigsize\u001b[0m \u001b[0;34m=\u001b[0m \u001b[0;34m(\u001b[0m\u001b[0;36m12\u001b[0m\u001b[0;34m,\u001b[0m\u001b[0;36m6\u001b[0m\u001b[0;34m)\u001b[0m\u001b[0;34m)\u001b[0m\u001b[0;34m\u001b[0m\u001b[0;34m\u001b[0m\u001b[0m\n",
      "\u001b[0;31mNameError\u001b[0m: name 'xx' is not defined"
     ]
    }
   ],
   "source": [
    "import numpy as np\n",
    "import matplotlib.pyplot as plt\n",
    "\n",
    "N = 5  #Number of points\n",
    "x = np.linspace(0,2*np.pi,N)  #Array of x positions\n",
    "y = (np.sin(x))**2   #y = f(x)\n",
    "yprime = (np.sin(2*x))  #y' = f'(x)\n",
    "\n",
    "w = np.linspace(0,2*np.pi,100)  #Numpy array with the x-coordinates to plot the functions\n",
    "fw = (np.sin(xx))**2  #Numpy array with the y-coordinates to plot sin^2(x)\n",
    "\n",
    "plt.figure(figsize = (12,6))\n",
    "font = {'family':'Georgia', 'weight':'bold', 'size':20}\n",
    "plt.plot(x,y,label='$Points$',color='red',marker='o',linestyle='',markersize=8) \n",
    "plt.plot(xx,fxx,label='$sin^2(x)$',color='black')\n",
    "plt.xlabel('x', **font)\n",
    "plt.ylabel('y', **font)\n",
    "plt.legend()\n",
    "plt.grid()\n",
    "plt.show"
   ]
  },
  {
   "cell_type": "markdown",
   "metadata": {},
   "source": [
    "### Lagrange polynomial and points"
   ]
  },
  {
   "cell_type": "code",
   "execution_count": null,
   "metadata": {},
   "outputs": [],
   "source": [
    "def lagrange(X,Y,w):\n",
    "    '''\n",
    "    Parameter:\n",
    "    ----------\n",
    "    X: numpy array with the x-coordinates of the interpolation points.\n",
    "    Y: numpy array with the y-coordinates of the interpolation points.\n",
    "    w: numpy array with the x-coordinates to plot Lagrange polynomial.\n",
    "    \n",
    "    Return:\n",
    "    ----------\n",
    "    Pf: numpy array with the y-coordinates to plot Lagrange polynomial.\n",
    "    '''\n",
    "    Y=Y[np.argsort(X)]\n",
    "    X=X[np.argsort(X)]\n",
    "    n=np.size(X)\n",
    "    P0=np.empty(shape=(n,n),dtype=object)\n",
    "    Ps=np.empty(shape=(n),dtype=object)\n",
    "    for i in range(n):\n",
    "        for j in range(n):\n",
    "            if i!=j:\n",
    "                P0[i][j]=(w-float(X[j]))/(float(X[i])-float(X[j])) \n",
    "            else:\n",
    "                P0[i][j]=1   \n",
    "        Ps[i]=np.prod(P0[i]) #numpy array with the polynomials P_i(x)\n",
    "    Pf = (Ps*Y).sum() #Pf(x) = y_0*P_0(x) + y_1*P_1(x) + ... + y_n*P_n(x) \n",
    "    return Pf"
   ]
  },
  {
   "cell_type": "code",
   "execution_count": null,
   "metadata": {},
   "outputs": [],
   "source": [
    "plt.figure(figsize = (12,6))\n",
    "font = {'family':'Georgia', 'weight':'bold', 'size':20}\n",
    "plt.plot(x,y,label='$Points$',color='red',marker='o',linestyle='',markersize=8) \n",
    "plt.plot(w,lagrange(x,y,w),label='$Lagrange$',color='blue')\n",
    "plt.xlabel('x', **font)\n",
    "plt.ylabel('y', **font)\n",
    "plt.legend()\n",
    "plt.grid()\n",
    "plt.show"
   ]
  },
  {
   "cell_type": "markdown",
   "metadata": {},
   "source": [
    "### Hermite polynomial and points"
   ]
  },
  {
   "cell_type": "code",
   "execution_count": null,
   "metadata": {},
   "outputs": [],
   "source": [
    "def hdiff(x, y, yprime):\n",
    "    m = x.size # here m is the number of data points. Note n=m-1\n",
    "# and 2n+1=2m-1\n",
    "    l = 2*m\n",
    "    z = np.zeros(l)\n",
    "    a = np.zeros(l)\n",
    "    for i in range(m):\n",
    "        z[2*i] = x[i]\n",
    "        z[2*i+1] = x[i]\n",
    "    for i in range(m):\n",
    "        a[2*i] = y[i]\n",
    "        a[2*i+1] = y[i]\n",
    "    for i in np.flip(np.arange(1, m)): # computes the first divided\n",
    "# differences using derivatives\n",
    "       a[2*i+1] = yprime[i]\n",
    "       a[2*i] = (a[2*i]-a[2*i-1]) / (z[2*i]-z[2*i-1])\n",
    "    a[1] = yprime[0]\n",
    "    for j in range(2, l): # computes the rest of the divided differences\n",
    "        for i in np.flip(np.arange(j, l)):\n",
    "            a[i]=(a[i]-a[i-1]) / (z[i]-z[i-j])\n",
    "    return a\n",
    "    \n",
    "def hermite(x, y, yprime, w):\n",
    "    m = x.size # here m is the number of data points. not the\n",
    "    # degree of the polynomial\n",
    "    a = hdiff(x, y, yprime)\n",
    "    z = np.zeros(2*m)\n",
    "    for i in range(m):\n",
    "        z[2*i] = x[i]\n",
    "        z[2*i+1] = x[i]\n",
    "    sum = a[0]\n",
    "    pr = 1.0\n",
    "    for j in range(2*m-1):\n",
    "        pr *= w-z[j]\n",
    "        sum += a[j+1]*pr\n",
    "    return sum "
   ]
  },
  {
   "cell_type": "code",
   "execution_count": null,
   "metadata": {},
   "outputs": [],
   "source": [
    "plt.figure(figsize = (12,6))\n",
    "font = {'family':'Georgia', 'weight':'bold', 'size':20}\n",
    "plt.plot(x,y,label='$Points$',color='red',marker='o',linestyle='',markersize=8) \n",
    "plt.plot(w,hermite(x,y,yprime,w),label='$Hermite$',color='green')\n",
    "plt.xlabel('x', **font)\n",
    "plt.ylabel('y', **font)\n",
    "plt.legend()\n",
    "plt.grid()\n",
    "plt.show"
   ]
  },
  {
   "cell_type": "markdown",
   "metadata": {},
   "source": [
    "### Lagrange polynomial vs Hermite polynomial"
   ]
  },
  {
   "cell_type": "code",
   "execution_count": null,
   "metadata": {},
   "outputs": [],
   "source": [
    "plt.figure(figsize = (12,6))\n",
    "font = {'family':'Georgia', 'weight':'bold', 'size':20}\n",
    "plt.plot(x,y,label='$Points$',color='red',marker='o',linestyle='',markersize=8) \n",
    "plt.plot(w,lagrange(x,y,w),label='$Lagrange$', color='blue')\n",
    "plt.plot(w,hermite(x,y,yprime,w),color='green',label='$Hermite$')\n",
    "plt.plot(w,fw,label='$sin^2(x)$',color='black')\n",
    "plt.xlabel('x', **font)\n",
    "plt.ylabel('y', **font)\n",
    "plt.legend()\n",
    "plt.grid()\n",
    "plt.show"
   ]
  },
  {
   "cell_type": "markdown",
   "metadata": {},
   "source": [
    "Clearly, Hermite polynomial gives the best approximation to the real function. Let's see the error function $E(x)=\\left | f(x)-P(x) \\right | $ for each polynomial."
   ]
  },
  {
   "cell_type": "code",
   "execution_count": null,
   "metadata": {},
   "outputs": [],
   "source": [
    "plt.figure(figsize = (12,6))\n",
    "font = {'family':'Georgia', 'weight':'bold', 'size':20}\n",
    "plt.plot(x,y,label='$Points$',color='red',marker='o',linestyle='',markersize=8) \n",
    "plt.plot(w,np.abs(fw-lagrange(x,y,w)),label='$Lagrange \\enspace error$', color='blue')\n",
    "plt.plot(xx,np.abs(fw-hermite(x,y,yprime,xx)),color='green',label='$Hermite \\enspace error$')\n",
    "plt.xlabel('x', **font)\n",
    "plt.ylabel('y', **font)\n",
    "plt.legend()\n",
    "plt.grid()\n",
    "plt.show"
   ]
  },
  {
   "cell_type": "markdown",
   "metadata": {},
   "source": [
    "The Lagrange polynomial error is greater than the Hermite polynomial error for the whole interval $\\left [ 0, 2\\pi \\right ]$, except when $x=x_i$ ($x_i$ is the ith $x$ term of the initial interpolation points). The Hermite polynomial aproximation is the best."
   ]
  },
  {
   "cell_type": "code",
   "execution_count": null,
   "metadata": {},
   "outputs": [],
   "source": []
  }
 ],
 "metadata": {
  "kernelspec": {
   "display_name": "Python 3",
   "language": "python",
   "name": "python3"
  },
  "language_info": {
   "codemirror_mode": {
    "name": "ipython",
    "version": 3
   },
   "file_extension": ".py",
   "mimetype": "text/x-python",
   "name": "python",
   "nbconvert_exporter": "python",
   "pygments_lexer": "ipython3",
   "version": "3.7.2"
  }
 },
 "nbformat": 4,
 "nbformat_minor": 4
}
