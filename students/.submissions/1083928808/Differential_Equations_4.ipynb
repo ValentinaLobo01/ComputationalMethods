{
 "cells": [
  {
   "cell_type": "markdown",
   "metadata": {},
   "source": [
    "# Computational Methods - Homework 10\n",
    "## Universidad de Antioquia\n",
    "\n",
    "**Student:** Andrés Felipe Riaño Quintanilla\n",
    "\n",
    "**ID:** 1083928808 "
   ]
  },
  {
   "cell_type": "markdown",
   "metadata": {},
   "source": [
    "### Using scipy.integrate.solve_bvp solve the problem presented in the shooting method section:\n",
    "\n",
    "<img src=\"imgs/shooting_method.png\" width=\"800\" />"
   ]
  },
  {
   "cell_type": "markdown",
   "metadata": {},
   "source": [
    "### Analytical solution using SymPy:"
   ]
  },
  {
   "cell_type": "code",
   "execution_count": 1,
   "metadata": {},
   "outputs": [],
   "source": [
    "import sympy as sym"
   ]
  },
  {
   "cell_type": "code",
   "execution_count": 2,
   "metadata": {},
   "outputs": [
    {
     "data": {
      "text/latex": [
       "$\\displaystyle \\frac{d^{2}}{d x^{2}} T{\\left(x \\right)} = 0.01 T{\\left(x \\right)} - 0.2$"
      ],
      "text/plain": [
       "Eq(Derivative(T(x), (x, 2)), 0.01*T(x) - 0.2)"
      ]
     },
     "execution_count": 2,
     "metadata": {},
     "output_type": "execute_result"
    }
   ],
   "source": [
    "x = sym.symbols('x')\n",
    "T = sym.Function('T')\n",
    "\n",
    "LHS = (T(x).diff(x)).diff(x)\n",
    "RHS = 0.01 * T(x) - 0.2\n",
    "\n",
    "Equation = sym.Eq(LHS, RHS)  #The differential equation.\n",
    "Equation"
   ]
  },
  {
   "cell_type": "code",
   "execution_count": 3,
   "metadata": {},
   "outputs": [
    {
     "data": {
      "text/latex": [
       "$\\displaystyle T{\\left(x \\right)} = - \\frac{53.4522786865455}{\\left(\\left(\\left(\\left(e^{- 0.1 x}\\right)^{-1.0}\\right)^{-1.0}\\right)^{-1.0}\\right)^{1.0}} + \\frac{73.4522786865455}{\\left(\\left(\\left(e^{- 0.1 x}\\right)^{-1.0}\\right)^{-1.0}\\right)^{1.0}} + 20.0$"
      ],
      "text/plain": [
       "Eq(T(x), -53.4522786865455*(((exp(-0.1*x)**(-1.0))**(-1.0))**(-1.0))**(-1.0) + 73.4522786865455*((exp(-0.1*x)**(-1.0))**(-1.0))**(-1.0) + 20.0)"
      ]
     },
     "execution_count": 3,
     "metadata": {},
     "output_type": "execute_result"
    }
   ],
   "source": [
    "Sol_An = sym.dsolve(Equation, ics = {T(0): 40, T(10): 200})  #The analytical solution of the differential equation.\n",
    "Sol_An"
   ]
  },
  {
   "cell_type": "code",
   "execution_count": 4,
   "metadata": {},
   "outputs": [],
   "source": [
    "T_An = sym.lambdify(x, Sol_An.args[1])  #The analytical solution as a Python function."
   ]
  },
  {
   "cell_type": "markdown",
   "metadata": {},
   "source": [
    "### Numerical solution using scipy.integrate.solve_bvp"
   ]
  },
  {
   "cell_type": "markdown",
   "metadata": {},
   "source": [
    "$$\\frac{d^2T}{dx^2}=0.01T-0.2; \\enspace T(0)=40, \\enspace T(10)=200$$\n",
    "\n",
    "$$\\frac{dT}{dx}=z; \\enspace \\frac{dz}{dx} = 0.01T-0.2; \\enspace y(x)= \\left( T(x), z(x) \\right)$$\n",
    "\n",
    "$$f \\left(x,y\\right)=\\frac{dy}{dx}=\\left( \\frac{dT}{dx}, \\frac{dz}{dx} \\right)=\\left( z, 0.01T-0.2 \\right)$$"
   ]
  },
  {
   "cell_type": "code",
   "execution_count": 5,
   "metadata": {},
   "outputs": [],
   "source": [
    "from scipy.integrate import solve_bvp\n",
    "import numpy as np\n",
    "\n",
    "def f(x, y):\n",
    "    \n",
    "    f = np.zeros((y.shape))\n",
    "    f[0] = y[1]\n",
    "    f[1] = 0.01 * y[0] - 0.2\n",
    "    \n",
    "    return f\n",
    "\n",
    "def bc(ya, yb):  #Boundary conditions.\n",
    "    \n",
    "    residuals = np.zeros(2)\n",
    "    residuals[0] = ya[0] - 40\n",
    "    residuals[1] = yb[0] - 200\n",
    "    \n",
    "    return residuals\n",
    "\n",
    "x_steps = 100\n",
    "X = np.linspace(0, 10, x_steps)\n",
    "\n",
    "y0 = np.zeros((2, x_steps))\n",
    "Solution = solve_bvp(f, bc, X, y0)"
   ]
  },
  {
   "cell_type": "markdown",
   "metadata": {},
   "source": [
    "### Plotting both solutions"
   ]
  },
  {
   "cell_type": "code",
   "execution_count": 6,
   "metadata": {},
   "outputs": [
    {
     "data": {
      "image/png": "[encoded data removed]",
      "text/plain": [
       "<Figure size 864x432 with 1 Axes>"
      ]
     },
     "metadata": {
      "needs_background": "light"
     },
     "output_type": "display_data"
    }
   ],
   "source": [
    "import matplotlib.pyplot as plt\n",
    "\n",
    "fig, ax = plt.subplots(1, 1, figsize = (12,6))\n",
    "font1 = {'family':'Georgia', 'weight':'bold', 'size': 20}\n",
    "font2 = {'family':'Georgia', 'weight':'bold', 'size': 15}\n",
    "\n",
    "ax.plot(Solution.x, T_An(Solution.x), '-b', label = 'Analytical')\n",
    "ax.plot(Solution.x, Solution.y[0],'.r', markersize = 5, label = 'Numerical')\n",
    "\n",
    "ax.set_title('Solutions to the BVP', **font1)\n",
    "ax.set_xlabel('x', **font2)\n",
    "ax.set_ylabel('T(x)', **font2)\n",
    "ax.legend()\n",
    "ax.grid()"
   ]
  }
 ],
 "metadata": {
  "kernelspec": {
   "display_name": "Python 3",
   "language": "python",
   "name": "python3"
  },
  "language_info": {
   "codemirror_mode": {
    "name": "ipython",
    "version": 3
   },
   "file_extension": ".py",
   "mimetype": "text/x-python",
   "name": "python",
   "nbconvert_exporter": "python",
   "pygments_lexer": "ipython3",
   "version": "3.8.5"
  }
 },
 "nbformat": 4,
 "nbformat_minor": 4
}
