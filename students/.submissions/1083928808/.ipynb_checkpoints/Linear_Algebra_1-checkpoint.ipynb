{
 "cells": [
  {
   "cell_type": "markdown",
   "metadata": {},
   "source": [
    "## Computational Methods - Homework 6\n",
    "### Universidad de Antioquia\n",
    "\n",
    "**Student:** Andrés Felipe Riaño Quintanilla\n",
    "\n",
    "**ID:** 1083928808 "
   ]
  },
  {
   "cell_type": "markdown",
   "metadata": {},
   "source": [
    "Consider a circuit:\n",
    "<img src=\"imgs/homework_circuit.png\" width=\"700\" />\n",
    "\n",
    "The set of linear equations comes from the Kirchhoff's rules (in case of doubts review the literature)\n",
    "\n",
    "Find the currents $I_1 \\cdots I_6$ knowing that the \n",
    "\n",
    "Resistances are:\n",
    "\n",
    "$R_1=1 \\Omega$,\n",
    "$R_2=2 \\Omega$,\n",
    "$R_3=3 \\Omega$,\n",
    "$R_4=4 \\Omega$,\n",
    "$R_5=5 \\Omega$\n",
    "\n",
    "Voltages are:\n",
    "$E_1=10 V$,\n",
    "$E_2=40 V$"
   ]
  },
  {
   "cell_type": "markdown",
   "metadata": {},
   "source": [
    "### Matrix equation"
   ]
  },
  {
   "cell_type": "markdown",
   "metadata": {},
   "source": [
    "$$RI=E$$\n",
    "\n",
    "$$\\begin{bmatrix}{-R_1}&{-R_2}&{-R_3}&{0}&{0}&{0}\\\\{0}&{R_2}&{0}&{-R_4}&{0}&{0}\\\\{0}&{0}&{R_3}&{0}&{-R_5}&{0}\\\\{1}&{0}&{-1}&{0}&{-1}&{0}\\\\{-1}&{1}&{0}&{1}&{0}&{0}\\\\{0}&{0}&{0}&{-1}&{1}&{1}\\end{bmatrix} \\begin{bmatrix}{I_1}\\\\{I_2}\\\\{I_3}\\\\{I_4}\\\\{I_5}\\\\{I_6}\\end{bmatrix}=\\begin{bmatrix}{-E_1}\\\\{-E_2}\\\\{E_2}\\\\{0}\\\\{0}\\\\{0}\\end{bmatrix}$$\n",
    "\n",
    "$$\\begin{bmatrix}{-1}&{-2}&{-3}&{0}&{0}&{0}\\\\{0}&{2}&{0}&{-4}&{0}&{0}\\\\{0}&{0}&{3}&{0}&{-5}&{0}\\\\{1}&{0}&{-1}&{0}&{-1}&{0}\\\\{-1}&{1}&{0}&{1}&{0}&{0}\\\\{0}&{0}&{0}&{-1}&{1}&{1}\\end{bmatrix} \\begin{bmatrix}{I_1}\\\\{I_2}\\\\{I_3}\\\\{I_4}\\\\{I_5}\\\\{I_6}\\end{bmatrix}=\\begin{bmatrix}{-10}\\\\{-40}\\\\{40}\\\\{0}\\\\{0}\\\\{0}\\end{bmatrix}$$"
   ]
  },
  {
   "cell_type": "code",
   "execution_count": 1,
   "metadata": {},
   "outputs": [],
   "source": [
    "import numpy as np"
   ]
  },
  {
   "cell_type": "code",
   "execution_count": 2,
   "metadata": {},
   "outputs": [
    {
     "name": "stdout",
     "output_type": "stream",
     "text": [
      "R = \n",
      "[[-1 -2 -3  0  0  0]\n",
      " [ 0  2  0 -4  0  0]\n",
      " [ 0  0  3  0 -5  0]\n",
      " [ 1  0 -1  0 -1  0]\n",
      " [-1  1  0  1  0  0]\n",
      " [ 0  0  0 -1  1  1]] \n",
      "\n",
      "E = \n",
      "[[-10]\n",
      " [-40]\n",
      " [ 40]\n",
      " [  0]\n",
      " [  0]\n",
      " [  0]]\n"
     ]
    }
   ],
   "source": [
    "R=np.array([[-1,-2,-3,0,0,0],[0,2,0,-4,0,0],[0,0,3,0,-5,0],[1,0,-1,0,-1,0],[-1,1,0,1,0,0],[0,0,0,-1,1,1]])\n",
    "E=np.array([[-10],[-40],[40],[0],[0],[0]])\n",
    "print('R = \\n{} \\n\\nE = \\n{}'.format(R,E))"
   ]
  },
  {
   "cell_type": "code",
   "execution_count": 3,
   "metadata": {},
   "outputs": [
    {
     "name": "stdout",
     "output_type": "stream",
     "text": [
      "I = \n",
      "[[ 1.98019802]\n",
      " [-5.34653465]\n",
      " [ 6.23762376]\n",
      " [ 7.32673267]\n",
      " [-4.25742574]\n",
      " [11.58415842]] \n",
      "\n",
      "I_1 = 1.9801980198019802 A. \n",
      "\n",
      "I_2 = -5.346534653465347 A. \n",
      "\n",
      "I_3 = 6.237623762376238 A. \n",
      "\n",
      "I_4 = 7.326732673267327 A. \n",
      "\n",
      "I_5 = -4.257425742574258 A. \n",
      "\n",
      "I_6 = 11.584158415841586 A. \n",
      "\n"
     ]
    }
   ],
   "source": [
    "#Solving the matrix equation\n",
    "\n",
    "I=np.linalg.solve(R, E)\n",
    "print('I = \\n{} \\n'.format(I))\n",
    "\n",
    "for i in range(len(I)):\n",
    "    print('I_{} = {} A. \\n'.format(i+1,I[i][0]))"
   ]
  }
 ],
 "metadata": {
  "kernelspec": {
   "display_name": "Python 3",
   "language": "python",
   "name": "python3"
  },
  "language_info": {
   "codemirror_mode": {
    "name": "ipython",
    "version": 3
   },
   "file_extension": ".py",
   "mimetype": "text/x-python",
   "name": "python",
   "nbconvert_exporter": "python",
   "pygments_lexer": "ipython3",
   "version": "3.7.2"
  }
 },
 "nbformat": 4,
 "nbformat_minor": 4
}
