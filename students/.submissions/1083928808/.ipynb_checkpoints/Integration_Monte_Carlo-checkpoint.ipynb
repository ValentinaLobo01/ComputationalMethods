{
 "cells": [
  {
   "cell_type": "markdown",
   "metadata": {},
   "source": [
    "## Computational Methods - Homework 5\n",
    "### Universidad de Antioquia\n",
    "\n",
    "**Student:** Andrés Felipe Riaño Quintanilla\n",
    "\n",
    "**ID:** 1083928808 "
   ]
  },
  {
   "cell_type": "markdown",
   "metadata": {},
   "source": [
    "Calculate the following integral:\n",
    "\n",
    "$\\int_{0}^{4} \\sqrt[4]{15 x^3 + 21x^2 + 41x + 3} \\cdot e^{-0.5x} dx$\n",
    "\n",
    "using Monte Carlo Mean Value method\n",
    "\n",
    "then plot the value of the integral vs number of iterations (check the convergence):\n",
    "\n",
    "N=[10,100,1000,10000,100000,1000000]\n",
    "\n",
    "and on the same graph plot the value of the integral using scipy quad method \n",
    "\n",
    "*the scipy quad will give a constant horizontal line while MC should show some oscillations*"
   ]
  },
  {
   "cell_type": "markdown",
   "metadata": {},
   "source": [
    "### Defining Monte_Carlo function"
   ]
  },
  {
   "cell_type": "code",
   "execution_count": 1,
   "metadata": {},
   "outputs": [],
   "source": [
    "import numpy as np\n",
    "\n",
    "def Monte_Carlo(f,a,b,N):\n",
    "    '''\n",
    "    This function calculates the integral of f between a and b with N points using the Expectation (mean) value method.\n",
    "    \n",
    "    Parameters:\n",
    "    ----------\n",
    "    f: python function.\n",
    "    a: int or float. Lower limit of integration.\n",
    "    b: int or float. Upper limit of integration.\n",
    "    N: int. Number of points.\n",
    "    \n",
    "    Returns:\n",
    "    ----------\n",
    "    np.mean(f(x))*(b-a): float. The definite integral.\n",
    "    '''\n",
    "    x=np.random.uniform(a,b,N)\n",
    "    return(np.mean(f(x))*(b-a))"
   ]
  },
  {
   "cell_type": "markdown",
   "metadata": {},
   "source": [
    "### Exercise function"
   ]
  },
  {
   "cell_type": "code",
   "execution_count": 2,
   "metadata": {},
   "outputs": [],
   "source": [
    "def f(x):\n",
    "    return np.exp(-0.5*x)*(15*x**3+21*x**2+41*x+3)**0.25"
   ]
  },
  {
   "cell_type": "markdown",
   "metadata": {},
   "source": [
    "### Solving the exercise"
   ]
  },
  {
   "cell_type": "code",
   "execution_count": 3,
   "metadata": {},
   "outputs": [
    {
     "name": "stdout",
     "output_type": "stream",
     "text": [
      "Integral using quad: 5.767433490695931\n",
      "Integral using Monte_Carlo: [5.91100482 5.82626795 5.81191319 5.75692376 5.7643219  5.7666295 ]\n"
     ]
    }
   ],
   "source": [
    "from scipy.integrate import quad\n",
    "import matplotlib.pyplot as plt\n",
    "\n",
    "Iq=quad(f,0,4)[0]  #Integral using quad\n",
    "IQ=np.asarray([Iq for i in range(0,2)])\n",
    "\n",
    "N=np.asarray([10,100,1000,10000,100000,1000000])\n",
    "IMC=np.asarray([Monte_Carlo(f,0,4,i) for i in N])  #Integral using Monte_Carlo\n",
    "\n",
    "print('Integral using quad: {}'.format(Iq))\n",
    "print('Integral using Monte_Carlo: {}'.format(IMC))"
   ]
  },
  {
   "cell_type": "code",
   "execution_count": 4,
   "metadata": {},
   "outputs": [
    {
     "name": "stderr",
     "output_type": "stream",
     "text": [
      "findfont: Font family ['Georgia'] not found. Falling back to DejaVu Sans.\n",
      "findfont: Font family ['Georgia'] not found. Falling back to DejaVu Sans.\n"
     ]
    },
    {
     "data": {
      "image/png": "[encoded data removed]",
      "text/plain": [
       "<Figure size 864x432 with 1 Axes>"
      ]
     },
     "metadata": {
      "needs_background": "light"
     },
     "output_type": "display_data"
    }
   ],
   "source": [
    "plt.figure(figsize=(12,6))\n",
    "font1={'family':'Georgia','weight':'bold','size':20}\n",
    "font2={'family':'Georgia','weight':'bold','size':15}\n",
    "plt.title('Convergence of the numerical integral using the Expectation Value Method (EVM)',**font1)\n",
    "\n",
    "plt.plot(N,IMC,label='EVM',marker='o',linestyle='',markersize=5)\n",
    "plt.plot(np.linspace(0,10000000,2),IQ,label='quad')\n",
    "plt.semilogx()\n",
    "plt.ylim(5.5,6.5)\n",
    "plt.xlim(1,2000000)\n",
    "plt.ylabel('Integral',**font2)\n",
    "plt.xlabel('N',**font2)\n",
    "plt.legend()\n",
    "plt.grid()\n",
    "plt.show()"
   ]
  },
  {
   "cell_type": "markdown",
   "metadata": {},
   "source": [
    "We can see that from $N=10^5$ the difference between the numerical integral using EVM and using quad is small. Let's calculate the error for each N using the integral of quad as the analytical value:"
   ]
  },
  {
   "cell_type": "code",
   "execution_count": 5,
   "metadata": {},
   "outputs": [
    {
     "data": {
      "text/html": [
       "<div>\n",
       "<style scoped>\n",
       "    .dataframe tbody tr th:only-of-type {\n",
       "        vertical-align: middle;\n",
       "    }\n",
       "\n",
       "    .dataframe tbody tr th {\n",
       "        vertical-align: top;\n",
       "    }\n",
       "\n",
       "    .dataframe thead th {\n",
       "        text-align: right;\n",
       "    }\n",
       "</style>\n",
       "<table border=\"1\" class=\"dataframe\">\n",
       "  <thead>\n",
       "    <tr style=\"text-align: right;\">\n",
       "      <th></th>\n",
       "      <th>N</th>\n",
       "      <th>Integral</th>\n",
       "      <th>Error</th>\n",
       "    </tr>\n",
       "  </thead>\n",
       "  <tbody>\n",
       "    <tr>\n",
       "      <th>0</th>\n",
       "      <td>10</td>\n",
       "      <td>5.911005</td>\n",
       "      <td>0.143571</td>\n",
       "    </tr>\n",
       "    <tr>\n",
       "      <th>1</th>\n",
       "      <td>100</td>\n",
       "      <td>5.826268</td>\n",
       "      <td>0.058834</td>\n",
       "    </tr>\n",
       "    <tr>\n",
       "      <th>2</th>\n",
       "      <td>1000</td>\n",
       "      <td>5.811913</td>\n",
       "      <td>0.044480</td>\n",
       "    </tr>\n",
       "    <tr>\n",
       "      <th>3</th>\n",
       "      <td>10000</td>\n",
       "      <td>5.756924</td>\n",
       "      <td>0.010510</td>\n",
       "    </tr>\n",
       "    <tr>\n",
       "      <th>4</th>\n",
       "      <td>100000</td>\n",
       "      <td>5.764322</td>\n",
       "      <td>0.003112</td>\n",
       "    </tr>\n",
       "    <tr>\n",
       "      <th>5</th>\n",
       "      <td>1000000</td>\n",
       "      <td>5.766630</td>\n",
       "      <td>0.000804</td>\n",
       "    </tr>\n",
       "  </tbody>\n",
       "</table>\n",
       "</div>"
      ],
      "text/plain": [
       "         N  Integral     Error\n",
       "0       10  5.911005  0.143571\n",
       "1      100  5.826268  0.058834\n",
       "2     1000  5.811913  0.044480\n",
       "3    10000  5.756924  0.010510\n",
       "4   100000  5.764322  0.003112\n",
       "5  1000000  5.766630  0.000804"
      ]
     },
     "execution_count": 5,
     "metadata": {},
     "output_type": "execute_result"
    }
   ],
   "source": [
    "import pandas as pd\n",
    "\n",
    "Dic={'N':list(N),'Integral':list(IMC),'Error':[np.abs(i-Iq) for i in IMC]}\n",
    "df=pd.DataFrame(Dic)\n",
    "df"
   ]
  },
  {
   "cell_type": "markdown",
   "metadata": {},
   "source": [
    "From N=100000 the approximation is very good."
   ]
  }
 ],
 "metadata": {
  "kernelspec": {
   "display_name": "Python 3",
   "language": "python",
   "name": "python3"
  },
  "language_info": {
   "codemirror_mode": {
    "name": "ipython",
    "version": 3
   },
   "file_extension": ".py",
   "mimetype": "text/x-python",
   "name": "python",
   "nbconvert_exporter": "python",
   "pygments_lexer": "ipython3",
   "version": "3.7.2"
  }
 },
 "nbformat": 4,
 "nbformat_minor": 4
}
