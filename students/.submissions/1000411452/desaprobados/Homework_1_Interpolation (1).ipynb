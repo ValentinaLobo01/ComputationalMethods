{
 "cells": [
  {
   "cell_type": "markdown",
   "metadata": {},
   "source": [
    "Homework 1:\n",
    "Generate a set of 𝑁 points of the function $sin^2(X)$, between $0$ and $2 \\pi$, including an array of 𝑥 positions, 𝑦=𝑓(𝑥) and first derivative 𝑦′=𝑓′(𝑥)\n",
    "\n",
    "Show which polynomial gives the best approximation to the real function, Hermite or Lagrange polynomial.\n",
    "\n",
    "Instructions:\n",
    "Below you will find some examples but try not to use the infamous copy and paste method. Use those as a reference. (Except the hermite polynomial routine (hdiff, hermite) which you can copy and paste)\n",
    "\n",
    "Useful examples:\n",
    "use as a reference , $\\color{red}{\\text{DO NOT COPY &amp; PASTE}}$ (except th Hermite functions - below)\n",
    "\n",
    "$\\color{red}{\\text{it's good to remember the most basic elements in Python (memorize how to make a simple plot, create array, import most common libraries) your experience with programming will be better. It's like speaking in foreign language without using the translator all the time.}}$\n"
   ]
  },
  {
   "cell_type": "code",
   "execution_count": 2,
   "metadata": {},
   "outputs": [],
   "source": [
    "import numpy as np\n",
    "from scipy import interpolate\n",
    "import matplotlib.pyplot as plt"
   ]
  },
  {
   "cell_type": "code",
   "execution_count": 39,
   "metadata": {},
   "outputs": [],
   "source": [
    "#Defino ambas funciones:\n",
    "\n",
    "def sin2(x):\n",
    "    '''\n",
    "    By default, the angle must be in degrees.\n",
    "    '''\n",
    "    return (np.sin(x))**2"
   ]
  },
  {
   "cell_type": "code",
   "execution_count": 5,
   "metadata": {},
   "outputs": [],
   "source": [
    "def fprime(x):\n",
    "    return np.sin(2*x)"
   ]
  },
  {
   "cell_type": "code",
   "execution_count": 29,
   "metadata": {},
   "outputs": [
    {
     "data": {
      "image/png": "[encoded data removed]",
      "text/plain": [
       "<Figure size 432x288 with 1 Axes>"
      ]
     },
     "metadata": {
      "needs_background": "light"
     },
     "output_type": "display_data"
    }
   ],
   "source": [
    "#Graphic\n",
    "x = np.linspace(0,2*np.pi,10) \n",
    "y = sin2(x)\n",
    "\n",
    "plt.plot(x,y)\n",
    "\n",
    "plt.ylim(-1,1)\n",
    "plt.grid()\n",
    "plt.show()"
   ]
  },
  {
   "cell_type": "markdown",
   "metadata": {},
   "source": [
    "$Lagrange\\ poly\\:\\$"
   ]
  },
  {
   "cell_type": "code",
   "execution_count": 22,
   "metadata": {},
   "outputs": [],
   "source": [
    "x = np.linspace(0, 2*np.pi,10)\n",
    "y = sin2(x)"
   ]
  },
  {
   "cell_type": "code",
   "execution_count": 23,
   "metadata": {},
   "outputs": [
    {
     "data": {
      "text/plain": [
       "poly1d([-1.62630326e-18, -1.25598518e-03,  3.15663505e-02, -3.13492883e-01,\n",
       "        1.54753814e+00, -3.89900431e+00,  4.56959609e+00, -2.02232705e+00,\n",
       "        7.84017877e-01,  0.00000000e+00])"
      ]
     },
     "execution_count": 23,
     "metadata": {},
     "output_type": "execute_result"
    }
   ],
   "source": [
    "lagrangepoly1 = interpolate.lagrange(x,y)\n",
    "lagrangepoly1"
   ]
  },
  {
   "cell_type": "markdown",
   "metadata": {},
   "source": [
    "$Graphic\\$"
   ]
  },
  {
   "cell_type": "code",
   "execution_count": 28,
   "metadata": {},
   "outputs": [
    {
     "data": {
      "image/png": "[encoded data removed]",
      "text/plain": [
       "<Figure size 432x288 with 1 Axes>"
      ]
     },
     "metadata": {
      "needs_background": "light"
     },
     "output_type": "display_data"
    }
   ],
   "source": [
    "#Graphic\n",
    "\n",
    "plt.plot(lagrangepoly1,'b')\n",
    "\n",
    "plt.grid()\n",
    "plt.show()"
   ]
  },
  {
   "cell_type": "markdown",
   "metadata": {},
   "source": [
    "$Hermite\\$"
   ]
  },
  {
   "cell_type": "code",
   "execution_count": 32,
   "metadata": {},
   "outputs": [],
   "source": [
    "#Función nuevamente definida\n",
    "\n",
    "x1 = np.linspace(0,2*np.pi,5) \n",
    "y1 = sin2(x)"
   ]
  },
  {
   "cell_type": "code",
   "execution_count": 35,
   "metadata": {},
   "outputs": [],
   "source": [
    "#Derivada\n",
    "x2 = np.linspace(0,2*np.pi,5)\n",
    "y2 = fprime(x1)\n",
    "Xdata = np.linspace(0,2*np.pi,10,endpoint=True)"
   ]
  },
  {
   "cell_type": "code",
   "execution_count": 38,
   "metadata": {},
   "outputs": [],
   "source": [
    "#Código implementado por el profesor en clase:\n",
    "\n",
    "def hdiff(x, y, yprime):\n",
    "    m = x.size # here m is the number of data points. Note n=m-1\n",
    "# and 2n+1=2m-1\n",
    "    l = 2*m\n",
    "    z = np.zeros(l)\n",
    "    a = np.zeros(l)\n",
    "    for i in range(m):\n",
    "        z[2*i] = x[i]\n",
    "        z[2*i+1] = x[i]\n",
    "    for i in range(m):\n",
    "        a[2*i] = y[i]\n",
    "        a[2*i+1] = y[i]\n",
    "    for i in np.flip(np.arange(1, m)): # computes the first divided\n",
    "# differences using derivatives\n",
    "       a[2*i+1] = yprime[i]\n",
    "       a[2*i] = (a[2*i]-a[2*i-1]) / (z[2*i]-z[2*i-1])\n",
    "    a[1] = yprime[0]\n",
    "    for j in range(2, l): # computes the rest of the divided differences\n",
    "        for i in np.flip(np.arange(j, l)):\n",
    "            a[i]=(a[i]-a[i-1]) / (z[i]-z[i-j])\n",
    "    return a\n",
    "    \n",
    "def hermite(x, y, yprime, w):\n",
    "    m = x.size # here m is the number of data points. not the\n",
    "    # degree of the polynomial\n",
    "    a = hdiff(x, y, yprime)\n",
    "    z = np.zeros(2*m)\n",
    "    for i in range(m):\n",
    "        z[2*i] = x[i]\n",
    "        z[2*i+1] = x[i]\n",
    "    sum = a[0]\n",
    "    pr = 1.0\n",
    "    for j in range(2*m-1):\n",
    "        pr *= w-z[j]\n",
    "        sum += a[j+1]*pr\n",
    "    return sum \n",
    "\n",
    "#Hinterp = hermite(x, y, yprime, xdata)"
   ]
  },
  {
   "cell_type": "code",
   "execution_count": 36,
   "metadata": {},
   "outputs": [
    {
     "data": {
      "text/plain": [
       "array([0.00000000e+00, 3.53656904e-01, 9.67030597e-01, 7.39905276e-01,\n",
       "       1.12773247e-01, 1.12773247e-01, 7.39905276e-01, 9.67030597e-01,\n",
       "       3.53656904e-01, 3.90798505e-14])"
      ]
     },
     "execution_count": 36,
     "metadata": {},
     "output_type": "execute_result"
    }
   ],
   "source": [
    "Hinterp = hermite(x1, y1, y2, Xdata)\n",
    "Hinterp"
   ]
  },
  {
   "cell_type": "code",
   "execution_count": 37,
   "metadata": {},
   "outputs": [
    {
     "data": {
      "text/plain": [
       "[<matplotlib.lines.Line2D at 0x1ba81bc3b50>]"
      ]
     },
     "execution_count": 37,
     "metadata": {},
     "output_type": "execute_result"
    },
    {
     "data": {
      "image/png": "[encoded data removed]",
      "text/plain": [
       "<Figure size 432x288 with 1 Axes>"
      ]
     },
     "metadata": {
      "needs_background": "light"
     },
     "output_type": "display_data"
    }
   ],
   "source": [
    "plt.plot(Hinterp)"
   ]
  },
  {
   "cell_type": "markdown",
   "metadata": {},
   "source": [
    "$Es\\ posible\\ notar\\ que\\ aproxima\\ mejor\\ el\\ polinomio\\ de\\ Hermite\\$"
   ]
  },
  {
   "cell_type": "code",
   "execution_count": null,
   "metadata": {},
   "outputs": [],
   "source": []
  }
 ],
 "metadata": {
  "kernelspec": {
   "display_name": "Python 3",
   "language": "python",
   "name": "python3"
  },
  "language_info": {
   "codemirror_mode": {
    "name": "ipython",
    "version": 3
   },
   "file_extension": ".py",
   "mimetype": "text/x-python",
   "name": "python",
   "nbconvert_exporter": "python",
   "pygments_lexer": "ipython3",
   "version": "3.8.5"
  }
 },
 "nbformat": 4,
 "nbformat_minor": 4
}
