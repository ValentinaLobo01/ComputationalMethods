{
 "cells": [
  {
   "cell_type": "markdown",
   "metadata": {},
   "source": [
    "\n",
    "Homework: Least Action using Minimization\n",
    "Use function \"minimize from scipy.optimize\" and the method called ‘SLSQP’ to minimize: the action S.\n",
    "\n",
    "This task is basically identical to the example from the class. Use the same parameters (t=3.0,m=0.2 n=21) and both functions: xfit() and S().\n",
    "\n",
    "For more details on the scipy.optimize.minimize read the documentation:\n",
    "\n",
    "https://docs.scipy.org/doc/scipy/reference/generated/scipy.optimize.minimize.html\n",
    "\n",
    "Please note that the output of this function is different that from the \"optimize.fmin_powell\" that we did in the class\n",
    "\n",
    "here: obj = scipy.optimize.minimize(...)\n",
    "the output of the process is an object (obj) so to access the information of the minimization you can type:\n",
    "\n",
    "print(obj), or print(dir(obj))\n",
    "look at the attributes (x, success, status, message, fun)\n",
    "then choose the attribute you are interested in, example:\n",
    "print(obj.message)\n",
    "\n",
    "details on the attributes are here: https://docs.scipy.org/doc/scipy/reference/generated/scipy.optimize.OptimizeResult.html#scipy.optimize.OptimizeResult)\n",
    "\n",
    "compare by plotting the two minimization routines, the one from the class \"optimize.fmin_powell\" with \"scipy.optimize.minimize\""
   ]
  },
  {
   "cell_type": "code",
   "execution_count": 8,
   "metadata": {},
   "outputs": [],
   "source": [
    "#Solución"
   ]
  },
  {
   "cell_type": "markdown",
   "metadata": {},
   "source": [
    "Problem: Let an object of mass $m=0.2$ Kg be thrown vertically updward and returning back to the same hand after 3 s. Find the function of distance versus time of least Action.\n",
    "\n",
    "If we denote the height at time $t_i$ as $x_i=x(t_i)$, we can calculate the action for any set of $x_i$ points with the inititial and final points fixed at $0\\ $m.\n",
    "\n",
    "In other words, what is the $x(t)$ that minimizes $S$"
   ]
  },
  {
   "cell_type": "code",
   "execution_count": 46,
   "metadata": {},
   "outputs": [],
   "source": [
    "import scipy\n",
    "from scipy import optimize\n",
    "from scipy import interpolate\n",
    "from scipy.optimize import minimize\n",
    "import numpy as np\n",
    "import matplotlib.pyplot as plt"
   ]
  },
  {
   "cell_type": "markdown",
   "metadata": {},
   "source": [
    "**With optimize.fmin_powell**"
   ]
  },
  {
   "cell_type": "code",
   "execution_count": 40,
   "metadata": {},
   "outputs": [],
   "source": [
    "#From class:\n",
    "\n",
    "def S(x,tend=3.,m=0.2,xini=0.,xend=0.):\n",
    "    x=np.asarray(x)\n",
    "    Dt=tend/x[:-1].size\n",
    "    #Fix initial and final point\n",
    "    x[0]=xini\n",
    "    x[-1]=xend\n",
    "    return ( (0.5*m*(x[1:]-x[:-1])**2/Dt**2-0.5*m*g*(x[1:]+x[:-1]) )*Dt).sum()"
   ]
  },
  {
   "cell_type": "code",
   "execution_count": 41,
   "metadata": {},
   "outputs": [],
   "source": [
    "def xfit(n,t=3.,m=0.2,xini=0.,xend=0.,ftol=1E-8):\n",
    "    \n",
    "    t=float(t)\n",
    "    if n%2==0:\n",
    "        print ( 'x array must be odd')\n",
    "        sys.exit()\n",
    "    x0=np.zeros(n)\n",
    "    a = optimize.fmin_powell(S,x0,args=(t,m,xini,xend),ftol=ftol,full_output=1) \n",
    "    x=a[0]\n",
    "    x[0]=xini;x[-1]=xend\n",
    "    xmax=np.sort(x)[-1]\n",
    "    Smin=a[1]\n",
    "    Dt=t/x[:-1].size #  t/(n-1)\n",
    "    return x,xmax,Smin,Dt"
   ]
  },
  {
   "cell_type": "code",
   "execution_count": 42,
   "metadata": {},
   "outputs": [
    {
     "name": "stdout",
     "output_type": "stream",
     "text": [
      "Optimization terminated successfully.\n",
      "         Current function value: -21.554977\n",
      "         Iterations: 28\n",
      "         Function evaluations: 5837\n",
      "(array([ 0.        ,  2.09485981,  3.96927762,  5.62312695,  7.05635241,\n",
      "        8.26906363,  9.26154883, 10.03312026, 10.58423427, 10.91506033,\n",
      "       11.02529045, 10.91501183, 10.58427987, 10.03303519,  9.26102159,\n",
      "        8.26869546,  7.05596305,  5.62273064,  3.9689361 ,  2.09464162,\n",
      "        0.        ]), 11.025290448185725, -21.55497732876534, 0.15)\n"
     ]
    }
   ],
   "source": [
    "t=3.0\n",
    "m=0.2\n",
    "g = 9.8\n",
    "n=21\n",
    "y=xfit(21,t,m)\n",
    "\n",
    "#y=xfit(21)\n",
    "print(y)"
   ]
  },
  {
   "cell_type": "code",
   "execution_count": 56,
   "metadata": {},
   "outputs": [],
   "source": [
    "x=y[0]\n",
    "xmax=y[1]\n",
    "Smin=y[2]\n",
    "Dt=y[3]\n",
    "tx=np.arange(0,t+Dt,Dt)\n",
    "#print(Smin)"
   ]
  },
  {
   "cell_type": "code",
   "execution_count": 53,
   "metadata": {},
   "outputs": [
    {
     "data": {
      "image/png": "[encoded data removed]",
      "text/plain": [
       "<Figure size 432x288 with 1 Axes>"
      ]
     },
     "metadata": {
      "needs_background": "light"
     },
     "output_type": "display_data"
    }
   ],
   "source": [
    "# plotting the results: of class\n",
    "\n",
    "plt.plot(tx,x)\n",
    "plt.plot(tx,x,'ro')\n",
    "plt.ylabel('HEIGHT meters')\n",
    "plt.xlabel('TIME seconds')\n",
    "plt.title('Worldline of least action')\n",
    "plt.grid()"
   ]
  },
  {
   "cell_type": "markdown",
   "metadata": {},
   "source": [
    "**With scipy.optimize.minimize**"
   ]
  },
  {
   "cell_type": "code",
   "execution_count": 15,
   "metadata": {},
   "outputs": [
    {
     "data": {
      "text/plain": [
       "     fun: -21.554977470134183\n",
       "     jac: array([ 0.00000000e+00,  1.25169754e-04, -1.52587891e-05, -7.62939453e-06,\n",
       "       -8.15391541e-05,  1.61170959e-04, -8.41617584e-05,  4.38690186e-05,\n",
       "       -1.12056732e-05, -6.79492950e-05, -4.76837158e-07, -6.84261322e-05,\n",
       "       -9.77516174e-06,  4.22000885e-05, -8.32080841e-05,  1.58071518e-04,\n",
       "       -7.43865967e-05, -1.64508820e-05, -8.10623169e-06,  1.20639801e-04,\n",
       "        0.00000000e+00])\n",
       " message: 'Optimization terminated successfully'\n",
       "    nfev: 326\n",
       "     nit: 14\n",
       "    njev: 14\n",
       "  status: 0\n",
       " success: True\n",
       "       x: array([1.01451261e-15, 2.09479625e+00, 3.96899864e+00, 5.62271249e+00,\n",
       "       7.05593218e+00, 8.26871297e+00, 9.26087282e+00, 1.00325958e+01,\n",
       "       1.05837860e+01, 1.09144847e+01, 1.10247345e+01, 1.09144847e+01,\n",
       "       1.05837862e+01, 1.00325952e+01, 9.26087246e+00, 8.26871223e+00,\n",
       "       7.05593341e+00, 5.62271053e+00, 3.96899997e+00, 2.09479527e+00,\n",
       "       0.00000000e+00])"
      ]
     },
     "execution_count": 15,
     "metadata": {},
     "output_type": "execute_result"
    }
   ],
   "source": [
    "#Función\n",
    "x0 = np.zeros(n)\n",
    "\n",
    "ob =  minimize(S,x0,args=(t,m),method='SLSQP')\n",
    "ob"
   ]
  },
  {
   "cell_type": "code",
   "execution_count": 59,
   "metadata": {},
   "outputs": [
    {
     "name": "stdout",
     "output_type": "stream",
     "text": [
      "<class 'scipy.optimize.optimize.OptimizeResult'>\n",
      "Optimization terminated successfully\n",
      "[1.01451261e-15 2.09479625e+00 3.96899864e+00 5.62271249e+00\n",
      " 7.05593218e+00 8.26871297e+00 9.26087282e+00 1.00325958e+01\n",
      " 1.05837860e+01 1.09144847e+01 1.10247345e+01 1.09144847e+01\n",
      " 1.05837862e+01 1.00325952e+01 9.26087246e+00 8.26871223e+00\n",
      " 7.05593341e+00 5.62271053e+00 3.96899997e+00 2.09479527e+00\n",
      " 0.00000000e+00]\n"
     ]
    }
   ],
   "source": [
    "#Some methods\n",
    "print(type(ob))\n",
    "print(ob.message) \n",
    "print(ob.x)"
   ]
  },
  {
   "cell_type": "code",
   "execution_count": 58,
   "metadata": {},
   "outputs": [
    {
     "data": {
      "image/png": "[encoded data removed]",
      "text/plain": [
       "<Figure size 432x288 with 1 Axes>"
      ]
     },
     "metadata": {
      "needs_background": "light"
     },
     "output_type": "display_data"
    }
   ],
   "source": [
    "#Plotting the attribute \"x\" of the object.\n",
    "\n",
    "plt.plot(ob.x)\n",
    "plt.ylabel('HEIGHT meters')\n",
    "plt.xlabel('TIME seconds')\n",
    "plt.title('Worldline of least action')\n",
    "plt.grid()"
   ]
  },
  {
   "cell_type": "code",
   "execution_count": null,
   "metadata": {},
   "outputs": [],
   "source": []
  }
 ],
 "metadata": {
  "kernelspec": {
   "display_name": "Python 3",
   "language": "python",
   "name": "python3"
  },
  "language_info": {
   "codemirror_mode": {
    "name": "ipython",
    "version": 3
   },
   "file_extension": ".py",
   "mimetype": "text/x-python",
   "name": "python",
   "nbconvert_exporter": "python",
   "pygments_lexer": "ipython3",
   "version": "3.7.2"
  }
 },
 "nbformat": 4,
 "nbformat_minor": 4
}
