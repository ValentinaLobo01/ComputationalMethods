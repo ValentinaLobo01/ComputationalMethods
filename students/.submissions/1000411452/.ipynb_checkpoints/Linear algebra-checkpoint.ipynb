{
 "cells": [
  {
   "cell_type": "code",
   "execution_count": 1,
   "id": "802dd7e4",
   "metadata": {},
   "outputs": [],
   "source": [
    "import numpy as np"
   ]
  },
  {
   "cell_type": "code",
   "execution_count": 7,
   "id": "fa917308",
   "metadata": {},
   "outputs": [
    {
     "name": "stdout",
     "output_type": "stream",
     "text": [
      "A = [[-1 -2 -3  0  0  0]\n",
      " [ 0  2  0 -4  0  0]\n",
      " [ 0  0  3  0 -5  0]\n",
      " [ 1  0 -1  0 -1  0]\n",
      " [-1  1  0  1  0  0]\n",
      " [ 0  0  0 -1  1  1]]\n",
      "b = [[-10]\n",
      " [-40]\n",
      " [ 40]\n",
      " [  0]\n",
      " [  0]\n",
      " [  0]]\n"
     ]
    }
   ],
   "source": [
    "#Matriz aumentada\n",
    "A = np.array( [[ -1 ,-2, -3, 0, 0, 0],\n",
    "                [0 , 2, 0, -4, 0, 0],\n",
    "                [0 , 0, 3, 0, -5, 0],\n",
    "                [1, 0, -1, 0, -1, 0],\n",
    "                [-1, 1, 0, 1, 0, 0 ],\n",
    "                [0, 0, 0, -1, 1, 1 ]] )\n",
    "print(f\"A = {A}\")\n",
    "\n",
    "b = np.array([[-10],\n",
    "             [-40],\n",
    "             [40],\n",
    "             [0],\n",
    "             [0],\n",
    "             [0]])\n",
    "\n",
    "print(f\"b = {b}\")"
   ]
  },
  {
   "cell_type": "code",
   "execution_count": 8,
   "id": "fc869917",
   "metadata": {},
   "outputs": [
    {
     "name": "stdout",
     "output_type": "stream",
     "text": [
      "[[ 1.98019802]\n",
      " [-5.34653465]\n",
      " [ 6.23762376]\n",
      " [ 7.32673267]\n",
      " [-4.25742574]\n",
      " [11.58415842]]\n"
     ]
    }
   ],
   "source": [
    "#Solving the equations:\n",
    "x=np.linalg.solve(A, b)\n",
    "print(x)"
   ]
  },
  {
   "cell_type": "code",
   "execution_count": null,
   "id": "9520cd73",
   "metadata": {},
   "outputs": [],
   "source": []
  }
 ],
 "metadata": {
  "kernelspec": {
   "display_name": "Python 3",
   "language": "python",
   "name": "python3"
  },
  "language_info": {
   "codemirror_mode": {
    "name": "ipython",
    "version": 3
   },
   "file_extension": ".py",
   "mimetype": "text/x-python",
   "name": "python",
   "nbconvert_exporter": "python",
   "pygments_lexer": "ipython3",
   "version": "3.7.2"
  }
 },
 "nbformat": 4,
 "nbformat_minor": 5
}
